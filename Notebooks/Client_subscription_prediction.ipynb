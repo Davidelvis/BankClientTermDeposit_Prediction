{
  "nbformat": 4,
  "nbformat_minor": 0,
  "metadata": {
    "colab": {
      "name": "Client_subscription_prediction.ipynb",
      "provenance": [],
      "toc_visible": true
    },
    "kernelspec": {
      "name": "python3",
      "display_name": "Python 3"
    }
  },
  "cells": [
    {
      "cell_type": "code",
      "metadata": {
        "id": "Ptp1Q0F2S_zV",
        "colab_type": "code",
        "colab": {}
      },
      "source": [
        "!pip freeze > requirements.txt"
      ],
      "execution_count": 1,
      "outputs": []
    },
    {
      "cell_type": "code",
      "metadata": {
        "id": "OGnOxw309q5c",
        "colab_type": "code",
        "colab": {}
      },
      "source": [
        "!pip install pandas.tools\n",
        "!pip install category_encoders\n",
        "# linear algebra and data processing\n",
        "import numpy as np\n",
        "import pandas as pd\n",
        "from numpy import array\n",
        "from numpy import argmax \n",
        "from pandas import DataFrame\n",
        "\n",
        "#visualisations\n",
        "import seaborn as sns\n",
        "import matplotlib.pyplot as plt\n",
        "\n",
        "# data preprocessing\n",
        "from sklearn.impute import SimpleImputer\n",
        "from sklearn.preprocessing import LabelEncoder, OneHotEncoder, StandardScaler\n",
        "from sklearn.compose import ColumnTransformer\n",
        "from sklearn.pipeline import Pipeline\n",
        "from imblearn.over_sampling import SMOTE\n",
        "from imblearn.over_sampling import RandomOverSampler\n",
        "from sklearn.preprocessing import RobustScaler\n",
        "from collections import Counter\n",
        "from sklearn.model_selection import train_test_split\n",
        "from sklearn.model_selection import GridSearchCV, RandomizedSearchCV\n",
        "from scipy.stats import uniform\n",
        "from sklearn import preprocessing\n",
        "from sklearn.decomposition import PCA\n",
        "import category_encoders as ce\n",
        "from pandas import set_option\n",
        "from sklearn.model_selection import KFold\n",
        "from sklearn.model_selection import StratifiedKFold\n",
        "from sklearn.model_selection import cross_val_score\n",
        "from sklearn.model_selection import GridSearchCV\n",
        "from sklearn.metrics import classification_report\n",
        "from sklearn.metrics import confusion_matrix\n",
        "from sklearn.metrics import accuracy_score\n",
        "from sklearn.pipeline import Pipeline\n",
        "from sklearn.linear_model import LogisticRegression\n",
        "from sklearn.tree import DecisionTreeClassifier\n",
        "from sklearn.neighbors import KNeighborsClassifier\n",
        "from sklearn.discriminant_analysis import LinearDiscriminantAnalysis\n",
        "from sklearn.naive_bayes import GaussianNB\n",
        "from sklearn.svm import SVC\n",
        "from sklearn.ensemble import AdaBoostClassifier\n",
        "from sklearn.ensemble import GradientBoostingClassifier\n",
        "from sklearn.ensemble import RandomForestClassifier\n",
        "from sklearn.ensemble import ExtraTreesClassifier\n",
        "from sklearn.metrics import roc_curve\n",
        "from sklearn.metrics import roc_auc_score\n",
        "from matplotlib import pyplot\n",
        "import xgboost \n",
        "from xgboost import XGBClassifier\n",
        "from sklearn import metrics\n",
        "\n",
        "\n",
        "\n",
        "# math and statistics\n",
        "from scipy import stats\n",
        "from scipy.stats import skew, norm\n",
        "from scipy.special import boxcox1p\n",
        "from scipy.stats import boxcox_normmax\n",
        "\n",
        "# ignnore warnings\n",
        "import warnings\n",
        "warnings.filterwarnings(action=\"ignore\")"
      ],
      "execution_count": null,
      "outputs": []
    },
    {
      "cell_type": "code",
      "metadata": {
        "id": "KkVTvTwNAw19",
        "colab_type": "code",
        "colab": {}
      },
      "source": [
        "# Always good to set a seed for reproducibility\n",
        "SEED = 7\n",
        "np.random.seed(SEED)"
      ],
      "execution_count": 3,
      "outputs": []
    },
    {
      "cell_type": "markdown",
      "metadata": {
        "id": "6bYnQbsx1pa2",
        "colab_type": "text"
      },
      "source": [
        "**LOading our Bank Dataset**"
      ]
    },
    {
      "cell_type": "code",
      "metadata": {
        "id": "hR6aoSoI_MY_",
        "colab_type": "code",
        "colab": {
          "base_uri": "https://localhost:8080/",
          "height": 34
        },
        "outputId": "cc0e875a-4525-4cb9-c099-b40049b20e23"
      },
      "source": [
        "#Loading data\n",
        "data=pd.read_csv('/content/drive/My Drive/bank-additional-full.csv',sep=\";\")\n",
        "print(\"The data has {} rows with {} features/columns\".format(data.shape[0], data.shape[1])) #Viewing the shape our dataset"
      ],
      "execution_count": 4,
      "outputs": [
        {
          "output_type": "stream",
          "text": [
            "The data has 41188 rows with 21 features/columns\n"
          ],
          "name": "stdout"
        }
      ]
    },
    {
      "cell_type": "code",
      "metadata": {
        "id": "Y5RCkIr7_lRO",
        "colab_type": "code",
        "colab": {
          "base_uri": "https://localhost:8080/",
          "height": 217
        },
        "outputId": "3ee47bdc-039c-42a6-85d7-4e839365b8cb"
      },
      "source": [
        "#Viewing the first five rows of our dataset\n",
        "data.head()"
      ],
      "execution_count": 5,
      "outputs": [
        {
          "output_type": "execute_result",
          "data": {
            "text/html": [
              "<div>\n",
              "<style scoped>\n",
              "    .dataframe tbody tr th:only-of-type {\n",
              "        vertical-align: middle;\n",
              "    }\n",
              "\n",
              "    .dataframe tbody tr th {\n",
              "        vertical-align: top;\n",
              "    }\n",
              "\n",
              "    .dataframe thead th {\n",
              "        text-align: right;\n",
              "    }\n",
              "</style>\n",
              "<table border=\"1\" class=\"dataframe\">\n",
              "  <thead>\n",
              "    <tr style=\"text-align: right;\">\n",
              "      <th></th>\n",
              "      <th>age</th>\n",
              "      <th>job</th>\n",
              "      <th>marital</th>\n",
              "      <th>education</th>\n",
              "      <th>default</th>\n",
              "      <th>housing</th>\n",
              "      <th>loan</th>\n",
              "      <th>contact</th>\n",
              "      <th>month</th>\n",
              "      <th>day_of_week</th>\n",
              "      <th>duration</th>\n",
              "      <th>campaign</th>\n",
              "      <th>pdays</th>\n",
              "      <th>previous</th>\n",
              "      <th>poutcome</th>\n",
              "      <th>emp.var.rate</th>\n",
              "      <th>cons.price.idx</th>\n",
              "      <th>cons.conf.idx</th>\n",
              "      <th>euribor3m</th>\n",
              "      <th>nr.employed</th>\n",
              "      <th>y</th>\n",
              "    </tr>\n",
              "  </thead>\n",
              "  <tbody>\n",
              "    <tr>\n",
              "      <th>0</th>\n",
              "      <td>56</td>\n",
              "      <td>housemaid</td>\n",
              "      <td>married</td>\n",
              "      <td>basic.4y</td>\n",
              "      <td>no</td>\n",
              "      <td>no</td>\n",
              "      <td>no</td>\n",
              "      <td>telephone</td>\n",
              "      <td>may</td>\n",
              "      <td>mon</td>\n",
              "      <td>261</td>\n",
              "      <td>1</td>\n",
              "      <td>999</td>\n",
              "      <td>0</td>\n",
              "      <td>nonexistent</td>\n",
              "      <td>1.1</td>\n",
              "      <td>93.994</td>\n",
              "      <td>-36.4</td>\n",
              "      <td>4.857</td>\n",
              "      <td>5191.0</td>\n",
              "      <td>no</td>\n",
              "    </tr>\n",
              "    <tr>\n",
              "      <th>1</th>\n",
              "      <td>57</td>\n",
              "      <td>services</td>\n",
              "      <td>married</td>\n",
              "      <td>high.school</td>\n",
              "      <td>unknown</td>\n",
              "      <td>no</td>\n",
              "      <td>no</td>\n",
              "      <td>telephone</td>\n",
              "      <td>may</td>\n",
              "      <td>mon</td>\n",
              "      <td>149</td>\n",
              "      <td>1</td>\n",
              "      <td>999</td>\n",
              "      <td>0</td>\n",
              "      <td>nonexistent</td>\n",
              "      <td>1.1</td>\n",
              "      <td>93.994</td>\n",
              "      <td>-36.4</td>\n",
              "      <td>4.857</td>\n",
              "      <td>5191.0</td>\n",
              "      <td>no</td>\n",
              "    </tr>\n",
              "    <tr>\n",
              "      <th>2</th>\n",
              "      <td>37</td>\n",
              "      <td>services</td>\n",
              "      <td>married</td>\n",
              "      <td>high.school</td>\n",
              "      <td>no</td>\n",
              "      <td>yes</td>\n",
              "      <td>no</td>\n",
              "      <td>telephone</td>\n",
              "      <td>may</td>\n",
              "      <td>mon</td>\n",
              "      <td>226</td>\n",
              "      <td>1</td>\n",
              "      <td>999</td>\n",
              "      <td>0</td>\n",
              "      <td>nonexistent</td>\n",
              "      <td>1.1</td>\n",
              "      <td>93.994</td>\n",
              "      <td>-36.4</td>\n",
              "      <td>4.857</td>\n",
              "      <td>5191.0</td>\n",
              "      <td>no</td>\n",
              "    </tr>\n",
              "    <tr>\n",
              "      <th>3</th>\n",
              "      <td>40</td>\n",
              "      <td>admin.</td>\n",
              "      <td>married</td>\n",
              "      <td>basic.6y</td>\n",
              "      <td>no</td>\n",
              "      <td>no</td>\n",
              "      <td>no</td>\n",
              "      <td>telephone</td>\n",
              "      <td>may</td>\n",
              "      <td>mon</td>\n",
              "      <td>151</td>\n",
              "      <td>1</td>\n",
              "      <td>999</td>\n",
              "      <td>0</td>\n",
              "      <td>nonexistent</td>\n",
              "      <td>1.1</td>\n",
              "      <td>93.994</td>\n",
              "      <td>-36.4</td>\n",
              "      <td>4.857</td>\n",
              "      <td>5191.0</td>\n",
              "      <td>no</td>\n",
              "    </tr>\n",
              "    <tr>\n",
              "      <th>4</th>\n",
              "      <td>56</td>\n",
              "      <td>services</td>\n",
              "      <td>married</td>\n",
              "      <td>high.school</td>\n",
              "      <td>no</td>\n",
              "      <td>no</td>\n",
              "      <td>yes</td>\n",
              "      <td>telephone</td>\n",
              "      <td>may</td>\n",
              "      <td>mon</td>\n",
              "      <td>307</td>\n",
              "      <td>1</td>\n",
              "      <td>999</td>\n",
              "      <td>0</td>\n",
              "      <td>nonexistent</td>\n",
              "      <td>1.1</td>\n",
              "      <td>93.994</td>\n",
              "      <td>-36.4</td>\n",
              "      <td>4.857</td>\n",
              "      <td>5191.0</td>\n",
              "      <td>no</td>\n",
              "    </tr>\n",
              "  </tbody>\n",
              "</table>\n",
              "</div>"
            ],
            "text/plain": [
              "   age        job  marital  ... euribor3m nr.employed   y\n",
              "0   56  housemaid  married  ...     4.857      5191.0  no\n",
              "1   57   services  married  ...     4.857      5191.0  no\n",
              "2   37   services  married  ...     4.857      5191.0  no\n",
              "3   40     admin.  married  ...     4.857      5191.0  no\n",
              "4   56   services  married  ...     4.857      5191.0  no\n",
              "\n",
              "[5 rows x 21 columns]"
            ]
          },
          "metadata": {
            "tags": []
          },
          "execution_count": 5
        }
      ]
    },
    {
      "cell_type": "markdown",
      "metadata": {
        "id": "GPw-wZSpB_GT",
        "colab_type": "text"
      },
      "source": [
        "**Data Features**"
      ]
    },
    {
      "cell_type": "code",
      "metadata": {
        "id": "SsdRZPhH_nQZ",
        "colab_type": "code",
        "colab": {
          "base_uri": "https://localhost:8080/",
          "height": 514
        },
        "outputId": "55ec2b08-711d-4678-d2ca-d48bfe7d8c42"
      },
      "source": [
        "\n",
        "# quick peak\n",
        "\n",
        "data.info()"
      ],
      "execution_count": 6,
      "outputs": [
        {
          "output_type": "stream",
          "text": [
            "<class 'pandas.core.frame.DataFrame'>\n",
            "RangeIndex: 41188 entries, 0 to 41187\n",
            "Data columns (total 21 columns):\n",
            " #   Column          Non-Null Count  Dtype  \n",
            "---  ------          --------------  -----  \n",
            " 0   age             41188 non-null  int64  \n",
            " 1   job             41188 non-null  object \n",
            " 2   marital         41188 non-null  object \n",
            " 3   education       41188 non-null  object \n",
            " 4   default         41188 non-null  object \n",
            " 5   housing         41188 non-null  object \n",
            " 6   loan            41188 non-null  object \n",
            " 7   contact         41188 non-null  object \n",
            " 8   month           41188 non-null  object \n",
            " 9   day_of_week     41188 non-null  object \n",
            " 10  duration        41188 non-null  int64  \n",
            " 11  campaign        41188 non-null  int64  \n",
            " 12  pdays           41188 non-null  int64  \n",
            " 13  previous        41188 non-null  int64  \n",
            " 14  poutcome        41188 non-null  object \n",
            " 15  emp.var.rate    41188 non-null  float64\n",
            " 16  cons.price.idx  41188 non-null  float64\n",
            " 17  cons.conf.idx   41188 non-null  float64\n",
            " 18  euribor3m       41188 non-null  float64\n",
            " 19  nr.employed     41188 non-null  float64\n",
            " 20  y               41188 non-null  object \n",
            "dtypes: float64(5), int64(5), object(11)\n",
            "memory usage: 6.6+ MB\n"
          ],
          "name": "stdout"
        }
      ]
    },
    {
      "cell_type": "markdown",
      "metadata": {
        "id": "xI9H_MpeMQ67",
        "colab_type": "text"
      },
      "source": [
        "**Checking if there are missing values**"
      ]
    },
    {
      "cell_type": "code",
      "metadata": {
        "id": "PyZGTu6XMXgD",
        "colab_type": "code",
        "colab": {
          "base_uri": "https://localhost:8080/",
          "height": 34
        },
        "outputId": "bbf4e7ae-732e-4e8e-d07a-03d1f75a5bc1"
      },
      "source": [
        "print(\"The number of missing value(s): {}\".format(data.isnull().sum().sum()))"
      ],
      "execution_count": 7,
      "outputs": [
        {
          "output_type": "stream",
          "text": [
            "The number of missing value(s): 0\n"
          ],
          "name": "stdout"
        }
      ]
    },
    {
      "cell_type": "markdown",
      "metadata": {
        "id": "iBmkZT17KyVh",
        "colab_type": "text"
      },
      "source": [
        "## **Data Exploration**"
      ]
    },
    {
      "cell_type": "code",
      "metadata": {
        "id": "oWH7NMoGMp1T",
        "colab_type": "code",
        "colab": {
          "base_uri": "https://localhost:8080/",
          "height": 347
        },
        "outputId": "baea6174-473c-4eef-8e5d-5dfa781f30d3"
      },
      "source": [
        "data.select_dtypes(include=[\"int64\", \"float64\"]).describe().T"
      ],
      "execution_count": 8,
      "outputs": [
        {
          "output_type": "execute_result",
          "data": {
            "text/html": [
              "<div>\n",
              "<style scoped>\n",
              "    .dataframe tbody tr th:only-of-type {\n",
              "        vertical-align: middle;\n",
              "    }\n",
              "\n",
              "    .dataframe tbody tr th {\n",
              "        vertical-align: top;\n",
              "    }\n",
              "\n",
              "    .dataframe thead th {\n",
              "        text-align: right;\n",
              "    }\n",
              "</style>\n",
              "<table border=\"1\" class=\"dataframe\">\n",
              "  <thead>\n",
              "    <tr style=\"text-align: right;\">\n",
              "      <th></th>\n",
              "      <th>count</th>\n",
              "      <th>mean</th>\n",
              "      <th>std</th>\n",
              "      <th>min</th>\n",
              "      <th>25%</th>\n",
              "      <th>50%</th>\n",
              "      <th>75%</th>\n",
              "      <th>max</th>\n",
              "    </tr>\n",
              "  </thead>\n",
              "  <tbody>\n",
              "    <tr>\n",
              "      <th>age</th>\n",
              "      <td>41188.0</td>\n",
              "      <td>40.024060</td>\n",
              "      <td>10.421250</td>\n",
              "      <td>17.000</td>\n",
              "      <td>32.000</td>\n",
              "      <td>38.000</td>\n",
              "      <td>47.000</td>\n",
              "      <td>98.000</td>\n",
              "    </tr>\n",
              "    <tr>\n",
              "      <th>duration</th>\n",
              "      <td>41188.0</td>\n",
              "      <td>258.285010</td>\n",
              "      <td>259.279249</td>\n",
              "      <td>0.000</td>\n",
              "      <td>102.000</td>\n",
              "      <td>180.000</td>\n",
              "      <td>319.000</td>\n",
              "      <td>4918.000</td>\n",
              "    </tr>\n",
              "    <tr>\n",
              "      <th>campaign</th>\n",
              "      <td>41188.0</td>\n",
              "      <td>2.567593</td>\n",
              "      <td>2.770014</td>\n",
              "      <td>1.000</td>\n",
              "      <td>1.000</td>\n",
              "      <td>2.000</td>\n",
              "      <td>3.000</td>\n",
              "      <td>56.000</td>\n",
              "    </tr>\n",
              "    <tr>\n",
              "      <th>pdays</th>\n",
              "      <td>41188.0</td>\n",
              "      <td>962.475454</td>\n",
              "      <td>186.910907</td>\n",
              "      <td>0.000</td>\n",
              "      <td>999.000</td>\n",
              "      <td>999.000</td>\n",
              "      <td>999.000</td>\n",
              "      <td>999.000</td>\n",
              "    </tr>\n",
              "    <tr>\n",
              "      <th>previous</th>\n",
              "      <td>41188.0</td>\n",
              "      <td>0.172963</td>\n",
              "      <td>0.494901</td>\n",
              "      <td>0.000</td>\n",
              "      <td>0.000</td>\n",
              "      <td>0.000</td>\n",
              "      <td>0.000</td>\n",
              "      <td>7.000</td>\n",
              "    </tr>\n",
              "    <tr>\n",
              "      <th>emp.var.rate</th>\n",
              "      <td>41188.0</td>\n",
              "      <td>0.081886</td>\n",
              "      <td>1.570960</td>\n",
              "      <td>-3.400</td>\n",
              "      <td>-1.800</td>\n",
              "      <td>1.100</td>\n",
              "      <td>1.400</td>\n",
              "      <td>1.400</td>\n",
              "    </tr>\n",
              "    <tr>\n",
              "      <th>cons.price.idx</th>\n",
              "      <td>41188.0</td>\n",
              "      <td>93.575664</td>\n",
              "      <td>0.578840</td>\n",
              "      <td>92.201</td>\n",
              "      <td>93.075</td>\n",
              "      <td>93.749</td>\n",
              "      <td>93.994</td>\n",
              "      <td>94.767</td>\n",
              "    </tr>\n",
              "    <tr>\n",
              "      <th>cons.conf.idx</th>\n",
              "      <td>41188.0</td>\n",
              "      <td>-40.502600</td>\n",
              "      <td>4.628198</td>\n",
              "      <td>-50.800</td>\n",
              "      <td>-42.700</td>\n",
              "      <td>-41.800</td>\n",
              "      <td>-36.400</td>\n",
              "      <td>-26.900</td>\n",
              "    </tr>\n",
              "    <tr>\n",
              "      <th>euribor3m</th>\n",
              "      <td>41188.0</td>\n",
              "      <td>3.621291</td>\n",
              "      <td>1.734447</td>\n",
              "      <td>0.634</td>\n",
              "      <td>1.344</td>\n",
              "      <td>4.857</td>\n",
              "      <td>4.961</td>\n",
              "      <td>5.045</td>\n",
              "    </tr>\n",
              "    <tr>\n",
              "      <th>nr.employed</th>\n",
              "      <td>41188.0</td>\n",
              "      <td>5167.035911</td>\n",
              "      <td>72.251528</td>\n",
              "      <td>4963.600</td>\n",
              "      <td>5099.100</td>\n",
              "      <td>5191.000</td>\n",
              "      <td>5228.100</td>\n",
              "      <td>5228.100</td>\n",
              "    </tr>\n",
              "  </tbody>\n",
              "</table>\n",
              "</div>"
            ],
            "text/plain": [
              "                  count         mean         std  ...       50%       75%       max\n",
              "age             41188.0    40.024060   10.421250  ...    38.000    47.000    98.000\n",
              "duration        41188.0   258.285010  259.279249  ...   180.000   319.000  4918.000\n",
              "campaign        41188.0     2.567593    2.770014  ...     2.000     3.000    56.000\n",
              "pdays           41188.0   962.475454  186.910907  ...   999.000   999.000   999.000\n",
              "previous        41188.0     0.172963    0.494901  ...     0.000     0.000     7.000\n",
              "emp.var.rate    41188.0     0.081886    1.570960  ...     1.100     1.400     1.400\n",
              "cons.price.idx  41188.0    93.575664    0.578840  ...    93.749    93.994    94.767\n",
              "cons.conf.idx   41188.0   -40.502600    4.628198  ...   -41.800   -36.400   -26.900\n",
              "euribor3m       41188.0     3.621291    1.734447  ...     4.857     4.961     5.045\n",
              "nr.employed     41188.0  5167.035911   72.251528  ...  5191.000  5228.100  5228.100\n",
              "\n",
              "[10 rows x 8 columns]"
            ]
          },
          "metadata": {
            "tags": []
          },
          "execution_count": 8
        }
      ]
    },
    {
      "cell_type": "markdown",
      "metadata": {
        "id": "0bFnucSE2iHR",
        "colab_type": "text"
      },
      "source": [
        "From the data, we observe that the mean age is  40  years with a maximum age of  98  years and minimum age of  17  years. The balance is the average yearly balance which is in euros."
      ]
    },
    {
      "cell_type": "markdown",
      "metadata": {
        "id": "F7L9GOUV21Hf",
        "colab_type": "text"
      },
      "source": [
        "**1. Univariate Analysis**"
      ]
    },
    {
      "cell_type": "code",
      "metadata": {
        "id": "AimeylKE27WK",
        "colab_type": "code",
        "colab": {}
      },
      "source": [
        "#A function to help in graphical univariate analysis\n",
        "\n",
        "def plot(x,data):\n",
        "    plot= sns.catplot(x, kind=\"count\", data=data, palette=\"Set1\")\n",
        "    plt.xticks(rotation=45, horizontalalignment='right' )\n",
        "    plt.title(\"counts\"+ \" \"+ \"of\" + \" \"+ \" \" + x )\n",
        "    return "
      ],
      "execution_count": 9,
      "outputs": []
    },
    {
      "cell_type": "markdown",
      "metadata": {
        "id": "0wtHOJ-h3JZW",
        "colab_type": "text"
      },
      "source": [
        "**1.1 Target**"
      ]
    },
    {
      "cell_type": "markdown",
      "metadata": {
        "id": "eOpJf74c3geE",
        "colab_type": "text"
      },
      "source": [
        "We will check if out target variable is balanced "
      ]
    },
    {
      "cell_type": "code",
      "metadata": {
        "id": "LVnaQL9ECuRR",
        "colab_type": "code",
        "colab": {
          "base_uri": "https://localhost:8080/",
          "height": 298
        },
        "outputId": "58618129-eac2-40f1-c5b0-e35c546826e2"
      },
      "source": [
        "x=data['y'].value_counts().values\n",
        "sns.barplot([0,1],x)\n",
        "plt.title('Target variable count')"
      ],
      "execution_count": 10,
      "outputs": [
        {
          "output_type": "execute_result",
          "data": {
            "text/plain": [
              "Text(0.5, 1.0, 'Target variable count')"
            ]
          },
          "metadata": {
            "tags": []
          },
          "execution_count": 10
        },
        {
          "output_type": "display_data",
          "data": {
            "image/png": "[encoded data removed]",
            "text/plain": [
              "<Figure size 432x288 with 1 Axes>"
            ]
          },
          "metadata": {
            "tags": [],
            "needs_background": "light"
          }
        }
      ]
    },
    {
      "cell_type": "code",
      "metadata": {
        "id": "w4HS232vJj2S",
        "colab_type": "code",
        "colab": {
          "base_uri": "https://localhost:8080/",
          "height": 87
        },
        "outputId": "48d8486a-ebbf-47b4-8cab-75a3055cb614"
      },
      "source": [
        "print('Proportion of the classes in the data:')\n",
        "print(data['y'].value_counts() / len(data))"
      ],
      "execution_count": 11,
      "outputs": [
        {
          "output_type": "stream",
          "text": [
            "Proportion of the classes in the data:\n",
            "no     0.887346\n",
            "yes    0.112654\n",
            "Name: y, dtype: float64\n"
          ],
          "name": "stdout"
        }
      ]
    },
    {
      "cell_type": "markdown",
      "metadata": {
        "id": "EMYxonCiC-lb",
        "colab_type": "text"
      },
      "source": [
        "* There is clear a class imbalace problem.\n",
        "* We will handle the class imbalance problem later but below are the ways that one can handle the problem\n",
        "\n",
        "Researchers have found that balancing the data will to better classification models. \n",
        "\n",
        "## **Resampling**\n",
        "\n",
        "A widely adopted technique for dealing with highly unbalanced datasets is called resampling. It consists of removing samples from the majority class (under-sampling) and / or adding more examples from the minority class (over-sampling).\n",
        "\n",
        "![resampling.png](data:image/png;base64,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)"
      ]
    },
    {
      "cell_type": "markdown",
      "metadata": {
        "id": "KGZFV07p4qNb",
        "colab_type": "text"
      },
      "source": [
        "**1.2 Marital Status**"
      ]
    },
    {
      "cell_type": "code",
      "metadata": {
        "id": "WCVJG17c3OI1",
        "colab_type": "code",
        "colab": {
          "base_uri": "https://localhost:8080/",
          "height": 414
        },
        "outputId": "219c0930-1372-44f1-a2f6-7c1fca993374"
      },
      "source": [
        "plot(\"marital\", data=data)"
      ],
      "execution_count": 12,
      "outputs": [
        {
          "output_type": "display_data",
          "data": {
            "image/png": "[encoded data removed]",
            "text/plain": [
              "<Figure size 360x360 with 1 Axes>"
            ]
          },
          "metadata": {
            "tags": [],
            "needs_background": "light"
          }
        }
      ]
    },
    {
      "cell_type": "markdown",
      "metadata": {
        "id": "0oUfE8xc40V1",
        "colab_type": "text"
      },
      "source": [
        "**1.3 Education**"
      ]
    },
    {
      "cell_type": "code",
      "metadata": {
        "id": "4zIzBAh145F5",
        "colab_type": "code",
        "colab": {
          "base_uri": "https://localhost:8080/",
          "height": 598
        },
        "outputId": "7036081d-e5e1-480d-9ffc-01a325ab713c"
      },
      "source": [
        "print(data['education'].value_counts())\n",
        "plt.figure(figsize=(10,5))\n",
        "data['education'].value_counts(normalize=True).plot(kind='bar')\n",
        "plt.ylabel('counts')\n",
        "plt.xlabel('education')"
      ],
      "execution_count": 13,
      "outputs": [
        {
          "output_type": "stream",
          "text": [
            "university.degree      12168\n",
            "high.school             9515\n",
            "basic.9y                6045\n",
            "professional.course     5243\n",
            "basic.4y                4176\n",
            "basic.6y                2292\n",
            "unknown                 1731\n",
            "illiterate                18\n",
            "Name: education, dtype: int64\n"
          ],
          "name": "stdout"
        },
        {
          "output_type": "execute_result",
          "data": {
            "text/plain": [
              "Text(0.5, 0, 'education')"
            ]
          },
          "metadata": {
            "tags": []
          },
          "execution_count": 13
        },
        {
          "output_type": "display_data",
          "data": {
            "image/png": "[encoded data removed]",
            "text/plain": [
              "<Figure size 720x360 with 1 Axes>"
            ]
          },
          "metadata": {
            "tags": [],
            "needs_background": "light"
          }
        }
      ]
    },
    {
      "cell_type": "markdown",
      "metadata": {
        "id": "yxfN2i7a5IhA",
        "colab_type": "text"
      },
      "source": [
        "**1.4 Job**"
      ]
    },
    {
      "cell_type": "code",
      "metadata": {
        "id": "xUGQMq9O5Ql5",
        "colab_type": "code",
        "colab": {
          "base_uri": "https://localhost:8080/",
          "height": 643
        },
        "outputId": "347405eb-497e-43f8-8632-5a07980a143a"
      },
      "source": [
        "print(data['job'].value_counts())\n",
        "plt.figure(figsize=(10,5))\n",
        "data['job'].value_counts(normalize=True).plot(kind='bar')\n",
        "plt.ylabel('counts')\n",
        "plt.xlabel('job')"
      ],
      "execution_count": 14,
      "outputs": [
        {
          "output_type": "stream",
          "text": [
            "admin.           10422\n",
            "blue-collar       9254\n",
            "technician        6743\n",
            "services          3969\n",
            "management        2924\n",
            "retired           1720\n",
            "entrepreneur      1456\n",
            "self-employed     1421\n",
            "housemaid         1060\n",
            "unemployed        1014\n",
            "student            875\n",
            "unknown            330\n",
            "Name: job, dtype: int64\n"
          ],
          "name": "stdout"
        },
        {
          "output_type": "execute_result",
          "data": {
            "text/plain": [
              "Text(0.5, 0, 'job')"
            ]
          },
          "metadata": {
            "tags": []
          },
          "execution_count": 14
        },
        {
          "output_type": "display_data",
          "data": {
            "image/png": "[encoded data removed]",
            "text/plain": [
              "<Figure size 720x360 with 1 Axes>"
            ]
          },
          "metadata": {
            "tags": [],
            "needs_background": "light"
          }
        }
      ]
    },
    {
      "cell_type": "markdown",
      "metadata": {
        "id": "DIWsPYB_5ZZp",
        "colab_type": "text"
      },
      "source": [
        "**1.5 Age Distribution**"
      ]
    },
    {
      "cell_type": "code",
      "metadata": {
        "id": "2O5CUPkr5hMS",
        "colab_type": "code",
        "colab": {
          "base_uri": "https://localhost:8080/",
          "height": 367
        },
        "outputId": "6a579b3a-4e58-425b-f02f-92f3508a2347"
      },
      "source": [
        "plt.figure(figsize=(10, 5))\n",
        "data.age.hist( color=\"blue\") \n",
        "plt.xlabel('Ages')\n",
        "plt.title(\"Age Distribution\")"
      ],
      "execution_count": 15,
      "outputs": [
        {
          "output_type": "execute_result",
          "data": {
            "text/plain": [
              "Text(0.5, 1.0, 'Age Distribution')"
            ]
          },
          "metadata": {
            "tags": []
          },
          "execution_count": 15
        },
        {
          "output_type": "display_data",
          "data": {
            "image/png": "[encoded data removed]",
            "text/plain": [
              "<Figure size 720x360 with 1 Axes>"
            ]
          },
          "metadata": {
            "tags": [],
            "needs_background": "light"
          }
        }
      ]
    },
    {
      "cell_type": "markdown",
      "metadata": {
        "id": "Rie212J755HH",
        "colab_type": "text"
      },
      "source": [
        "**2.Bivariate Analysis**"
      ]
    },
    {
      "cell_type": "code",
      "metadata": {
        "id": "DxuM3ion6LDb",
        "colab_type": "code",
        "colab": {}
      },
      "source": [
        "def boxplot(x, y, data=data, hue= \"y\"):\n",
        "    plot = sns.boxplot(x= x, y=y, hue=hue, data= data)\n",
        "    plt.xticks( rotation=45, horizontalalignment='right' )\n",
        "    plt.title(\"Boxplot of \" + \" \" + x.upper() + \" \" + \"and \"+ \" \" + y.upper())\n",
        "    return plot"
      ],
      "execution_count": 16,
      "outputs": []
    },
    {
      "cell_type": "markdown",
      "metadata": {
        "id": "40TkgrQd6Di5",
        "colab_type": "text"
      },
      "source": [
        "**2.1 Marital vs. age and target**"
      ]
    },
    {
      "cell_type": "code",
      "metadata": {
        "id": "p_GdCQPX6Qw5",
        "colab_type": "code",
        "colab": {
          "base_uri": "https://localhost:8080/",
          "height": 342
        },
        "outputId": "d135fe3a-a32d-46f8-dd07-9b4bc0b9fc46"
      },
      "source": [
        "boxplot(\"marital\", \"age\", data=data, hue= \"y\")"
      ],
      "execution_count": 17,
      "outputs": [
        {
          "output_type": "execute_result",
          "data": {
            "text/plain": [
              "<matplotlib.axes._subplots.AxesSubplot at 0x7fb64036ea58>"
            ]
          },
          "metadata": {
            "tags": []
          },
          "execution_count": 17
        },
        {
          "output_type": "display_data",
          "data": {
            "image/png": "[encoded data removed]",
            "text/plain": [
              "<Figure size 432x288 with 1 Axes>"
            ]
          },
          "metadata": {
            "tags": [],
            "needs_background": "light"
          }
        }
      ]
    },
    {
      "cell_type": "markdown",
      "metadata": {
        "id": "LgQ5wuvo6ZvT",
        "colab_type": "text"
      },
      "source": [
        "**2.2 Education vs. age and target**"
      ]
    },
    {
      "cell_type": "code",
      "metadata": {
        "id": "rl6y1hna6eDh",
        "colab_type": "code",
        "colab": {
          "base_uri": "https://localhost:8080/",
          "height": 378
        },
        "outputId": "271b21db-47f6-4707-f9e5-fac7284d5fa6"
      },
      "source": [
        "boxplot(\"education\", \"age\", data=data, hue= \"y\")"
      ],
      "execution_count": 18,
      "outputs": [
        {
          "output_type": "execute_result",
          "data": {
            "text/plain": [
              "<matplotlib.axes._subplots.AxesSubplot at 0x7fb6402884e0>"
            ]
          },
          "metadata": {
            "tags": []
          },
          "execution_count": 18
        },
        {
          "output_type": "display_data",
          "data": {
            "image/png": "[encoded data removed]",
            "text/plain": [
              "<Figure size 432x288 with 1 Axes>"
            ]
          },
          "metadata": {
            "tags": [],
            "needs_background": "light"
          }
        }
      ]
    },
    {
      "cell_type": "markdown",
      "metadata": {
        "id": "t_1P2JIRk1tl",
        "colab_type": "text"
      },
      "source": [
        "**3. Handling outliers**"
      ]
    },
    {
      "cell_type": "code",
      "metadata": {
        "id": "cZxHHVA5k9Y1",
        "colab_type": "code",
        "colab": {
          "base_uri": "https://localhost:8080/",
          "height": 628
        },
        "outputId": "79aaf305-053b-473f-a244-9af3814dc494"
      },
      "source": [
        "#Find the range of data\n",
        "plt.figure(figsize=(5,10))\n",
        "sns.set(style=\"whitegrid\")\n",
        "sns.distplot(data[\"age\"])"
      ],
      "execution_count": 19,
      "outputs": [
        {
          "output_type": "execute_result",
          "data": {
            "text/plain": [
              "<matplotlib.axes._subplots.AxesSubplot at 0x7fb6400bebe0>"
            ]
          },
          "metadata": {
            "tags": []
          },
          "execution_count": 19
        },
        {
          "output_type": "display_data",
          "data": {
            "image/png": "[encoded data removed]",
            "text/plain": [
              "<Figure size 360x720 with 1 Axes>"
            ]
          },
          "metadata": {
            "tags": [],
            "needs_background": "light"
          }
        }
      ]
    },
    {
      "cell_type": "code",
      "metadata": {
        "id": "7E8EGGz4lrqR",
        "colab_type": "code",
        "colab": {
          "base_uri": "https://localhost:8080/",
          "height": 274
        },
        "outputId": "a8b2c73d-a2a0-41ed-da78-c7313144d27f"
      },
      "source": [
        "fig, axes = plt.subplots(1, 2, figsize=(17,3.5))\n",
        "axes[0].boxplot(data.duration, showmeans=True,vert=False)\n",
        "axes[0].set_xlim(0,max(data[\"duration\"]+1000))\n",
        "axes[0].set_title('Boxplot For duration Values')\n",
        "axes[1].hist(data.duration, cumulative=False, bins=20)\n",
        "axes[1].set_title(\"Duration histogram\")\n",
        "axes[1].set_xlim((min(data.duration), max(data.duration)))\n",
        "\n",
        "{\"Mean\":np.mean(data.duration),\"Median\":np.median(data.duration)}"
      ],
      "execution_count": 20,
      "outputs": [
        {
          "output_type": "execute_result",
          "data": {
            "text/plain": [
              "{'Mean': 258.2850101971448, 'Median': 180.0}"
            ]
          },
          "metadata": {
            "tags": []
          },
          "execution_count": 20
        },
        {
          "output_type": "display_data",
          "data": {
            "image/png": "[encoded data removed]",
            "text/plain": [
              "<Figure size 1224x252 with 2 Axes>"
            ]
          },
          "metadata": {
            "tags": []
          }
        }
      ]
    },
    {
      "cell_type": "markdown",
      "metadata": {
        "id": "1DU3B8TmNAkL",
        "colab_type": "text"
      },
      "source": [
        "**Data correlation**"
      ]
    },
    {
      "cell_type": "code",
      "metadata": {
        "id": "bEh2lV-0M9sa",
        "colab_type": "code",
        "colab": {
          "base_uri": "https://localhost:8080/",
          "height": 347
        },
        "outputId": "5d45df5e-14e2-4760-ada7-224923131b63"
      },
      "source": [
        "data.corr()"
      ],
      "execution_count": 21,
      "outputs": [
        {
          "output_type": "execute_result",
          "data": {
            "text/html": [
              "<div>\n",
              "<style scoped>\n",
              "    .dataframe tbody tr th:only-of-type {\n",
              "        vertical-align: middle;\n",
              "    }\n",
              "\n",
              "    .dataframe tbody tr th {\n",
              "        vertical-align: top;\n",
              "    }\n",
              "\n",
              "    .dataframe thead th {\n",
              "        text-align: right;\n",
              "    }\n",
              "</style>\n",
              "<table border=\"1\" class=\"dataframe\">\n",
              "  <thead>\n",
              "    <tr style=\"text-align: right;\">\n",
              "      <th></th>\n",
              "      <th>age</th>\n",
              "      <th>duration</th>\n",
              "      <th>campaign</th>\n",
              "      <th>pdays</th>\n",
              "      <th>previous</th>\n",
              "      <th>emp.var.rate</th>\n",
              "      <th>cons.price.idx</th>\n",
              "      <th>cons.conf.idx</th>\n",
              "      <th>euribor3m</th>\n",
              "      <th>nr.employed</th>\n",
              "    </tr>\n",
              "  </thead>\n",
              "  <tbody>\n",
              "    <tr>\n",
              "      <th>age</th>\n",
              "      <td>1.000000</td>\n",
              "      <td>-0.000866</td>\n",
              "      <td>0.004594</td>\n",
              "      <td>-0.034369</td>\n",
              "      <td>0.024365</td>\n",
              "      <td>-0.000371</td>\n",
              "      <td>0.000857</td>\n",
              "      <td>0.129372</td>\n",
              "      <td>0.010767</td>\n",
              "      <td>-0.017725</td>\n",
              "    </tr>\n",
              "    <tr>\n",
              "      <th>duration</th>\n",
              "      <td>-0.000866</td>\n",
              "      <td>1.000000</td>\n",
              "      <td>-0.071699</td>\n",
              "      <td>-0.047577</td>\n",
              "      <td>0.020640</td>\n",
              "      <td>-0.027968</td>\n",
              "      <td>0.005312</td>\n",
              "      <td>-0.008173</td>\n",
              "      <td>-0.032897</td>\n",
              "      <td>-0.044703</td>\n",
              "    </tr>\n",
              "    <tr>\n",
              "      <th>campaign</th>\n",
              "      <td>0.004594</td>\n",
              "      <td>-0.071699</td>\n",
              "      <td>1.000000</td>\n",
              "      <td>0.052584</td>\n",
              "      <td>-0.079141</td>\n",
              "      <td>0.150754</td>\n",
              "      <td>0.127836</td>\n",
              "      <td>-0.013733</td>\n",
              "      <td>0.135133</td>\n",
              "      <td>0.144095</td>\n",
              "    </tr>\n",
              "    <tr>\n",
              "      <th>pdays</th>\n",
              "      <td>-0.034369</td>\n",
              "      <td>-0.047577</td>\n",
              "      <td>0.052584</td>\n",
              "      <td>1.000000</td>\n",
              "      <td>-0.587514</td>\n",
              "      <td>0.271004</td>\n",
              "      <td>0.078889</td>\n",
              "      <td>-0.091342</td>\n",
              "      <td>0.296899</td>\n",
              "      <td>0.372605</td>\n",
              "    </tr>\n",
              "    <tr>\n",
              "      <th>previous</th>\n",
              "      <td>0.024365</td>\n",
              "      <td>0.020640</td>\n",
              "      <td>-0.079141</td>\n",
              "      <td>-0.587514</td>\n",
              "      <td>1.000000</td>\n",
              "      <td>-0.420489</td>\n",
              "      <td>-0.203130</td>\n",
              "      <td>-0.050936</td>\n",
              "      <td>-0.454494</td>\n",
              "      <td>-0.501333</td>\n",
              "    </tr>\n",
              "    <tr>\n",
              "      <th>emp.var.rate</th>\n",
              "      <td>-0.000371</td>\n",
              "      <td>-0.027968</td>\n",
              "      <td>0.150754</td>\n",
              "      <td>0.271004</td>\n",
              "      <td>-0.420489</td>\n",
              "      <td>1.000000</td>\n",
              "      <td>0.775334</td>\n",
              "      <td>0.196041</td>\n",
              "      <td>0.972245</td>\n",
              "      <td>0.906970</td>\n",
              "    </tr>\n",
              "    <tr>\n",
              "      <th>cons.price.idx</th>\n",
              "      <td>0.000857</td>\n",
              "      <td>0.005312</td>\n",
              "      <td>0.127836</td>\n",
              "      <td>0.078889</td>\n",
              "      <td>-0.203130</td>\n",
              "      <td>0.775334</td>\n",
              "      <td>1.000000</td>\n",
              "      <td>0.058986</td>\n",
              "      <td>0.688230</td>\n",
              "      <td>0.522034</td>\n",
              "    </tr>\n",
              "    <tr>\n",
              "      <th>cons.conf.idx</th>\n",
              "      <td>0.129372</td>\n",
              "      <td>-0.008173</td>\n",
              "      <td>-0.013733</td>\n",
              "      <td>-0.091342</td>\n",
              "      <td>-0.050936</td>\n",
              "      <td>0.196041</td>\n",
              "      <td>0.058986</td>\n",
              "      <td>1.000000</td>\n",
              "      <td>0.277686</td>\n",
              "      <td>0.100513</td>\n",
              "    </tr>\n",
              "    <tr>\n",
              "      <th>euribor3m</th>\n",
              "      <td>0.010767</td>\n",
              "      <td>-0.032897</td>\n",
              "      <td>0.135133</td>\n",
              "      <td>0.296899</td>\n",
              "      <td>-0.454494</td>\n",
              "      <td>0.972245</td>\n",
              "      <td>0.688230</td>\n",
              "      <td>0.277686</td>\n",
              "      <td>1.000000</td>\n",
              "      <td>0.945154</td>\n",
              "    </tr>\n",
              "    <tr>\n",
              "      <th>nr.employed</th>\n",
              "      <td>-0.017725</td>\n",
              "      <td>-0.044703</td>\n",
              "      <td>0.144095</td>\n",
              "      <td>0.372605</td>\n",
              "      <td>-0.501333</td>\n",
              "      <td>0.906970</td>\n",
              "      <td>0.522034</td>\n",
              "      <td>0.100513</td>\n",
              "      <td>0.945154</td>\n",
              "      <td>1.000000</td>\n",
              "    </tr>\n",
              "  </tbody>\n",
              "</table>\n",
              "</div>"
            ],
            "text/plain": [
              "                     age  duration  ...  euribor3m  nr.employed\n",
              "age             1.000000 -0.000866  ...   0.010767    -0.017725\n",
              "duration       -0.000866  1.000000  ...  -0.032897    -0.044703\n",
              "campaign        0.004594 -0.071699  ...   0.135133     0.144095\n",
              "pdays          -0.034369 -0.047577  ...   0.296899     0.372605\n",
              "previous        0.024365  0.020640  ...  -0.454494    -0.501333\n",
              "emp.var.rate   -0.000371 -0.027968  ...   0.972245     0.906970\n",
              "cons.price.idx  0.000857  0.005312  ...   0.688230     0.522034\n",
              "cons.conf.idx   0.129372 -0.008173  ...   0.277686     0.100513\n",
              "euribor3m       0.010767 -0.032897  ...   1.000000     0.945154\n",
              "nr.employed    -0.017725 -0.044703  ...   0.945154     1.000000\n",
              "\n",
              "[10 rows x 10 columns]"
            ]
          },
          "metadata": {
            "tags": []
          },
          "execution_count": 21
        }
      ]
    },
    {
      "cell_type": "code",
      "metadata": {
        "id": "Y53MYx9iNXsM",
        "colab_type": "code",
        "colab": {
          "base_uri": "https://localhost:8080/",
          "height": 356
        },
        "outputId": "55ebd4e7-20df-4557-becc-fd2db987928d"
      },
      "source": [
        "sns.heatmap(data.corr())"
      ],
      "execution_count": 22,
      "outputs": [
        {
          "output_type": "execute_result",
          "data": {
            "text/plain": [
              "<matplotlib.axes._subplots.AxesSubplot at 0x7fb64042c278>"
            ]
          },
          "metadata": {
            "tags": []
          },
          "execution_count": 22
        },
        {
          "output_type": "display_data",
          "data": {
            "image/png": "[encoded data removed]",
            "text/plain": [
              "<Figure size 432x288 with 2 Axes>"
            ]
          },
          "metadata": {
            "tags": []
          }
        }
      ]
    },
    {
      "cell_type": "markdown",
      "metadata": {
        "id": "XfSe2Cdg7DWP",
        "colab_type": "text"
      },
      "source": [
        "##**Data Preprocessing**"
      ]
    },
    {
      "cell_type": "markdown",
      "metadata": {
        "id": "bz_KQ0ZKM91I",
        "colab_type": "text"
      },
      "source": [
        "**1. Encoding categorical variables**\n",
        "\n",
        "Learners like logistic regression, distance based methods such as kNN, support vector machines, tree based methods etc. in sklearn needs numeric arrays. Features having string values cannot be handled by these learners. \n",
        "\n",
        "Our data has some categorical variables and we will encode them using One Hot Encoder.\n",
        "\n",
        "One-Hot Encoding transforms each categorical feature with n possible values into n binary features, with only one active.\n",
        "\n",
        "Most of the ML algorithms either learn a single weight for each feature or it computes distance between the samples. Algorithms like linear models (such as logistic regression) belongs to the first category.\n",
        "\n",
        "For tree based methods, same situation (more than two values in a feature) might effect the outcome to extent but if methods like random forests are deep enough, it can handle the categorical variables without one-hot encoding."
      ]
    },
    {
      "cell_type": "markdown",
      "metadata": {
        "id": "jrm9zbCL7W3e",
        "colab_type": "text"
      },
      "source": [
        "**Note: There are many ways to use OneHotEncoder and below i have highlighted two ways**"
      ]
    },
    {
      "cell_type": "code",
      "metadata": {
        "id": "qc48VbjfODq8",
        "colab_type": "code",
        "colab": {}
      },
      "source": [
        " enc=OneHotEncoder(sparse=False)\n",
        "pred_data_1=pred_data\n",
        "columns=['job', 'marital', 'education', 'default',\n",
        "          'housing', 'loan','contact','month','day_of_week','poutcome']\n",
        " for col in columns:\n",
        "       # creating an exhaustive list of all possible categorical values\n",
        "     data=pred_data[[col]]                                                                              \n",
        "     enc.fit(data)\n",
        "       # Fitting One Hot Encoding on train data\n",
        "     temp = enc.transform(pred_data[[col]])\n",
        "       # Changing the encoded features into a data frame with new column names\n",
        "     temp=pd.DataFrame(temp,columns=[(col+\"_\"+str(i)) for i in data[col]\n",
        "            .value_counts().index])\n",
        "       # In side by side concatenation index values should be same\n",
        "       # Setting the index values similar to the X_train data frame\n",
        "     temp=temp.set_index(pred_data.index.values)\n",
        "       # adding the new One Hot Encoded varibales to the train data frame\n",
        "     pred_data_1=pd.concat([pred_data_1,temp],axis=1)"
      ],
      "execution_count": null,
      "outputs": []
    },
    {
      "cell_type": "code",
      "metadata": {
        "id": "y8pirC_iP4qI",
        "colab_type": "code",
        "colab": {}
      },
      "source": [
        "pred_data_1"
      ],
      "execution_count": null,
      "outputs": []
    },
    {
      "cell_type": "code",
      "metadata": {
        "id": "hNy0i1_mQtXa",
        "colab_type": "code",
        "colab": {}
      },
      "source": [
        "#Encoding our data using OneHotEncoder\n",
        "# create an object of the OneHotEncoder\n",
        "OHE = ce.OneHotEncoder(cols=['job', 'marital', 'education', 'default',\n",
        "          'housing', 'loan','contact','month','day_of_week','poutcome'],use_cat_names=True)\n",
        "# encode the categorical variables\n",
        "pred1_data = OHE.fit_transform(data)"
      ],
      "execution_count": 24,
      "outputs": []
    },
    {
      "cell_type": "code",
      "metadata": {
        "id": "j6lsXB2wRTe6",
        "colab_type": "code",
        "colab": {
          "base_uri": "https://localhost:8080/",
          "height": 443
        },
        "outputId": "e434bf16-849c-4dca-ee95-1bdc3519ec68"
      },
      "source": [
        "pred1_data"
      ],
      "execution_count": 25,
      "outputs": [
        {
          "output_type": "execute_result",
          "data": {
            "text/html": [
              "<div>\n",
              "<style scoped>\n",
              "    .dataframe tbody tr th:only-of-type {\n",
              "        vertical-align: middle;\n",
              "    }\n",
              "\n",
              "    .dataframe tbody tr th {\n",
              "        vertical-align: top;\n",
              "    }\n",
              "\n",
              "    .dataframe thead th {\n",
              "        text-align: right;\n",
              "    }\n",
              "</style>\n",
              "<table border=\"1\" class=\"dataframe\">\n",
              "  <thead>\n",
              "    <tr style=\"text-align: right;\">\n",
              "      <th></th>\n",
              "      <th>age</th>\n",
              "      <th>job_housemaid</th>\n",
              "      <th>job_services</th>\n",
              "      <th>job_admin.</th>\n",
              "      <th>job_blue-collar</th>\n",
              "      <th>job_technician</th>\n",
              "      <th>job_retired</th>\n",
              "      <th>job_management</th>\n",
              "      <th>job_unemployed</th>\n",
              "      <th>job_self-employed</th>\n",
              "      <th>job_unknown</th>\n",
              "      <th>job_entrepreneur</th>\n",
              "      <th>job_student</th>\n",
              "      <th>marital_married</th>\n",
              "      <th>marital_single</th>\n",
              "      <th>marital_divorced</th>\n",
              "      <th>marital_unknown</th>\n",
              "      <th>education_basic.4y</th>\n",
              "      <th>education_high.school</th>\n",
              "      <th>education_basic.6y</th>\n",
              "      <th>education_basic.9y</th>\n",
              "      <th>education_professional.course</th>\n",
              "      <th>education_unknown</th>\n",
              "      <th>education_university.degree</th>\n",
              "      <th>education_illiterate</th>\n",
              "      <th>default_no</th>\n",
              "      <th>default_unknown</th>\n",
              "      <th>default_yes</th>\n",
              "      <th>housing_no</th>\n",
              "      <th>housing_yes</th>\n",
              "      <th>housing_unknown</th>\n",
              "      <th>loan_no</th>\n",
              "      <th>loan_yes</th>\n",
              "      <th>loan_unknown</th>\n",
              "      <th>contact_telephone</th>\n",
              "      <th>contact_cellular</th>\n",
              "      <th>month_may</th>\n",
              "      <th>month_jun</th>\n",
              "      <th>month_jul</th>\n",
              "      <th>month_aug</th>\n",
              "      <th>month_oct</th>\n",
              "      <th>month_nov</th>\n",
              "      <th>month_dec</th>\n",
              "      <th>month_mar</th>\n",
              "      <th>month_apr</th>\n",
              "      <th>month_sep</th>\n",
              "      <th>day_of_week_mon</th>\n",
              "      <th>day_of_week_tue</th>\n",
              "      <th>day_of_week_wed</th>\n",
              "      <th>day_of_week_thu</th>\n",
              "      <th>day_of_week_fri</th>\n",
              "      <th>duration</th>\n",
              "      <th>campaign</th>\n",
              "      <th>pdays</th>\n",
              "      <th>previous</th>\n",
              "      <th>poutcome_nonexistent</th>\n",
              "      <th>poutcome_failure</th>\n",
              "      <th>poutcome_success</th>\n",
              "      <th>emp.var.rate</th>\n",
              "      <th>cons.price.idx</th>\n",
              "      <th>cons.conf.idx</th>\n",
              "      <th>euribor3m</th>\n",
              "      <th>nr.employed</th>\n",
              "      <th>y</th>\n",
              "    </tr>\n",
              "  </thead>\n",
              "  <tbody>\n",
              "    <tr>\n",
              "      <th>0</th>\n",
              "      <td>56</td>\n",
              "      <td>1</td>\n",
              "      <td>0</td>\n",
              "      <td>0</td>\n",
              "      <td>0</td>\n",
              "      <td>0</td>\n",
              "      <td>0</td>\n",
              "      <td>0</td>\n",
              "      <td>0</td>\n",
              "      <td>0</td>\n",
              "      <td>0</td>\n",
              "      <td>0</td>\n",
              "      <td>0</td>\n",
              "      <td>1</td>\n",
              "      <td>0</td>\n",
              "      <td>0</td>\n",
              "      <td>0</td>\n",
              "      <td>1</td>\n",
              "      <td>0</td>\n",
              "      <td>0</td>\n",
              "      <td>0</td>\n",
              "      <td>0</td>\n",
              "      <td>0</td>\n",
              "      <td>0</td>\n",
              "      <td>0</td>\n",
              "      <td>1</td>\n",
              "      <td>0</td>\n",
              "      <td>0</td>\n",
              "      <td>1</td>\n",
              "      <td>0</td>\n",
              "      <td>0</td>\n",
              "      <td>1</td>\n",
              "      <td>0</td>\n",
              "      <td>0</td>\n",
              "      <td>1</td>\n",
              "      <td>0</td>\n",
              "      <td>1</td>\n",
              "      <td>0</td>\n",
              "      <td>0</td>\n",
              "      <td>0</td>\n",
              "      <td>0</td>\n",
              "      <td>0</td>\n",
              "      <td>0</td>\n",
              "      <td>0</td>\n",
              "      <td>0</td>\n",
              "      <td>0</td>\n",
              "      <td>1</td>\n",
              "      <td>0</td>\n",
              "      <td>0</td>\n",
              "      <td>0</td>\n",
              "      <td>0</td>\n",
              "      <td>261</td>\n",
              "      <td>1</td>\n",
              "      <td>999</td>\n",
              "      <td>0</td>\n",
              "      <td>1</td>\n",
              "      <td>0</td>\n",
              "      <td>0</td>\n",
              "      <td>1.1</td>\n",
              "      <td>93.994</td>\n",
              "      <td>-36.4</td>\n",
              "      <td>4.857</td>\n",
              "      <td>5191.0</td>\n",
              "      <td>no</td>\n",
              "    </tr>\n",
              "    <tr>\n",
              "      <th>1</th>\n",
              "      <td>57</td>\n",
              "      <td>0</td>\n",
              "      <td>1</td>\n",
              "      <td>0</td>\n",
              "      <td>0</td>\n",
              "      <td>0</td>\n",
              "      <td>0</td>\n",
              "      <td>0</td>\n",
              "      <td>0</td>\n",
              "      <td>0</td>\n",
              "      <td>0</td>\n",
              "      <td>0</td>\n",
              "      <td>0</td>\n",
              "      <td>1</td>\n",
              "      <td>0</td>\n",
              "      <td>0</td>\n",
              "      <td>0</td>\n",
              "      <td>0</td>\n",
              "      <td>1</td>\n",
              "      <td>0</td>\n",
              "      <td>0</td>\n",
              "      <td>0</td>\n",
              "      <td>0</td>\n",
              "      <td>0</td>\n",
              "      <td>0</td>\n",
              "      <td>0</td>\n",
              "      <td>1</td>\n",
              "      <td>0</td>\n",
              "      <td>1</td>\n",
              "      <td>0</td>\n",
              "      <td>0</td>\n",
              "      <td>1</td>\n",
              "      <td>0</td>\n",
              "      <td>0</td>\n",
              "      <td>1</td>\n",
              "      <td>0</td>\n",
              "      <td>1</td>\n",
              "      <td>0</td>\n",
              "      <td>0</td>\n",
              "      <td>0</td>\n",
              "      <td>0</td>\n",
              "      <td>0</td>\n",
              "      <td>0</td>\n",
              "      <td>0</td>\n",
              "      <td>0</td>\n",
              "      <td>0</td>\n",
              "      <td>1</td>\n",
              "      <td>0</td>\n",
              "      <td>0</td>\n",
              "      <td>0</td>\n",
              "      <td>0</td>\n",
              "      <td>149</td>\n",
              "      <td>1</td>\n",
              "      <td>999</td>\n",
              "      <td>0</td>\n",
              "      <td>1</td>\n",
              "      <td>0</td>\n",
              "      <td>0</td>\n",
              "      <td>1.1</td>\n",
              "      <td>93.994</td>\n",
              "      <td>-36.4</td>\n",
              "      <td>4.857</td>\n",
              "      <td>5191.0</td>\n",
              "      <td>no</td>\n",
              "    </tr>\n",
              "    <tr>\n",
              "      <th>2</th>\n",
              "      <td>37</td>\n",
              "      <td>0</td>\n",
              "      <td>1</td>\n",
              "      <td>0</td>\n",
              "      <td>0</td>\n",
              "      <td>0</td>\n",
              "      <td>0</td>\n",
              "      <td>0</td>\n",
              "      <td>0</td>\n",
              "      <td>0</td>\n",
              "      <td>0</td>\n",
              "      <td>0</td>\n",
              "      <td>0</td>\n",
              "      <td>1</td>\n",
              "      <td>0</td>\n",
              "      <td>0</td>\n",
              "      <td>0</td>\n",
              "      <td>0</td>\n",
              "      <td>1</td>\n",
              "      <td>0</td>\n",
              "      <td>0</td>\n",
              "      <td>0</td>\n",
              "      <td>0</td>\n",
              "      <td>0</td>\n",
              "      <td>0</td>\n",
              "      <td>1</td>\n",
              "      <td>0</td>\n",
              "      <td>0</td>\n",
              "      <td>0</td>\n",
              "      <td>1</td>\n",
              "      <td>0</td>\n",
              "      <td>1</td>\n",
              "      <td>0</td>\n",
              "      <td>0</td>\n",
              "      <td>1</td>\n",
              "      <td>0</td>\n",
              "      <td>1</td>\n",
              "      <td>0</td>\n",
              "      <td>0</td>\n",
              "      <td>0</td>\n",
              "      <td>0</td>\n",
              "      <td>0</td>\n",
              "      <td>0</td>\n",
              "      <td>0</td>\n",
              "      <td>0</td>\n",
              "      <td>0</td>\n",
              "      <td>1</td>\n",
              "      <td>0</td>\n",
              "      <td>0</td>\n",
              "      <td>0</td>\n",
              "      <td>0</td>\n",
              "      <td>226</td>\n",
              "      <td>1</td>\n",
              "      <td>999</td>\n",
              "      <td>0</td>\n",
              "      <td>1</td>\n",
              "      <td>0</td>\n",
              "      <td>0</td>\n",
              "      <td>1.1</td>\n",
              "      <td>93.994</td>\n",
              "      <td>-36.4</td>\n",
              "      <td>4.857</td>\n",
              "      <td>5191.0</td>\n",
              "      <td>no</td>\n",
              "    </tr>\n",
              "    <tr>\n",
              "      <th>3</th>\n",
              "      <td>40</td>\n",
              "      <td>0</td>\n",
              "      <td>0</td>\n",
              "      <td>1</td>\n",
              "      <td>0</td>\n",
              "      <td>0</td>\n",
              "      <td>0</td>\n",
              "      <td>0</td>\n",
              "      <td>0</td>\n",
              "      <td>0</td>\n",
              "      <td>0</td>\n",
              "      <td>0</td>\n",
              "      <td>0</td>\n",
              "      <td>1</td>\n",
              "      <td>0</td>\n",
              "      <td>0</td>\n",
              "      <td>0</td>\n",
              "      <td>0</td>\n",
              "      <td>0</td>\n",
              "      <td>1</td>\n",
              "      <td>0</td>\n",
              "      <td>0</td>\n",
              "      <td>0</td>\n",
              "      <td>0</td>\n",
              "      <td>0</td>\n",
              "      <td>1</td>\n",
              "      <td>0</td>\n",
              "      <td>0</td>\n",
              "      <td>1</td>\n",
              "      <td>0</td>\n",
              "      <td>0</td>\n",
              "      <td>1</td>\n",
              "      <td>0</td>\n",
              "      <td>0</td>\n",
              "      <td>1</td>\n",
              "      <td>0</td>\n",
              "      <td>1</td>\n",
              "      <td>0</td>\n",
              "      <td>0</td>\n",
              "      <td>0</td>\n",
              "      <td>0</td>\n",
              "      <td>0</td>\n",
              "      <td>0</td>\n",
              "      <td>0</td>\n",
              "      <td>0</td>\n",
              "      <td>0</td>\n",
              "      <td>1</td>\n",
              "      <td>0</td>\n",
              "      <td>0</td>\n",
              "      <td>0</td>\n",
              "      <td>0</td>\n",
              "      <td>151</td>\n",
              "      <td>1</td>\n",
              "      <td>999</td>\n",
              "      <td>0</td>\n",
              "      <td>1</td>\n",
              "      <td>0</td>\n",
              "      <td>0</td>\n",
              "      <td>1.1</td>\n",
              "      <td>93.994</td>\n",
              "      <td>-36.4</td>\n",
              "      <td>4.857</td>\n",
              "      <td>5191.0</td>\n",
              "      <td>no</td>\n",
              "    </tr>\n",
              "    <tr>\n",
              "      <th>4</th>\n",
              "      <td>56</td>\n",
              "      <td>0</td>\n",
              "      <td>1</td>\n",
              "      <td>0</td>\n",
              "      <td>0</td>\n",
              "      <td>0</td>\n",
              "      <td>0</td>\n",
              "      <td>0</td>\n",
              "      <td>0</td>\n",
              "      <td>0</td>\n",
              "      <td>0</td>\n",
              "      <td>0</td>\n",
              "      <td>0</td>\n",
              "      <td>1</td>\n",
              "      <td>0</td>\n",
              "      <td>0</td>\n",
              "      <td>0</td>\n",
              "      <td>0</td>\n",
              "      <td>1</td>\n",
              "      <td>0</td>\n",
              "      <td>0</td>\n",
              "      <td>0</td>\n",
              "      <td>0</td>\n",
              "      <td>0</td>\n",
              "      <td>0</td>\n",
              "      <td>1</td>\n",
              "      <td>0</td>\n",
              "      <td>0</td>\n",
              "      <td>1</td>\n",
              "      <td>0</td>\n",
              "      <td>0</td>\n",
              "      <td>0</td>\n",
              "      <td>1</td>\n",
              "      <td>0</td>\n",
              "      <td>1</td>\n",
              "      <td>0</td>\n",
              "      <td>1</td>\n",
              "      <td>0</td>\n",
              "      <td>0</td>\n",
              "      <td>0</td>\n",
              "      <td>0</td>\n",
              "      <td>0</td>\n",
              "      <td>0</td>\n",
              "      <td>0</td>\n",
              "      <td>0</td>\n",
              "      <td>0</td>\n",
              "      <td>1</td>\n",
              "      <td>0</td>\n",
              "      <td>0</td>\n",
              "      <td>0</td>\n",
              "      <td>0</td>\n",
              "      <td>307</td>\n",
              "      <td>1</td>\n",
              "      <td>999</td>\n",
              "      <td>0</td>\n",
              "      <td>1</td>\n",
              "      <td>0</td>\n",
              "      <td>0</td>\n",
              "      <td>1.1</td>\n",
              "      <td>93.994</td>\n",
              "      <td>-36.4</td>\n",
              "      <td>4.857</td>\n",
              "      <td>5191.0</td>\n",
              "      <td>no</td>\n",
              "    </tr>\n",
              "    <tr>\n",
              "      <th>...</th>\n",
              "      <td>...</td>\n",
              "      <td>...</td>\n",
              "      <td>...</td>\n",
              "      <td>...</td>\n",
              "      <td>...</td>\n",
              "      <td>...</td>\n",
              "      <td>...</td>\n",
              "      <td>...</td>\n",
              "      <td>...</td>\n",
              "      <td>...</td>\n",
              "      <td>...</td>\n",
              "      <td>...</td>\n",
              "      <td>...</td>\n",
              "      <td>...</td>\n",
              "      <td>...</td>\n",
              "      <td>...</td>\n",
              "      <td>...</td>\n",
              "      <td>...</td>\n",
              "      <td>...</td>\n",
              "      <td>...</td>\n",
              "      <td>...</td>\n",
              "      <td>...</td>\n",
              "      <td>...</td>\n",
              "      <td>...</td>\n",
              "      <td>...</td>\n",
              "      <td>...</td>\n",
              "      <td>...</td>\n",
              "      <td>...</td>\n",
              "      <td>...</td>\n",
              "      <td>...</td>\n",
              "      <td>...</td>\n",
              "      <td>...</td>\n",
              "      <td>...</td>\n",
              "      <td>...</td>\n",
              "      <td>...</td>\n",
              "      <td>...</td>\n",
              "      <td>...</td>\n",
              "      <td>...</td>\n",
              "      <td>...</td>\n",
              "      <td>...</td>\n",
              "      <td>...</td>\n",
              "      <td>...</td>\n",
              "      <td>...</td>\n",
              "      <td>...</td>\n",
              "      <td>...</td>\n",
              "      <td>...</td>\n",
              "      <td>...</td>\n",
              "      <td>...</td>\n",
              "      <td>...</td>\n",
              "      <td>...</td>\n",
              "      <td>...</td>\n",
              "      <td>...</td>\n",
              "      <td>...</td>\n",
              "      <td>...</td>\n",
              "      <td>...</td>\n",
              "      <td>...</td>\n",
              "      <td>...</td>\n",
              "      <td>...</td>\n",
              "      <td>...</td>\n",
              "      <td>...</td>\n",
              "      <td>...</td>\n",
              "      <td>...</td>\n",
              "      <td>...</td>\n",
              "      <td>...</td>\n",
              "    </tr>\n",
              "    <tr>\n",
              "      <th>41183</th>\n",
              "      <td>73</td>\n",
              "      <td>0</td>\n",
              "      <td>0</td>\n",
              "      <td>0</td>\n",
              "      <td>0</td>\n",
              "      <td>0</td>\n",
              "      <td>1</td>\n",
              "      <td>0</td>\n",
              "      <td>0</td>\n",
              "      <td>0</td>\n",
              "      <td>0</td>\n",
              "      <td>0</td>\n",
              "      <td>0</td>\n",
              "      <td>1</td>\n",
              "      <td>0</td>\n",
              "      <td>0</td>\n",
              "      <td>0</td>\n",
              "      <td>0</td>\n",
              "      <td>0</td>\n",
              "      <td>0</td>\n",
              "      <td>0</td>\n",
              "      <td>1</td>\n",
              "      <td>0</td>\n",
              "      <td>0</td>\n",
              "      <td>0</td>\n",
              "      <td>1</td>\n",
              "      <td>0</td>\n",
              "      <td>0</td>\n",
              "      <td>0</td>\n",
              "      <td>1</td>\n",
              "      <td>0</td>\n",
              "      <td>1</td>\n",
              "      <td>0</td>\n",
              "      <td>0</td>\n",
              "      <td>0</td>\n",
              "      <td>1</td>\n",
              "      <td>0</td>\n",
              "      <td>0</td>\n",
              "      <td>0</td>\n",
              "      <td>0</td>\n",
              "      <td>0</td>\n",
              "      <td>1</td>\n",
              "      <td>0</td>\n",
              "      <td>0</td>\n",
              "      <td>0</td>\n",
              "      <td>0</td>\n",
              "      <td>0</td>\n",
              "      <td>0</td>\n",
              "      <td>0</td>\n",
              "      <td>0</td>\n",
              "      <td>1</td>\n",
              "      <td>334</td>\n",
              "      <td>1</td>\n",
              "      <td>999</td>\n",
              "      <td>0</td>\n",
              "      <td>1</td>\n",
              "      <td>0</td>\n",
              "      <td>0</td>\n",
              "      <td>-1.1</td>\n",
              "      <td>94.767</td>\n",
              "      <td>-50.8</td>\n",
              "      <td>1.028</td>\n",
              "      <td>4963.6</td>\n",
              "      <td>yes</td>\n",
              "    </tr>\n",
              "    <tr>\n",
              "      <th>41184</th>\n",
              "      <td>46</td>\n",
              "      <td>0</td>\n",
              "      <td>0</td>\n",
              "      <td>0</td>\n",
              "      <td>1</td>\n",
              "      <td>0</td>\n",
              "      <td>0</td>\n",
              "      <td>0</td>\n",
              "      <td>0</td>\n",
              "      <td>0</td>\n",
              "      <td>0</td>\n",
              "      <td>0</td>\n",
              "      <td>0</td>\n",
              "      <td>1</td>\n",
              "      <td>0</td>\n",
              "      <td>0</td>\n",
              "      <td>0</td>\n",
              "      <td>0</td>\n",
              "      <td>0</td>\n",
              "      <td>0</td>\n",
              "      <td>0</td>\n",
              "      <td>1</td>\n",
              "      <td>0</td>\n",
              "      <td>0</td>\n",
              "      <td>0</td>\n",
              "      <td>1</td>\n",
              "      <td>0</td>\n",
              "      <td>0</td>\n",
              "      <td>1</td>\n",
              "      <td>0</td>\n",
              "      <td>0</td>\n",
              "      <td>1</td>\n",
              "      <td>0</td>\n",
              "      <td>0</td>\n",
              "      <td>0</td>\n",
              "      <td>1</td>\n",
              "      <td>0</td>\n",
              "      <td>0</td>\n",
              "      <td>0</td>\n",
              "      <td>0</td>\n",
              "      <td>0</td>\n",
              "      <td>1</td>\n",
              "      <td>0</td>\n",
              "      <td>0</td>\n",
              "      <td>0</td>\n",
              "      <td>0</td>\n",
              "      <td>0</td>\n",
              "      <td>0</td>\n",
              "      <td>0</td>\n",
              "      <td>0</td>\n",
              "      <td>1</td>\n",
              "      <td>383</td>\n",
              "      <td>1</td>\n",
              "      <td>999</td>\n",
              "      <td>0</td>\n",
              "      <td>1</td>\n",
              "      <td>0</td>\n",
              "      <td>0</td>\n",
              "      <td>-1.1</td>\n",
              "      <td>94.767</td>\n",
              "      <td>-50.8</td>\n",
              "      <td>1.028</td>\n",
              "      <td>4963.6</td>\n",
              "      <td>no</td>\n",
              "    </tr>\n",
              "    <tr>\n",
              "      <th>41185</th>\n",
              "      <td>56</td>\n",
              "      <td>0</td>\n",
              "      <td>0</td>\n",
              "      <td>0</td>\n",
              "      <td>0</td>\n",
              "      <td>0</td>\n",
              "      <td>1</td>\n",
              "      <td>0</td>\n",
              "      <td>0</td>\n",
              "      <td>0</td>\n",
              "      <td>0</td>\n",
              "      <td>0</td>\n",
              "      <td>0</td>\n",
              "      <td>1</td>\n",
              "      <td>0</td>\n",
              "      <td>0</td>\n",
              "      <td>0</td>\n",
              "      <td>0</td>\n",
              "      <td>0</td>\n",
              "      <td>0</td>\n",
              "      <td>0</td>\n",
              "      <td>0</td>\n",
              "      <td>0</td>\n",
              "      <td>1</td>\n",
              "      <td>0</td>\n",
              "      <td>1</td>\n",
              "      <td>0</td>\n",
              "      <td>0</td>\n",
              "      <td>0</td>\n",
              "      <td>1</td>\n",
              "      <td>0</td>\n",
              "      <td>1</td>\n",
              "      <td>0</td>\n",
              "      <td>0</td>\n",
              "      <td>0</td>\n",
              "      <td>1</td>\n",
              "      <td>0</td>\n",
              "      <td>0</td>\n",
              "      <td>0</td>\n",
              "      <td>0</td>\n",
              "      <td>0</td>\n",
              "      <td>1</td>\n",
              "      <td>0</td>\n",
              "      <td>0</td>\n",
              "      <td>0</td>\n",
              "      <td>0</td>\n",
              "      <td>0</td>\n",
              "      <td>0</td>\n",
              "      <td>0</td>\n",
              "      <td>0</td>\n",
              "      <td>1</td>\n",
              "      <td>189</td>\n",
              "      <td>2</td>\n",
              "      <td>999</td>\n",
              "      <td>0</td>\n",
              "      <td>1</td>\n",
              "      <td>0</td>\n",
              "      <td>0</td>\n",
              "      <td>-1.1</td>\n",
              "      <td>94.767</td>\n",
              "      <td>-50.8</td>\n",
              "      <td>1.028</td>\n",
              "      <td>4963.6</td>\n",
              "      <td>no</td>\n",
              "    </tr>\n",
              "    <tr>\n",
              "      <th>41186</th>\n",
              "      <td>44</td>\n",
              "      <td>0</td>\n",
              "      <td>0</td>\n",
              "      <td>0</td>\n",
              "      <td>0</td>\n",
              "      <td>1</td>\n",
              "      <td>0</td>\n",
              "      <td>0</td>\n",
              "      <td>0</td>\n",
              "      <td>0</td>\n",
              "      <td>0</td>\n",
              "      <td>0</td>\n",
              "      <td>0</td>\n",
              "      <td>1</td>\n",
              "      <td>0</td>\n",
              "      <td>0</td>\n",
              "      <td>0</td>\n",
              "      <td>0</td>\n",
              "      <td>0</td>\n",
              "      <td>0</td>\n",
              "      <td>0</td>\n",
              "      <td>1</td>\n",
              "      <td>0</td>\n",
              "      <td>0</td>\n",
              "      <td>0</td>\n",
              "      <td>1</td>\n",
              "      <td>0</td>\n",
              "      <td>0</td>\n",
              "      <td>1</td>\n",
              "      <td>0</td>\n",
              "      <td>0</td>\n",
              "      <td>1</td>\n",
              "      <td>0</td>\n",
              "      <td>0</td>\n",
              "      <td>0</td>\n",
              "      <td>1</td>\n",
              "      <td>0</td>\n",
              "      <td>0</td>\n",
              "      <td>0</td>\n",
              "      <td>0</td>\n",
              "      <td>0</td>\n",
              "      <td>1</td>\n",
              "      <td>0</td>\n",
              "      <td>0</td>\n",
              "      <td>0</td>\n",
              "      <td>0</td>\n",
              "      <td>0</td>\n",
              "      <td>0</td>\n",
              "      <td>0</td>\n",
              "      <td>0</td>\n",
              "      <td>1</td>\n",
              "      <td>442</td>\n",
              "      <td>1</td>\n",
              "      <td>999</td>\n",
              "      <td>0</td>\n",
              "      <td>1</td>\n",
              "      <td>0</td>\n",
              "      <td>0</td>\n",
              "      <td>-1.1</td>\n",
              "      <td>94.767</td>\n",
              "      <td>-50.8</td>\n",
              "      <td>1.028</td>\n",
              "      <td>4963.6</td>\n",
              "      <td>yes</td>\n",
              "    </tr>\n",
              "    <tr>\n",
              "      <th>41187</th>\n",
              "      <td>74</td>\n",
              "      <td>0</td>\n",
              "      <td>0</td>\n",
              "      <td>0</td>\n",
              "      <td>0</td>\n",
              "      <td>0</td>\n",
              "      <td>1</td>\n",
              "      <td>0</td>\n",
              "      <td>0</td>\n",
              "      <td>0</td>\n",
              "      <td>0</td>\n",
              "      <td>0</td>\n",
              "      <td>0</td>\n",
              "      <td>1</td>\n",
              "      <td>0</td>\n",
              "      <td>0</td>\n",
              "      <td>0</td>\n",
              "      <td>0</td>\n",
              "      <td>0</td>\n",
              "      <td>0</td>\n",
              "      <td>0</td>\n",
              "      <td>1</td>\n",
              "      <td>0</td>\n",
              "      <td>0</td>\n",
              "      <td>0</td>\n",
              "      <td>1</td>\n",
              "      <td>0</td>\n",
              "      <td>0</td>\n",
              "      <td>0</td>\n",
              "      <td>1</td>\n",
              "      <td>0</td>\n",
              "      <td>1</td>\n",
              "      <td>0</td>\n",
              "      <td>0</td>\n",
              "      <td>0</td>\n",
              "      <td>1</td>\n",
              "      <td>0</td>\n",
              "      <td>0</td>\n",
              "      <td>0</td>\n",
              "      <td>0</td>\n",
              "      <td>0</td>\n",
              "      <td>1</td>\n",
              "      <td>0</td>\n",
              "      <td>0</td>\n",
              "      <td>0</td>\n",
              "      <td>0</td>\n",
              "      <td>0</td>\n",
              "      <td>0</td>\n",
              "      <td>0</td>\n",
              "      <td>0</td>\n",
              "      <td>1</td>\n",
              "      <td>239</td>\n",
              "      <td>3</td>\n",
              "      <td>999</td>\n",
              "      <td>1</td>\n",
              "      <td>0</td>\n",
              "      <td>1</td>\n",
              "      <td>0</td>\n",
              "      <td>-1.1</td>\n",
              "      <td>94.767</td>\n",
              "      <td>-50.8</td>\n",
              "      <td>1.028</td>\n",
              "      <td>4963.6</td>\n",
              "      <td>no</td>\n",
              "    </tr>\n",
              "  </tbody>\n",
              "</table>\n",
              "<p>41188 rows × 64 columns</p>\n",
              "</div>"
            ],
            "text/plain": [
              "       age  job_housemaid  job_services  ...  euribor3m  nr.employed    y\n",
              "0       56              1             0  ...      4.857       5191.0   no\n",
              "1       57              0             1  ...      4.857       5191.0   no\n",
              "2       37              0             1  ...      4.857       5191.0   no\n",
              "3       40              0             0  ...      4.857       5191.0   no\n",
              "4       56              0             1  ...      4.857       5191.0   no\n",
              "...    ...            ...           ...  ...        ...          ...  ...\n",
              "41183   73              0             0  ...      1.028       4963.6  yes\n",
              "41184   46              0             0  ...      1.028       4963.6   no\n",
              "41185   56              0             0  ...      1.028       4963.6   no\n",
              "41186   44              0             0  ...      1.028       4963.6  yes\n",
              "41187   74              0             0  ...      1.028       4963.6   no\n",
              "\n",
              "[41188 rows x 64 columns]"
            ]
          },
          "metadata": {
            "tags": []
          },
          "execution_count": 25
        }
      ]
    },
    {
      "cell_type": "code",
      "metadata": {
        "id": "-oqcKydTQXvE",
        "colab_type": "code",
        "colab": {}
      },
      "source": [
        "#We will also label our target varible using label encoder, which is another type of encoding data\n",
        "encoder = LabelEncoder()\n",
        "pred1_data['y'] = encoder.fit_transform(pred1_data[\"y\"])"
      ],
      "execution_count": 26,
      "outputs": []
    },
    {
      "cell_type": "code",
      "metadata": {
        "id": "NoUoOkUfR4Re",
        "colab_type": "code",
        "colab": {
          "base_uri": "https://localhost:8080/",
          "height": 230
        },
        "outputId": "19fc6b04-e8fe-4f25-d7c4-d87e9b2ab284"
      },
      "source": [
        "#Now all our variables are numerical(int64 or float64)\n",
        "pred1_data.dtypes"
      ],
      "execution_count": 27,
      "outputs": [
        {
          "output_type": "execute_result",
          "data": {
            "text/plain": [
              "age                  int64\n",
              "job_housemaid        int64\n",
              "job_services         int64\n",
              "job_admin.           int64\n",
              "job_blue-collar      int64\n",
              "                    ...   \n",
              "cons.price.idx     float64\n",
              "cons.conf.idx      float64\n",
              "euribor3m          float64\n",
              "nr.employed        float64\n",
              "y                    int64\n",
              "Length: 64, dtype: object"
            ]
          },
          "metadata": {
            "tags": []
          },
          "execution_count": 27
        }
      ]
    },
    {
      "cell_type": "markdown",
      "metadata": {
        "id": "OGYXLW0Z0E17",
        "colab_type": "text"
      },
      "source": [
        "**2. Scaling Numerical Data**"
      ]
    },
    {
      "cell_type": "markdown",
      "metadata": {
        "id": "t4PX4tSq0MQ0",
        "colab_type": "text"
      },
      "source": [
        "Many machine learning algorithms perform better when numerical input variables are scaled to a standard range.\n",
        "\n",
        "Standardizing is a popular scaling technique that subtracts the mean from values and divides by the standard deviation, transforming the probability distribution for an input variable to a standard Gaussian (zero mean and unit variance). Standardization can become skewed or biased if the input variable contains outlier values.\n",
        "\n",
        "To overcome this, the median and interquartile range can be used when standardizing numerical input variables, generally referred to as robust scaling.\n",
        "\n",
        "In this section we will use RobustScaler because it works well in data with outliers"
      ]
    },
    {
      "cell_type": "code",
      "metadata": {
        "id": "hb9V0ip-0LZq",
        "colab_type": "code",
        "colab": {
          "base_uri": "https://localhost:8080/",
          "height": 284
        },
        "outputId": "8c369d05-ed7c-4a82-d480-fc093cfaaed0"
      },
      "source": [
        "data.hist()\n",
        "plt.show()"
      ],
      "execution_count": 79,
      "outputs": [
        {
          "output_type": "display_data",
          "data": {
            "image/png": "[encoded data removed]",
            "text/plain": [
              "<Figure size 432x288 with 12 Axes>"
            ]
          },
          "metadata": {
            "tags": []
          }
        }
      ]
    },
    {
      "cell_type": "code",
      "metadata": {
        "id": "nGZ_KTPO27o5",
        "colab_type": "code",
        "colab": {}
      },
      "source": [
        "# retrieve just the numeric input values\n",
        "num_cols = ['emp.var.rate',\"pdays\",\"age\", 'cons.price.idx','cons.conf.idx', 'euribor3m', 'nr.employed']"
      ],
      "execution_count": 29,
      "outputs": []
    },
    {
      "cell_type": "code",
      "metadata": {
        "id": "XnxvycEH2ad9",
        "colab_type": "code",
        "colab": {}
      },
      "source": [
        "# perform a robust scaler transform of the dataset\n",
        "trans = RobustScaler()\n",
        "pred1_data[num_cols] = trans.fit_transform(pred1_data[num_cols])\n"
      ],
      "execution_count": 30,
      "outputs": []
    },
    {
      "cell_type": "code",
      "metadata": {
        "id": "i7EQRYTRRfuD",
        "colab_type": "code",
        "colab": {
          "base_uri": "https://localhost:8080/",
          "height": 443
        },
        "outputId": "bb48d64b-f782-4517-edcc-a2b2e4b3a3f1"
      },
      "source": [
        "#Scaled data\n",
        "pred1_data"
      ],
      "execution_count": 31,
      "outputs": [
        {
          "output_type": "execute_result",
          "data": {
            "text/html": [
              "<div>\n",
              "<style scoped>\n",
              "    .dataframe tbody tr th:only-of-type {\n",
              "        vertical-align: middle;\n",
              "    }\n",
              "\n",
              "    .dataframe tbody tr th {\n",
              "        vertical-align: top;\n",
              "    }\n",
              "\n",
              "    .dataframe thead th {\n",
              "        text-align: right;\n",
              "    }\n",
              "</style>\n",
              "<table border=\"1\" class=\"dataframe\">\n",
              "  <thead>\n",
              "    <tr style=\"text-align: right;\">\n",
              "      <th></th>\n",
              "      <th>age</th>\n",
              "      <th>job_housemaid</th>\n",
              "      <th>job_services</th>\n",
              "      <th>job_admin.</th>\n",
              "      <th>job_blue-collar</th>\n",
              "      <th>job_technician</th>\n",
              "      <th>job_retired</th>\n",
              "      <th>job_management</th>\n",
              "      <th>job_unemployed</th>\n",
              "      <th>job_self-employed</th>\n",
              "      <th>job_unknown</th>\n",
              "      <th>job_entrepreneur</th>\n",
              "      <th>job_student</th>\n",
              "      <th>marital_married</th>\n",
              "      <th>marital_single</th>\n",
              "      <th>marital_divorced</th>\n",
              "      <th>marital_unknown</th>\n",
              "      <th>education_basic.4y</th>\n",
              "      <th>education_high.school</th>\n",
              "      <th>education_basic.6y</th>\n",
              "      <th>education_basic.9y</th>\n",
              "      <th>education_professional.course</th>\n",
              "      <th>education_unknown</th>\n",
              "      <th>education_university.degree</th>\n",
              "      <th>education_illiterate</th>\n",
              "      <th>default_no</th>\n",
              "      <th>default_unknown</th>\n",
              "      <th>default_yes</th>\n",
              "      <th>housing_no</th>\n",
              "      <th>housing_yes</th>\n",
              "      <th>housing_unknown</th>\n",
              "      <th>loan_no</th>\n",
              "      <th>loan_yes</th>\n",
              "      <th>loan_unknown</th>\n",
              "      <th>contact_telephone</th>\n",
              "      <th>contact_cellular</th>\n",
              "      <th>month_may</th>\n",
              "      <th>month_jun</th>\n",
              "      <th>month_jul</th>\n",
              "      <th>month_aug</th>\n",
              "      <th>month_oct</th>\n",
              "      <th>month_nov</th>\n",
              "      <th>month_dec</th>\n",
              "      <th>month_mar</th>\n",
              "      <th>month_apr</th>\n",
              "      <th>month_sep</th>\n",
              "      <th>day_of_week_mon</th>\n",
              "      <th>day_of_week_tue</th>\n",
              "      <th>day_of_week_wed</th>\n",
              "      <th>day_of_week_thu</th>\n",
              "      <th>day_of_week_fri</th>\n",
              "      <th>duration</th>\n",
              "      <th>campaign</th>\n",
              "      <th>pdays</th>\n",
              "      <th>previous</th>\n",
              "      <th>poutcome_nonexistent</th>\n",
              "      <th>poutcome_failure</th>\n",
              "      <th>poutcome_success</th>\n",
              "      <th>emp.var.rate</th>\n",
              "      <th>cons.price.idx</th>\n",
              "      <th>cons.conf.idx</th>\n",
              "      <th>euribor3m</th>\n",
              "      <th>nr.employed</th>\n",
              "      <th>y</th>\n",
              "    </tr>\n",
              "  </thead>\n",
              "  <tbody>\n",
              "    <tr>\n",
              "      <th>0</th>\n",
              "      <td>1.200000</td>\n",
              "      <td>1</td>\n",
              "      <td>0</td>\n",
              "      <td>0</td>\n",
              "      <td>0</td>\n",
              "      <td>0</td>\n",
              "      <td>0</td>\n",
              "      <td>0</td>\n",
              "      <td>0</td>\n",
              "      <td>0</td>\n",
              "      <td>0</td>\n",
              "      <td>0</td>\n",
              "      <td>0</td>\n",
              "      <td>1</td>\n",
              "      <td>0</td>\n",
              "      <td>0</td>\n",
              "      <td>0</td>\n",
              "      <td>1</td>\n",
              "      <td>0</td>\n",
              "      <td>0</td>\n",
              "      <td>0</td>\n",
              "      <td>0</td>\n",
              "      <td>0</td>\n",
              "      <td>0</td>\n",
              "      <td>0</td>\n",
              "      <td>1</td>\n",
              "      <td>0</td>\n",
              "      <td>0</td>\n",
              "      <td>1</td>\n",
              "      <td>0</td>\n",
              "      <td>0</td>\n",
              "      <td>1</td>\n",
              "      <td>0</td>\n",
              "      <td>0</td>\n",
              "      <td>1</td>\n",
              "      <td>0</td>\n",
              "      <td>1</td>\n",
              "      <td>0</td>\n",
              "      <td>0</td>\n",
              "      <td>0</td>\n",
              "      <td>0</td>\n",
              "      <td>0</td>\n",
              "      <td>0</td>\n",
              "      <td>0</td>\n",
              "      <td>0</td>\n",
              "      <td>0</td>\n",
              "      <td>1</td>\n",
              "      <td>0</td>\n",
              "      <td>0</td>\n",
              "      <td>0</td>\n",
              "      <td>0</td>\n",
              "      <td>261</td>\n",
              "      <td>1</td>\n",
              "      <td>0.0</td>\n",
              "      <td>0</td>\n",
              "      <td>1</td>\n",
              "      <td>0</td>\n",
              "      <td>0</td>\n",
              "      <td>0.0000</td>\n",
              "      <td>0.266594</td>\n",
              "      <td>0.857143</td>\n",
              "      <td>0.000000</td>\n",
              "      <td>0.000000</td>\n",
              "      <td>0</td>\n",
              "    </tr>\n",
              "    <tr>\n",
              "      <th>1</th>\n",
              "      <td>1.266667</td>\n",
              "      <td>0</td>\n",
              "      <td>1</td>\n",
              "      <td>0</td>\n",
              "      <td>0</td>\n",
              "      <td>0</td>\n",
              "      <td>0</td>\n",
              "      <td>0</td>\n",
              "      <td>0</td>\n",
              "      <td>0</td>\n",
              "      <td>0</td>\n",
              "      <td>0</td>\n",
              "      <td>0</td>\n",
              "      <td>1</td>\n",
              "      <td>0</td>\n",
              "      <td>0</td>\n",
              "      <td>0</td>\n",
              "      <td>0</td>\n",
              "      <td>1</td>\n",
              "      <td>0</td>\n",
              "      <td>0</td>\n",
              "      <td>0</td>\n",
              "      <td>0</td>\n",
              "      <td>0</td>\n",
              "      <td>0</td>\n",
              "      <td>0</td>\n",
              "      <td>1</td>\n",
              "      <td>0</td>\n",
              "      <td>1</td>\n",
              "      <td>0</td>\n",
              "      <td>0</td>\n",
              "      <td>1</td>\n",
              "      <td>0</td>\n",
              "      <td>0</td>\n",
              "      <td>1</td>\n",
              "      <td>0</td>\n",
              "      <td>1</td>\n",
              "      <td>0</td>\n",
              "      <td>0</td>\n",
              "      <td>0</td>\n",
              "      <td>0</td>\n",
              "      <td>0</td>\n",
              "      <td>0</td>\n",
              "      <td>0</td>\n",
              "      <td>0</td>\n",
              "      <td>0</td>\n",
              "      <td>1</td>\n",
              "      <td>0</td>\n",
              "      <td>0</td>\n",
              "      <td>0</td>\n",
              "      <td>0</td>\n",
              "      <td>149</td>\n",
              "      <td>1</td>\n",
              "      <td>0.0</td>\n",
              "      <td>0</td>\n",
              "      <td>1</td>\n",
              "      <td>0</td>\n",
              "      <td>0</td>\n",
              "      <td>0.0000</td>\n",
              "      <td>0.266594</td>\n",
              "      <td>0.857143</td>\n",
              "      <td>0.000000</td>\n",
              "      <td>0.000000</td>\n",
              "      <td>0</td>\n",
              "    </tr>\n",
              "    <tr>\n",
              "      <th>2</th>\n",
              "      <td>-0.066667</td>\n",
              "      <td>0</td>\n",
              "      <td>1</td>\n",
              "      <td>0</td>\n",
              "      <td>0</td>\n",
              "      <td>0</td>\n",
              "      <td>0</td>\n",
              "      <td>0</td>\n",
              "      <td>0</td>\n",
              "      <td>0</td>\n",
              "      <td>0</td>\n",
              "      <td>0</td>\n",
              "      <td>0</td>\n",
              "      <td>1</td>\n",
              "      <td>0</td>\n",
              "      <td>0</td>\n",
              "      <td>0</td>\n",
              "      <td>0</td>\n",
              "      <td>1</td>\n",
              "      <td>0</td>\n",
              "      <td>0</td>\n",
              "      <td>0</td>\n",
              "      <td>0</td>\n",
              "      <td>0</td>\n",
              "      <td>0</td>\n",
              "      <td>1</td>\n",
              "      <td>0</td>\n",
              "      <td>0</td>\n",
              "      <td>0</td>\n",
              "      <td>1</td>\n",
              "      <td>0</td>\n",
              "      <td>1</td>\n",
              "      <td>0</td>\n",
              "      <td>0</td>\n",
              "      <td>1</td>\n",
              "      <td>0</td>\n",
              "      <td>1</td>\n",
              "      <td>0</td>\n",
              "      <td>0</td>\n",
              "      <td>0</td>\n",
              "      <td>0</td>\n",
              "      <td>0</td>\n",
              "      <td>0</td>\n",
              "      <td>0</td>\n",
              "      <td>0</td>\n",
              "      <td>0</td>\n",
              "      <td>1</td>\n",
              "      <td>0</td>\n",
              "      <td>0</td>\n",
              "      <td>0</td>\n",
              "      <td>0</td>\n",
              "      <td>226</td>\n",
              "      <td>1</td>\n",
              "      <td>0.0</td>\n",
              "      <td>0</td>\n",
              "      <td>1</td>\n",
              "      <td>0</td>\n",
              "      <td>0</td>\n",
              "      <td>0.0000</td>\n",
              "      <td>0.266594</td>\n",
              "      <td>0.857143</td>\n",
              "      <td>0.000000</td>\n",
              "      <td>0.000000</td>\n",
              "      <td>0</td>\n",
              "    </tr>\n",
              "    <tr>\n",
              "      <th>3</th>\n",
              "      <td>0.133333</td>\n",
              "      <td>0</td>\n",
              "      <td>0</td>\n",
              "      <td>1</td>\n",
              "      <td>0</td>\n",
              "      <td>0</td>\n",
              "      <td>0</td>\n",
              "      <td>0</td>\n",
              "      <td>0</td>\n",
              "      <td>0</td>\n",
              "      <td>0</td>\n",
              "      <td>0</td>\n",
              "      <td>0</td>\n",
              "      <td>1</td>\n",
              "      <td>0</td>\n",
              "      <td>0</td>\n",
              "      <td>0</td>\n",
              "      <td>0</td>\n",
              "      <td>0</td>\n",
              "      <td>1</td>\n",
              "      <td>0</td>\n",
              "      <td>0</td>\n",
              "      <td>0</td>\n",
              "      <td>0</td>\n",
              "      <td>0</td>\n",
              "      <td>1</td>\n",
              "      <td>0</td>\n",
              "      <td>0</td>\n",
              "      <td>1</td>\n",
              "      <td>0</td>\n",
              "      <td>0</td>\n",
              "      <td>1</td>\n",
              "      <td>0</td>\n",
              "      <td>0</td>\n",
              "      <td>1</td>\n",
              "      <td>0</td>\n",
              "      <td>1</td>\n",
              "      <td>0</td>\n",
              "      <td>0</td>\n",
              "      <td>0</td>\n",
              "      <td>0</td>\n",
              "      <td>0</td>\n",
              "      <td>0</td>\n",
              "      <td>0</td>\n",
              "      <td>0</td>\n",
              "      <td>0</td>\n",
              "      <td>1</td>\n",
              "      <td>0</td>\n",
              "      <td>0</td>\n",
              "      <td>0</td>\n",
              "      <td>0</td>\n",
              "      <td>151</td>\n",
              "      <td>1</td>\n",
              "      <td>0.0</td>\n",
              "      <td>0</td>\n",
              "      <td>1</td>\n",
              "      <td>0</td>\n",
              "      <td>0</td>\n",
              "      <td>0.0000</td>\n",
              "      <td>0.266594</td>\n",
              "      <td>0.857143</td>\n",
              "      <td>0.000000</td>\n",
              "      <td>0.000000</td>\n",
              "      <td>0</td>\n",
              "    </tr>\n",
              "    <tr>\n",
              "      <th>4</th>\n",
              "      <td>1.200000</td>\n",
              "      <td>0</td>\n",
              "      <td>1</td>\n",
              "      <td>0</td>\n",
              "      <td>0</td>\n",
              "      <td>0</td>\n",
              "      <td>0</td>\n",
              "      <td>0</td>\n",
              "      <td>0</td>\n",
              "      <td>0</td>\n",
              "      <td>0</td>\n",
              "      <td>0</td>\n",
              "      <td>0</td>\n",
              "      <td>1</td>\n",
              "      <td>0</td>\n",
              "      <td>0</td>\n",
              "      <td>0</td>\n",
              "      <td>0</td>\n",
              "      <td>1</td>\n",
              "      <td>0</td>\n",
              "      <td>0</td>\n",
              "      <td>0</td>\n",
              "      <td>0</td>\n",
              "      <td>0</td>\n",
              "      <td>0</td>\n",
              "      <td>1</td>\n",
              "      <td>0</td>\n",
              "      <td>0</td>\n",
              "      <td>1</td>\n",
              "      <td>0</td>\n",
              "      <td>0</td>\n",
              "      <td>0</td>\n",
              "      <td>1</td>\n",
              "      <td>0</td>\n",
              "      <td>1</td>\n",
              "      <td>0</td>\n",
              "      <td>1</td>\n",
              "      <td>0</td>\n",
              "      <td>0</td>\n",
              "      <td>0</td>\n",
              "      <td>0</td>\n",
              "      <td>0</td>\n",
              "      <td>0</td>\n",
              "      <td>0</td>\n",
              "      <td>0</td>\n",
              "      <td>0</td>\n",
              "      <td>1</td>\n",
              "      <td>0</td>\n",
              "      <td>0</td>\n",
              "      <td>0</td>\n",
              "      <td>0</td>\n",
              "      <td>307</td>\n",
              "      <td>1</td>\n",
              "      <td>0.0</td>\n",
              "      <td>0</td>\n",
              "      <td>1</td>\n",
              "      <td>0</td>\n",
              "      <td>0</td>\n",
              "      <td>0.0000</td>\n",
              "      <td>0.266594</td>\n",
              "      <td>0.857143</td>\n",
              "      <td>0.000000</td>\n",
              "      <td>0.000000</td>\n",
              "      <td>0</td>\n",
              "    </tr>\n",
              "    <tr>\n",
              "      <th>...</th>\n",
              "      <td>...</td>\n",
              "      <td>...</td>\n",
              "      <td>...</td>\n",
              "      <td>...</td>\n",
              "      <td>...</td>\n",
              "      <td>...</td>\n",
              "      <td>...</td>\n",
              "      <td>...</td>\n",
              "      <td>...</td>\n",
              "      <td>...</td>\n",
              "      <td>...</td>\n",
              "      <td>...</td>\n",
              "      <td>...</td>\n",
              "      <td>...</td>\n",
              "      <td>...</td>\n",
              "      <td>...</td>\n",
              "      <td>...</td>\n",
              "      <td>...</td>\n",
              "      <td>...</td>\n",
              "      <td>...</td>\n",
              "      <td>...</td>\n",
              "      <td>...</td>\n",
              "      <td>...</td>\n",
              "      <td>...</td>\n",
              "      <td>...</td>\n",
              "      <td>...</td>\n",
              "      <td>...</td>\n",
              "      <td>...</td>\n",
              "      <td>...</td>\n",
              "      <td>...</td>\n",
              "      <td>...</td>\n",
              "      <td>...</td>\n",
              "      <td>...</td>\n",
              "      <td>...</td>\n",
              "      <td>...</td>\n",
              "      <td>...</td>\n",
              "      <td>...</td>\n",
              "      <td>...</td>\n",
              "      <td>...</td>\n",
              "      <td>...</td>\n",
              "      <td>...</td>\n",
              "      <td>...</td>\n",
              "      <td>...</td>\n",
              "      <td>...</td>\n",
              "      <td>...</td>\n",
              "      <td>...</td>\n",
              "      <td>...</td>\n",
              "      <td>...</td>\n",
              "      <td>...</td>\n",
              "      <td>...</td>\n",
              "      <td>...</td>\n",
              "      <td>...</td>\n",
              "      <td>...</td>\n",
              "      <td>...</td>\n",
              "      <td>...</td>\n",
              "      <td>...</td>\n",
              "      <td>...</td>\n",
              "      <td>...</td>\n",
              "      <td>...</td>\n",
              "      <td>...</td>\n",
              "      <td>...</td>\n",
              "      <td>...</td>\n",
              "      <td>...</td>\n",
              "      <td>...</td>\n",
              "    </tr>\n",
              "    <tr>\n",
              "      <th>41183</th>\n",
              "      <td>2.333333</td>\n",
              "      <td>0</td>\n",
              "      <td>0</td>\n",
              "      <td>0</td>\n",
              "      <td>0</td>\n",
              "      <td>0</td>\n",
              "      <td>1</td>\n",
              "      <td>0</td>\n",
              "      <td>0</td>\n",
              "      <td>0</td>\n",
              "      <td>0</td>\n",
              "      <td>0</td>\n",
              "      <td>0</td>\n",
              "      <td>1</td>\n",
              "      <td>0</td>\n",
              "      <td>0</td>\n",
              "      <td>0</td>\n",
              "      <td>0</td>\n",
              "      <td>0</td>\n",
              "      <td>0</td>\n",
              "      <td>0</td>\n",
              "      <td>1</td>\n",
              "      <td>0</td>\n",
              "      <td>0</td>\n",
              "      <td>0</td>\n",
              "      <td>1</td>\n",
              "      <td>0</td>\n",
              "      <td>0</td>\n",
              "      <td>0</td>\n",
              "      <td>1</td>\n",
              "      <td>0</td>\n",
              "      <td>1</td>\n",
              "      <td>0</td>\n",
              "      <td>0</td>\n",
              "      <td>0</td>\n",
              "      <td>1</td>\n",
              "      <td>0</td>\n",
              "      <td>0</td>\n",
              "      <td>0</td>\n",
              "      <td>0</td>\n",
              "      <td>0</td>\n",
              "      <td>1</td>\n",
              "      <td>0</td>\n",
              "      <td>0</td>\n",
              "      <td>0</td>\n",
              "      <td>0</td>\n",
              "      <td>0</td>\n",
              "      <td>0</td>\n",
              "      <td>0</td>\n",
              "      <td>0</td>\n",
              "      <td>1</td>\n",
              "      <td>334</td>\n",
              "      <td>1</td>\n",
              "      <td>0.0</td>\n",
              "      <td>0</td>\n",
              "      <td>1</td>\n",
              "      <td>0</td>\n",
              "      <td>0</td>\n",
              "      <td>-0.6875</td>\n",
              "      <td>1.107726</td>\n",
              "      <td>-1.428571</td>\n",
              "      <td>-1.058612</td>\n",
              "      <td>-1.762791</td>\n",
              "      <td>1</td>\n",
              "    </tr>\n",
              "    <tr>\n",
              "      <th>41184</th>\n",
              "      <td>0.533333</td>\n",
              "      <td>0</td>\n",
              "      <td>0</td>\n",
              "      <td>0</td>\n",
              "      <td>1</td>\n",
              "      <td>0</td>\n",
              "      <td>0</td>\n",
              "      <td>0</td>\n",
              "      <td>0</td>\n",
              "      <td>0</td>\n",
              "      <td>0</td>\n",
              "      <td>0</td>\n",
              "      <td>0</td>\n",
              "      <td>1</td>\n",
              "      <td>0</td>\n",
              "      <td>0</td>\n",
              "      <td>0</td>\n",
              "      <td>0</td>\n",
              "      <td>0</td>\n",
              "      <td>0</td>\n",
              "      <td>0</td>\n",
              "      <td>1</td>\n",
              "      <td>0</td>\n",
              "      <td>0</td>\n",
              "      <td>0</td>\n",
              "      <td>1</td>\n",
              "      <td>0</td>\n",
              "      <td>0</td>\n",
              "      <td>1</td>\n",
              "      <td>0</td>\n",
              "      <td>0</td>\n",
              "      <td>1</td>\n",
              "      <td>0</td>\n",
              "      <td>0</td>\n",
              "      <td>0</td>\n",
              "      <td>1</td>\n",
              "      <td>0</td>\n",
              "      <td>0</td>\n",
              "      <td>0</td>\n",
              "      <td>0</td>\n",
              "      <td>0</td>\n",
              "      <td>1</td>\n",
              "      <td>0</td>\n",
              "      <td>0</td>\n",
              "      <td>0</td>\n",
              "      <td>0</td>\n",
              "      <td>0</td>\n",
              "      <td>0</td>\n",
              "      <td>0</td>\n",
              "      <td>0</td>\n",
              "      <td>1</td>\n",
              "      <td>383</td>\n",
              "      <td>1</td>\n",
              "      <td>0.0</td>\n",
              "      <td>0</td>\n",
              "      <td>1</td>\n",
              "      <td>0</td>\n",
              "      <td>0</td>\n",
              "      <td>-0.6875</td>\n",
              "      <td>1.107726</td>\n",
              "      <td>-1.428571</td>\n",
              "      <td>-1.058612</td>\n",
              "      <td>-1.762791</td>\n",
              "      <td>0</td>\n",
              "    </tr>\n",
              "    <tr>\n",
              "      <th>41185</th>\n",
              "      <td>1.200000</td>\n",
              "      <td>0</td>\n",
              "      <td>0</td>\n",
              "      <td>0</td>\n",
              "      <td>0</td>\n",
              "      <td>0</td>\n",
              "      <td>1</td>\n",
              "      <td>0</td>\n",
              "      <td>0</td>\n",
              "      <td>0</td>\n",
              "      <td>0</td>\n",
              "      <td>0</td>\n",
              "      <td>0</td>\n",
              "      <td>1</td>\n",
              "      <td>0</td>\n",
              "      <td>0</td>\n",
              "      <td>0</td>\n",
              "      <td>0</td>\n",
              "      <td>0</td>\n",
              "      <td>0</td>\n",
              "      <td>0</td>\n",
              "      <td>0</td>\n",
              "      <td>0</td>\n",
              "      <td>1</td>\n",
              "      <td>0</td>\n",
              "      <td>1</td>\n",
              "      <td>0</td>\n",
              "      <td>0</td>\n",
              "      <td>0</td>\n",
              "      <td>1</td>\n",
              "      <td>0</td>\n",
              "      <td>1</td>\n",
              "      <td>0</td>\n",
              "      <td>0</td>\n",
              "      <td>0</td>\n",
              "      <td>1</td>\n",
              "      <td>0</td>\n",
              "      <td>0</td>\n",
              "      <td>0</td>\n",
              "      <td>0</td>\n",
              "      <td>0</td>\n",
              "      <td>1</td>\n",
              "      <td>0</td>\n",
              "      <td>0</td>\n",
              "      <td>0</td>\n",
              "      <td>0</td>\n",
              "      <td>0</td>\n",
              "      <td>0</td>\n",
              "      <td>0</td>\n",
              "      <td>0</td>\n",
              "      <td>1</td>\n",
              "      <td>189</td>\n",
              "      <td>2</td>\n",
              "      <td>0.0</td>\n",
              "      <td>0</td>\n",
              "      <td>1</td>\n",
              "      <td>0</td>\n",
              "      <td>0</td>\n",
              "      <td>-0.6875</td>\n",
              "      <td>1.107726</td>\n",
              "      <td>-1.428571</td>\n",
              "      <td>-1.058612</td>\n",
              "      <td>-1.762791</td>\n",
              "      <td>0</td>\n",
              "    </tr>\n",
              "    <tr>\n",
              "      <th>41186</th>\n",
              "      <td>0.400000</td>\n",
              "      <td>0</td>\n",
              "      <td>0</td>\n",
              "      <td>0</td>\n",
              "      <td>0</td>\n",
              "      <td>1</td>\n",
              "      <td>0</td>\n",
              "      <td>0</td>\n",
              "      <td>0</td>\n",
              "      <td>0</td>\n",
              "      <td>0</td>\n",
              "      <td>0</td>\n",
              "      <td>0</td>\n",
              "      <td>1</td>\n",
              "      <td>0</td>\n",
              "      <td>0</td>\n",
              "      <td>0</td>\n",
              "      <td>0</td>\n",
              "      <td>0</td>\n",
              "      <td>0</td>\n",
              "      <td>0</td>\n",
              "      <td>1</td>\n",
              "      <td>0</td>\n",
              "      <td>0</td>\n",
              "      <td>0</td>\n",
              "      <td>1</td>\n",
              "      <td>0</td>\n",
              "      <td>0</td>\n",
              "      <td>1</td>\n",
              "      <td>0</td>\n",
              "      <td>0</td>\n",
              "      <td>1</td>\n",
              "      <td>0</td>\n",
              "      <td>0</td>\n",
              "      <td>0</td>\n",
              "      <td>1</td>\n",
              "      <td>0</td>\n",
              "      <td>0</td>\n",
              "      <td>0</td>\n",
              "      <td>0</td>\n",
              "      <td>0</td>\n",
              "      <td>1</td>\n",
              "      <td>0</td>\n",
              "      <td>0</td>\n",
              "      <td>0</td>\n",
              "      <td>0</td>\n",
              "      <td>0</td>\n",
              "      <td>0</td>\n",
              "      <td>0</td>\n",
              "      <td>0</td>\n",
              "      <td>1</td>\n",
              "      <td>442</td>\n",
              "      <td>1</td>\n",
              "      <td>0.0</td>\n",
              "      <td>0</td>\n",
              "      <td>1</td>\n",
              "      <td>0</td>\n",
              "      <td>0</td>\n",
              "      <td>-0.6875</td>\n",
              "      <td>1.107726</td>\n",
              "      <td>-1.428571</td>\n",
              "      <td>-1.058612</td>\n",
              "      <td>-1.762791</td>\n",
              "      <td>1</td>\n",
              "    </tr>\n",
              "    <tr>\n",
              "      <th>41187</th>\n",
              "      <td>2.400000</td>\n",
              "      <td>0</td>\n",
              "      <td>0</td>\n",
              "      <td>0</td>\n",
              "      <td>0</td>\n",
              "      <td>0</td>\n",
              "      <td>1</td>\n",
              "      <td>0</td>\n",
              "      <td>0</td>\n",
              "      <td>0</td>\n",
              "      <td>0</td>\n",
              "      <td>0</td>\n",
              "      <td>0</td>\n",
              "      <td>1</td>\n",
              "      <td>0</td>\n",
              "      <td>0</td>\n",
              "      <td>0</td>\n",
              "      <td>0</td>\n",
              "      <td>0</td>\n",
              "      <td>0</td>\n",
              "      <td>0</td>\n",
              "      <td>1</td>\n",
              "      <td>0</td>\n",
              "      <td>0</td>\n",
              "      <td>0</td>\n",
              "      <td>1</td>\n",
              "      <td>0</td>\n",
              "      <td>0</td>\n",
              "      <td>0</td>\n",
              "      <td>1</td>\n",
              "      <td>0</td>\n",
              "      <td>1</td>\n",
              "      <td>0</td>\n",
              "      <td>0</td>\n",
              "      <td>0</td>\n",
              "      <td>1</td>\n",
              "      <td>0</td>\n",
              "      <td>0</td>\n",
              "      <td>0</td>\n",
              "      <td>0</td>\n",
              "      <td>0</td>\n",
              "      <td>1</td>\n",
              "      <td>0</td>\n",
              "      <td>0</td>\n",
              "      <td>0</td>\n",
              "      <td>0</td>\n",
              "      <td>0</td>\n",
              "      <td>0</td>\n",
              "      <td>0</td>\n",
              "      <td>0</td>\n",
              "      <td>1</td>\n",
              "      <td>239</td>\n",
              "      <td>3</td>\n",
              "      <td>0.0</td>\n",
              "      <td>1</td>\n",
              "      <td>0</td>\n",
              "      <td>1</td>\n",
              "      <td>0</td>\n",
              "      <td>-0.6875</td>\n",
              "      <td>1.107726</td>\n",
              "      <td>-1.428571</td>\n",
              "      <td>-1.058612</td>\n",
              "      <td>-1.762791</td>\n",
              "      <td>0</td>\n",
              "    </tr>\n",
              "  </tbody>\n",
              "</table>\n",
              "<p>41188 rows × 64 columns</p>\n",
              "</div>"
            ],
            "text/plain": [
              "            age  job_housemaid  job_services  ...  euribor3m  nr.employed  y\n",
              "0      1.200000              1             0  ...   0.000000     0.000000  0\n",
              "1      1.266667              0             1  ...   0.000000     0.000000  0\n",
              "2     -0.066667              0             1  ...   0.000000     0.000000  0\n",
              "3      0.133333              0             0  ...   0.000000     0.000000  0\n",
              "4      1.200000              0             1  ...   0.000000     0.000000  0\n",
              "...         ...            ...           ...  ...        ...          ... ..\n",
              "41183  2.333333              0             0  ...  -1.058612    -1.762791  1\n",
              "41184  0.533333              0             0  ...  -1.058612    -1.762791  0\n",
              "41185  1.200000              0             0  ...  -1.058612    -1.762791  0\n",
              "41186  0.400000              0             0  ...  -1.058612    -1.762791  1\n",
              "41187  2.400000              0             0  ...  -1.058612    -1.762791  0\n",
              "\n",
              "[41188 rows x 64 columns]"
            ]
          },
          "metadata": {
            "tags": []
          },
          "execution_count": 31
        }
      ]
    },
    {
      "cell_type": "markdown",
      "metadata": {
        "id": "QlKqufpJ9-Vw",
        "colab_type": "text"
      },
      "source": [
        "There is need for us to separate our target variable from the rest of the dataset.\n",
        "Also we will also drop the duration column because this attribute highly affects the output target (e.g., if duration=0 then y='no'). Yet, the duration is not known before a call is performed. Also, after the end of the call y is obviously known. "
      ]
    },
    {
      "cell_type": "code",
      "metadata": {
        "id": "aDQhNJ0QSdfY",
        "colab_type": "code",
        "colab": {
          "base_uri": "https://localhost:8080/",
          "height": 52
        },
        "outputId": "d33f4fe0-e877-42a4-b8a5-e694f14a22a3"
      },
      "source": [
        "X = pred1_data.drop(columns=[ \"y\",\"duration\"]) #dropping the duration column\n",
        "y = pred1_data[\"y\"]\n",
        "print(X.shape)\n",
        "print(y.shape)"
      ],
      "execution_count": 32,
      "outputs": [
        {
          "output_type": "stream",
          "text": [
            "(41188, 62)\n",
            "(41188,)\n"
          ],
          "name": "stdout"
        }
      ]
    },
    {
      "cell_type": "markdown",
      "metadata": {
        "id": "uRyNRaCfUrmE",
        "colab_type": "text"
      },
      "source": [
        "## **3. Dimensionality reduction using PCA**\n",
        "\n",
        "PCA is a technique for reducing the number of dimensions in a dataset whilst retaining most information. It is using the correlation between some dimensions and tries to provide a minimum number of variables that keeps the maximum amount of variation or information about how the original data is distributed."
      ]
    },
    {
      "cell_type": "code",
      "metadata": {
        "id": "IhBb-VkEVguz",
        "colab_type": "code",
        "colab": {
          "base_uri": "https://localhost:8080/",
          "height": 443
        },
        "outputId": "376ace70-13be-40cf-a163-178bd6e10191"
      },
      "source": [
        "#our data\n",
        "X"
      ],
      "execution_count": 33,
      "outputs": [
        {
          "output_type": "execute_result",
          "data": {
            "text/html": [
              "<div>\n",
              "<style scoped>\n",
              "    .dataframe tbody tr th:only-of-type {\n",
              "        vertical-align: middle;\n",
              "    }\n",
              "\n",
              "    .dataframe tbody tr th {\n",
              "        vertical-align: top;\n",
              "    }\n",
              "\n",
              "    .dataframe thead th {\n",
              "        text-align: right;\n",
              "    }\n",
              "</style>\n",
              "<table border=\"1\" class=\"dataframe\">\n",
              "  <thead>\n",
              "    <tr style=\"text-align: right;\">\n",
              "      <th></th>\n",
              "      <th>age</th>\n",
              "      <th>job_housemaid</th>\n",
              "      <th>job_services</th>\n",
              "      <th>job_admin.</th>\n",
              "      <th>job_blue-collar</th>\n",
              "      <th>job_technician</th>\n",
              "      <th>job_retired</th>\n",
              "      <th>job_management</th>\n",
              "      <th>job_unemployed</th>\n",
              "      <th>job_self-employed</th>\n",
              "      <th>job_unknown</th>\n",
              "      <th>job_entrepreneur</th>\n",
              "      <th>job_student</th>\n",
              "      <th>marital_married</th>\n",
              "      <th>marital_single</th>\n",
              "      <th>marital_divorced</th>\n",
              "      <th>marital_unknown</th>\n",
              "      <th>education_basic.4y</th>\n",
              "      <th>education_high.school</th>\n",
              "      <th>education_basic.6y</th>\n",
              "      <th>education_basic.9y</th>\n",
              "      <th>education_professional.course</th>\n",
              "      <th>education_unknown</th>\n",
              "      <th>education_university.degree</th>\n",
              "      <th>education_illiterate</th>\n",
              "      <th>default_no</th>\n",
              "      <th>default_unknown</th>\n",
              "      <th>default_yes</th>\n",
              "      <th>housing_no</th>\n",
              "      <th>housing_yes</th>\n",
              "      <th>housing_unknown</th>\n",
              "      <th>loan_no</th>\n",
              "      <th>loan_yes</th>\n",
              "      <th>loan_unknown</th>\n",
              "      <th>contact_telephone</th>\n",
              "      <th>contact_cellular</th>\n",
              "      <th>month_may</th>\n",
              "      <th>month_jun</th>\n",
              "      <th>month_jul</th>\n",
              "      <th>month_aug</th>\n",
              "      <th>month_oct</th>\n",
              "      <th>month_nov</th>\n",
              "      <th>month_dec</th>\n",
              "      <th>month_mar</th>\n",
              "      <th>month_apr</th>\n",
              "      <th>month_sep</th>\n",
              "      <th>day_of_week_mon</th>\n",
              "      <th>day_of_week_tue</th>\n",
              "      <th>day_of_week_wed</th>\n",
              "      <th>day_of_week_thu</th>\n",
              "      <th>day_of_week_fri</th>\n",
              "      <th>campaign</th>\n",
              "      <th>pdays</th>\n",
              "      <th>previous</th>\n",
              "      <th>poutcome_nonexistent</th>\n",
              "      <th>poutcome_failure</th>\n",
              "      <th>poutcome_success</th>\n",
              "      <th>emp.var.rate</th>\n",
              "      <th>cons.price.idx</th>\n",
              "      <th>cons.conf.idx</th>\n",
              "      <th>euribor3m</th>\n",
              "      <th>nr.employed</th>\n",
              "    </tr>\n",
              "  </thead>\n",
              "  <tbody>\n",
              "    <tr>\n",
              "      <th>0</th>\n",
              "      <td>1.200000</td>\n",
              "      <td>1</td>\n",
              "      <td>0</td>\n",
              "      <td>0</td>\n",
              "      <td>0</td>\n",
              "      <td>0</td>\n",
              "      <td>0</td>\n",
              "      <td>0</td>\n",
              "      <td>0</td>\n",
              "      <td>0</td>\n",
              "      <td>0</td>\n",
              "      <td>0</td>\n",
              "      <td>0</td>\n",
              "      <td>1</td>\n",
              "      <td>0</td>\n",
              "      <td>0</td>\n",
              "      <td>0</td>\n",
              "      <td>1</td>\n",
              "      <td>0</td>\n",
              "      <td>0</td>\n",
              "      <td>0</td>\n",
              "      <td>0</td>\n",
              "      <td>0</td>\n",
              "      <td>0</td>\n",
              "      <td>0</td>\n",
              "      <td>1</td>\n",
              "      <td>0</td>\n",
              "      <td>0</td>\n",
              "      <td>1</td>\n",
              "      <td>0</td>\n",
              "      <td>0</td>\n",
              "      <td>1</td>\n",
              "      <td>0</td>\n",
              "      <td>0</td>\n",
              "      <td>1</td>\n",
              "      <td>0</td>\n",
              "      <td>1</td>\n",
              "      <td>0</td>\n",
              "      <td>0</td>\n",
              "      <td>0</td>\n",
              "      <td>0</td>\n",
              "      <td>0</td>\n",
              "      <td>0</td>\n",
              "      <td>0</td>\n",
              "      <td>0</td>\n",
              "      <td>0</td>\n",
              "      <td>1</td>\n",
              "      <td>0</td>\n",
              "      <td>0</td>\n",
              "      <td>0</td>\n",
              "      <td>0</td>\n",
              "      <td>1</td>\n",
              "      <td>0.0</td>\n",
              "      <td>0</td>\n",
              "      <td>1</td>\n",
              "      <td>0</td>\n",
              "      <td>0</td>\n",
              "      <td>0.0000</td>\n",
              "      <td>0.266594</td>\n",
              "      <td>0.857143</td>\n",
              "      <td>0.000000</td>\n",
              "      <td>0.000000</td>\n",
              "    </tr>\n",
              "    <tr>\n",
              "      <th>1</th>\n",
              "      <td>1.266667</td>\n",
              "      <td>0</td>\n",
              "      <td>1</td>\n",
              "      <td>0</td>\n",
              "      <td>0</td>\n",
              "      <td>0</td>\n",
              "      <td>0</td>\n",
              "      <td>0</td>\n",
              "      <td>0</td>\n",
              "      <td>0</td>\n",
              "      <td>0</td>\n",
              "      <td>0</td>\n",
              "      <td>0</td>\n",
              "      <td>1</td>\n",
              "      <td>0</td>\n",
              "      <td>0</td>\n",
              "      <td>0</td>\n",
              "      <td>0</td>\n",
              "      <td>1</td>\n",
              "      <td>0</td>\n",
              "      <td>0</td>\n",
              "      <td>0</td>\n",
              "      <td>0</td>\n",
              "      <td>0</td>\n",
              "      <td>0</td>\n",
              "      <td>0</td>\n",
              "      <td>1</td>\n",
              "      <td>0</td>\n",
              "      <td>1</td>\n",
              "      <td>0</td>\n",
              "      <td>0</td>\n",
              "      <td>1</td>\n",
              "      <td>0</td>\n",
              "      <td>0</td>\n",
              "      <td>1</td>\n",
              "      <td>0</td>\n",
              "      <td>1</td>\n",
              "      <td>0</td>\n",
              "      <td>0</td>\n",
              "      <td>0</td>\n",
              "      <td>0</td>\n",
              "      <td>0</td>\n",
              "      <td>0</td>\n",
              "      <td>0</td>\n",
              "      <td>0</td>\n",
              "      <td>0</td>\n",
              "      <td>1</td>\n",
              "      <td>0</td>\n",
              "      <td>0</td>\n",
              "      <td>0</td>\n",
              "      <td>0</td>\n",
              "      <td>1</td>\n",
              "      <td>0.0</td>\n",
              "      <td>0</td>\n",
              "      <td>1</td>\n",
              "      <td>0</td>\n",
              "      <td>0</td>\n",
              "      <td>0.0000</td>\n",
              "      <td>0.266594</td>\n",
              "      <td>0.857143</td>\n",
              "      <td>0.000000</td>\n",
              "      <td>0.000000</td>\n",
              "    </tr>\n",
              "    <tr>\n",
              "      <th>2</th>\n",
              "      <td>-0.066667</td>\n",
              "      <td>0</td>\n",
              "      <td>1</td>\n",
              "      <td>0</td>\n",
              "      <td>0</td>\n",
              "      <td>0</td>\n",
              "      <td>0</td>\n",
              "      <td>0</td>\n",
              "      <td>0</td>\n",
              "      <td>0</td>\n",
              "      <td>0</td>\n",
              "      <td>0</td>\n",
              "      <td>0</td>\n",
              "      <td>1</td>\n",
              "      <td>0</td>\n",
              "      <td>0</td>\n",
              "      <td>0</td>\n",
              "      <td>0</td>\n",
              "      <td>1</td>\n",
              "      <td>0</td>\n",
              "      <td>0</td>\n",
              "      <td>0</td>\n",
              "      <td>0</td>\n",
              "      <td>0</td>\n",
              "      <td>0</td>\n",
              "      <td>1</td>\n",
              "      <td>0</td>\n",
              "      <td>0</td>\n",
              "      <td>0</td>\n",
              "      <td>1</td>\n",
              "      <td>0</td>\n",
              "      <td>1</td>\n",
              "      <td>0</td>\n",
              "      <td>0</td>\n",
              "      <td>1</td>\n",
              "      <td>0</td>\n",
              "      <td>1</td>\n",
              "      <td>0</td>\n",
              "      <td>0</td>\n",
              "      <td>0</td>\n",
              "      <td>0</td>\n",
              "      <td>0</td>\n",
              "      <td>0</td>\n",
              "      <td>0</td>\n",
              "      <td>0</td>\n",
              "      <td>0</td>\n",
              "      <td>1</td>\n",
              "      <td>0</td>\n",
              "      <td>0</td>\n",
              "      <td>0</td>\n",
              "      <td>0</td>\n",
              "      <td>1</td>\n",
              "      <td>0.0</td>\n",
              "      <td>0</td>\n",
              "      <td>1</td>\n",
              "      <td>0</td>\n",
              "      <td>0</td>\n",
              "      <td>0.0000</td>\n",
              "      <td>0.266594</td>\n",
              "      <td>0.857143</td>\n",
              "      <td>0.000000</td>\n",
              "      <td>0.000000</td>\n",
              "    </tr>\n",
              "    <tr>\n",
              "      <th>3</th>\n",
              "      <td>0.133333</td>\n",
              "      <td>0</td>\n",
              "      <td>0</td>\n",
              "      <td>1</td>\n",
              "      <td>0</td>\n",
              "      <td>0</td>\n",
              "      <td>0</td>\n",
              "      <td>0</td>\n",
              "      <td>0</td>\n",
              "      <td>0</td>\n",
              "      <td>0</td>\n",
              "      <td>0</td>\n",
              "      <td>0</td>\n",
              "      <td>1</td>\n",
              "      <td>0</td>\n",
              "      <td>0</td>\n",
              "      <td>0</td>\n",
              "      <td>0</td>\n",
              "      <td>0</td>\n",
              "      <td>1</td>\n",
              "      <td>0</td>\n",
              "      <td>0</td>\n",
              "      <td>0</td>\n",
              "      <td>0</td>\n",
              "      <td>0</td>\n",
              "      <td>1</td>\n",
              "      <td>0</td>\n",
              "      <td>0</td>\n",
              "      <td>1</td>\n",
              "      <td>0</td>\n",
              "      <td>0</td>\n",
              "      <td>1</td>\n",
              "      <td>0</td>\n",
              "      <td>0</td>\n",
              "      <td>1</td>\n",
              "      <td>0</td>\n",
              "      <td>1</td>\n",
              "      <td>0</td>\n",
              "      <td>0</td>\n",
              "      <td>0</td>\n",
              "      <td>0</td>\n",
              "      <td>0</td>\n",
              "      <td>0</td>\n",
              "      <td>0</td>\n",
              "      <td>0</td>\n",
              "      <td>0</td>\n",
              "      <td>1</td>\n",
              "      <td>0</td>\n",
              "      <td>0</td>\n",
              "      <td>0</td>\n",
              "      <td>0</td>\n",
              "      <td>1</td>\n",
              "      <td>0.0</td>\n",
              "      <td>0</td>\n",
              "      <td>1</td>\n",
              "      <td>0</td>\n",
              "      <td>0</td>\n",
              "      <td>0.0000</td>\n",
              "      <td>0.266594</td>\n",
              "      <td>0.857143</td>\n",
              "      <td>0.000000</td>\n",
              "      <td>0.000000</td>\n",
              "    </tr>\n",
              "    <tr>\n",
              "      <th>4</th>\n",
              "      <td>1.200000</td>\n",
              "      <td>0</td>\n",
              "      <td>1</td>\n",
              "      <td>0</td>\n",
              "      <td>0</td>\n",
              "      <td>0</td>\n",
              "      <td>0</td>\n",
              "      <td>0</td>\n",
              "      <td>0</td>\n",
              "      <td>0</td>\n",
              "      <td>0</td>\n",
              "      <td>0</td>\n",
              "      <td>0</td>\n",
              "      <td>1</td>\n",
              "      <td>0</td>\n",
              "      <td>0</td>\n",
              "      <td>0</td>\n",
              "      <td>0</td>\n",
              "      <td>1</td>\n",
              "      <td>0</td>\n",
              "      <td>0</td>\n",
              "      <td>0</td>\n",
              "      <td>0</td>\n",
              "      <td>0</td>\n",
              "      <td>0</td>\n",
              "      <td>1</td>\n",
              "      <td>0</td>\n",
              "      <td>0</td>\n",
              "      <td>1</td>\n",
              "      <td>0</td>\n",
              "      <td>0</td>\n",
              "      <td>0</td>\n",
              "      <td>1</td>\n",
              "      <td>0</td>\n",
              "      <td>1</td>\n",
              "      <td>0</td>\n",
              "      <td>1</td>\n",
              "      <td>0</td>\n",
              "      <td>0</td>\n",
              "      <td>0</td>\n",
              "      <td>0</td>\n",
              "      <td>0</td>\n",
              "      <td>0</td>\n",
              "      <td>0</td>\n",
              "      <td>0</td>\n",
              "      <td>0</td>\n",
              "      <td>1</td>\n",
              "      <td>0</td>\n",
              "      <td>0</td>\n",
              "      <td>0</td>\n",
              "      <td>0</td>\n",
              "      <td>1</td>\n",
              "      <td>0.0</td>\n",
              "      <td>0</td>\n",
              "      <td>1</td>\n",
              "      <td>0</td>\n",
              "      <td>0</td>\n",
              "      <td>0.0000</td>\n",
              "      <td>0.266594</td>\n",
              "      <td>0.857143</td>\n",
              "      <td>0.000000</td>\n",
              "      <td>0.000000</td>\n",
              "    </tr>\n",
              "    <tr>\n",
              "      <th>...</th>\n",
              "      <td>...</td>\n",
              "      <td>...</td>\n",
              "      <td>...</td>\n",
              "      <td>...</td>\n",
              "      <td>...</td>\n",
              "      <td>...</td>\n",
              "      <td>...</td>\n",
              "      <td>...</td>\n",
              "      <td>...</td>\n",
              "      <td>...</td>\n",
              "      <td>...</td>\n",
              "      <td>...</td>\n",
              "      <td>...</td>\n",
              "      <td>...</td>\n",
              "      <td>...</td>\n",
              "      <td>...</td>\n",
              "      <td>...</td>\n",
              "      <td>...</td>\n",
              "      <td>...</td>\n",
              "      <td>...</td>\n",
              "      <td>...</td>\n",
              "      <td>...</td>\n",
              "      <td>...</td>\n",
              "      <td>...</td>\n",
              "      <td>...</td>\n",
              "      <td>...</td>\n",
              "      <td>...</td>\n",
              "      <td>...</td>\n",
              "      <td>...</td>\n",
              "      <td>...</td>\n",
              "      <td>...</td>\n",
              "      <td>...</td>\n",
              "      <td>...</td>\n",
              "      <td>...</td>\n",
              "      <td>...</td>\n",
              "      <td>...</td>\n",
              "      <td>...</td>\n",
              "      <td>...</td>\n",
              "      <td>...</td>\n",
              "      <td>...</td>\n",
              "      <td>...</td>\n",
              "      <td>...</td>\n",
              "      <td>...</td>\n",
              "      <td>...</td>\n",
              "      <td>...</td>\n",
              "      <td>...</td>\n",
              "      <td>...</td>\n",
              "      <td>...</td>\n",
              "      <td>...</td>\n",
              "      <td>...</td>\n",
              "      <td>...</td>\n",
              "      <td>...</td>\n",
              "      <td>...</td>\n",
              "      <td>...</td>\n",
              "      <td>...</td>\n",
              "      <td>...</td>\n",
              "      <td>...</td>\n",
              "      <td>...</td>\n",
              "      <td>...</td>\n",
              "      <td>...</td>\n",
              "      <td>...</td>\n",
              "      <td>...</td>\n",
              "    </tr>\n",
              "    <tr>\n",
              "      <th>41183</th>\n",
              "      <td>2.333333</td>\n",
              "      <td>0</td>\n",
              "      <td>0</td>\n",
              "      <td>0</td>\n",
              "      <td>0</td>\n",
              "      <td>0</td>\n",
              "      <td>1</td>\n",
              "      <td>0</td>\n",
              "      <td>0</td>\n",
              "      <td>0</td>\n",
              "      <td>0</td>\n",
              "      <td>0</td>\n",
              "      <td>0</td>\n",
              "      <td>1</td>\n",
              "      <td>0</td>\n",
              "      <td>0</td>\n",
              "      <td>0</td>\n",
              "      <td>0</td>\n",
              "      <td>0</td>\n",
              "      <td>0</td>\n",
              "      <td>0</td>\n",
              "      <td>1</td>\n",
              "      <td>0</td>\n",
              "      <td>0</td>\n",
              "      <td>0</td>\n",
              "      <td>1</td>\n",
              "      <td>0</td>\n",
              "      <td>0</td>\n",
              "      <td>0</td>\n",
              "      <td>1</td>\n",
              "      <td>0</td>\n",
              "      <td>1</td>\n",
              "      <td>0</td>\n",
              "      <td>0</td>\n",
              "      <td>0</td>\n",
              "      <td>1</td>\n",
              "      <td>0</td>\n",
              "      <td>0</td>\n",
              "      <td>0</td>\n",
              "      <td>0</td>\n",
              "      <td>0</td>\n",
              "      <td>1</td>\n",
              "      <td>0</td>\n",
              "      <td>0</td>\n",
              "      <td>0</td>\n",
              "      <td>0</td>\n",
              "      <td>0</td>\n",
              "      <td>0</td>\n",
              "      <td>0</td>\n",
              "      <td>0</td>\n",
              "      <td>1</td>\n",
              "      <td>1</td>\n",
              "      <td>0.0</td>\n",
              "      <td>0</td>\n",
              "      <td>1</td>\n",
              "      <td>0</td>\n",
              "      <td>0</td>\n",
              "      <td>-0.6875</td>\n",
              "      <td>1.107726</td>\n",
              "      <td>-1.428571</td>\n",
              "      <td>-1.058612</td>\n",
              "      <td>-1.762791</td>\n",
              "    </tr>\n",
              "    <tr>\n",
              "      <th>41184</th>\n",
              "      <td>0.533333</td>\n",
              "      <td>0</td>\n",
              "      <td>0</td>\n",
              "      <td>0</td>\n",
              "      <td>1</td>\n",
              "      <td>0</td>\n",
              "      <td>0</td>\n",
              "      <td>0</td>\n",
              "      <td>0</td>\n",
              "      <td>0</td>\n",
              "      <td>0</td>\n",
              "      <td>0</td>\n",
              "      <td>0</td>\n",
              "      <td>1</td>\n",
              "      <td>0</td>\n",
              "      <td>0</td>\n",
              "      <td>0</td>\n",
              "      <td>0</td>\n",
              "      <td>0</td>\n",
              "      <td>0</td>\n",
              "      <td>0</td>\n",
              "      <td>1</td>\n",
              "      <td>0</td>\n",
              "      <td>0</td>\n",
              "      <td>0</td>\n",
              "      <td>1</td>\n",
              "      <td>0</td>\n",
              "      <td>0</td>\n",
              "      <td>1</td>\n",
              "      <td>0</td>\n",
              "      <td>0</td>\n",
              "      <td>1</td>\n",
              "      <td>0</td>\n",
              "      <td>0</td>\n",
              "      <td>0</td>\n",
              "      <td>1</td>\n",
              "      <td>0</td>\n",
              "      <td>0</td>\n",
              "      <td>0</td>\n",
              "      <td>0</td>\n",
              "      <td>0</td>\n",
              "      <td>1</td>\n",
              "      <td>0</td>\n",
              "      <td>0</td>\n",
              "      <td>0</td>\n",
              "      <td>0</td>\n",
              "      <td>0</td>\n",
              "      <td>0</td>\n",
              "      <td>0</td>\n",
              "      <td>0</td>\n",
              "      <td>1</td>\n",
              "      <td>1</td>\n",
              "      <td>0.0</td>\n",
              "      <td>0</td>\n",
              "      <td>1</td>\n",
              "      <td>0</td>\n",
              "      <td>0</td>\n",
              "      <td>-0.6875</td>\n",
              "      <td>1.107726</td>\n",
              "      <td>-1.428571</td>\n",
              "      <td>-1.058612</td>\n",
              "      <td>-1.762791</td>\n",
              "    </tr>\n",
              "    <tr>\n",
              "      <th>41185</th>\n",
              "      <td>1.200000</td>\n",
              "      <td>0</td>\n",
              "      <td>0</td>\n",
              "      <td>0</td>\n",
              "      <td>0</td>\n",
              "      <td>0</td>\n",
              "      <td>1</td>\n",
              "      <td>0</td>\n",
              "      <td>0</td>\n",
              "      <td>0</td>\n",
              "      <td>0</td>\n",
              "      <td>0</td>\n",
              "      <td>0</td>\n",
              "      <td>1</td>\n",
              "      <td>0</td>\n",
              "      <td>0</td>\n",
              "      <td>0</td>\n",
              "      <td>0</td>\n",
              "      <td>0</td>\n",
              "      <td>0</td>\n",
              "      <td>0</td>\n",
              "      <td>0</td>\n",
              "      <td>0</td>\n",
              "      <td>1</td>\n",
              "      <td>0</td>\n",
              "      <td>1</td>\n",
              "      <td>0</td>\n",
              "      <td>0</td>\n",
              "      <td>0</td>\n",
              "      <td>1</td>\n",
              "      <td>0</td>\n",
              "      <td>1</td>\n",
              "      <td>0</td>\n",
              "      <td>0</td>\n",
              "      <td>0</td>\n",
              "      <td>1</td>\n",
              "      <td>0</td>\n",
              "      <td>0</td>\n",
              "      <td>0</td>\n",
              "      <td>0</td>\n",
              "      <td>0</td>\n",
              "      <td>1</td>\n",
              "      <td>0</td>\n",
              "      <td>0</td>\n",
              "      <td>0</td>\n",
              "      <td>0</td>\n",
              "      <td>0</td>\n",
              "      <td>0</td>\n",
              "      <td>0</td>\n",
              "      <td>0</td>\n",
              "      <td>1</td>\n",
              "      <td>2</td>\n",
              "      <td>0.0</td>\n",
              "      <td>0</td>\n",
              "      <td>1</td>\n",
              "      <td>0</td>\n",
              "      <td>0</td>\n",
              "      <td>-0.6875</td>\n",
              "      <td>1.107726</td>\n",
              "      <td>-1.428571</td>\n",
              "      <td>-1.058612</td>\n",
              "      <td>-1.762791</td>\n",
              "    </tr>\n",
              "    <tr>\n",
              "      <th>41186</th>\n",
              "      <td>0.400000</td>\n",
              "      <td>0</td>\n",
              "      <td>0</td>\n",
              "      <td>0</td>\n",
              "      <td>0</td>\n",
              "      <td>1</td>\n",
              "      <td>0</td>\n",
              "      <td>0</td>\n",
              "      <td>0</td>\n",
              "      <td>0</td>\n",
              "      <td>0</td>\n",
              "      <td>0</td>\n",
              "      <td>0</td>\n",
              "      <td>1</td>\n",
              "      <td>0</td>\n",
              "      <td>0</td>\n",
              "      <td>0</td>\n",
              "      <td>0</td>\n",
              "      <td>0</td>\n",
              "      <td>0</td>\n",
              "      <td>0</td>\n",
              "      <td>1</td>\n",
              "      <td>0</td>\n",
              "      <td>0</td>\n",
              "      <td>0</td>\n",
              "      <td>1</td>\n",
              "      <td>0</td>\n",
              "      <td>0</td>\n",
              "      <td>1</td>\n",
              "      <td>0</td>\n",
              "      <td>0</td>\n",
              "      <td>1</td>\n",
              "      <td>0</td>\n",
              "      <td>0</td>\n",
              "      <td>0</td>\n",
              "      <td>1</td>\n",
              "      <td>0</td>\n",
              "      <td>0</td>\n",
              "      <td>0</td>\n",
              "      <td>0</td>\n",
              "      <td>0</td>\n",
              "      <td>1</td>\n",
              "      <td>0</td>\n",
              "      <td>0</td>\n",
              "      <td>0</td>\n",
              "      <td>0</td>\n",
              "      <td>0</td>\n",
              "      <td>0</td>\n",
              "      <td>0</td>\n",
              "      <td>0</td>\n",
              "      <td>1</td>\n",
              "      <td>1</td>\n",
              "      <td>0.0</td>\n",
              "      <td>0</td>\n",
              "      <td>1</td>\n",
              "      <td>0</td>\n",
              "      <td>0</td>\n",
              "      <td>-0.6875</td>\n",
              "      <td>1.107726</td>\n",
              "      <td>-1.428571</td>\n",
              "      <td>-1.058612</td>\n",
              "      <td>-1.762791</td>\n",
              "    </tr>\n",
              "    <tr>\n",
              "      <th>41187</th>\n",
              "      <td>2.400000</td>\n",
              "      <td>0</td>\n",
              "      <td>0</td>\n",
              "      <td>0</td>\n",
              "      <td>0</td>\n",
              "      <td>0</td>\n",
              "      <td>1</td>\n",
              "      <td>0</td>\n",
              "      <td>0</td>\n",
              "      <td>0</td>\n",
              "      <td>0</td>\n",
              "      <td>0</td>\n",
              "      <td>0</td>\n",
              "      <td>1</td>\n",
              "      <td>0</td>\n",
              "      <td>0</td>\n",
              "      <td>0</td>\n",
              "      <td>0</td>\n",
              "      <td>0</td>\n",
              "      <td>0</td>\n",
              "      <td>0</td>\n",
              "      <td>1</td>\n",
              "      <td>0</td>\n",
              "      <td>0</td>\n",
              "      <td>0</td>\n",
              "      <td>1</td>\n",
              "      <td>0</td>\n",
              "      <td>0</td>\n",
              "      <td>0</td>\n",
              "      <td>1</td>\n",
              "      <td>0</td>\n",
              "      <td>1</td>\n",
              "      <td>0</td>\n",
              "      <td>0</td>\n",
              "      <td>0</td>\n",
              "      <td>1</td>\n",
              "      <td>0</td>\n",
              "      <td>0</td>\n",
              "      <td>0</td>\n",
              "      <td>0</td>\n",
              "      <td>0</td>\n",
              "      <td>1</td>\n",
              "      <td>0</td>\n",
              "      <td>0</td>\n",
              "      <td>0</td>\n",
              "      <td>0</td>\n",
              "      <td>0</td>\n",
              "      <td>0</td>\n",
              "      <td>0</td>\n",
              "      <td>0</td>\n",
              "      <td>1</td>\n",
              "      <td>3</td>\n",
              "      <td>0.0</td>\n",
              "      <td>1</td>\n",
              "      <td>0</td>\n",
              "      <td>1</td>\n",
              "      <td>0</td>\n",
              "      <td>-0.6875</td>\n",
              "      <td>1.107726</td>\n",
              "      <td>-1.428571</td>\n",
              "      <td>-1.058612</td>\n",
              "      <td>-1.762791</td>\n",
              "    </tr>\n",
              "  </tbody>\n",
              "</table>\n",
              "<p>41188 rows × 62 columns</p>\n",
              "</div>"
            ],
            "text/plain": [
              "            age  job_housemaid  ...  euribor3m  nr.employed\n",
              "0      1.200000              1  ...   0.000000     0.000000\n",
              "1      1.266667              0  ...   0.000000     0.000000\n",
              "2     -0.066667              0  ...   0.000000     0.000000\n",
              "3      0.133333              0  ...   0.000000     0.000000\n",
              "4      1.200000              0  ...   0.000000     0.000000\n",
              "...         ...            ...  ...        ...          ...\n",
              "41183  2.333333              0  ...  -1.058612    -1.762791\n",
              "41184  0.533333              0  ...  -1.058612    -1.762791\n",
              "41185  1.200000              0  ...  -1.058612    -1.762791\n",
              "41186  0.400000              0  ...  -1.058612    -1.762791\n",
              "41187  2.400000              0  ...  -1.058612    -1.762791\n",
              "\n",
              "[41188 rows x 62 columns]"
            ]
          },
          "metadata": {
            "tags": []
          },
          "execution_count": 33
        }
      ]
    },
    {
      "cell_type": "code",
      "metadata": {
        "id": "yeGmRHF-Vo-Z",
        "colab_type": "code",
        "colab": {
          "base_uri": "https://localhost:8080/",
          "height": 302
        },
        "outputId": "997368d5-1e2c-475d-9b76-42636da74280"
      },
      "source": [
        "pca = PCA(n_components=5) #We will choose five components\n",
        "pca_result = pca.fit_transform(X)\n",
        "plt.plot(range(5), pca.explained_variance_ratio_)\n",
        "plt.plot(range(5), np.cumsum(pca.explained_variance_ratio_))\n",
        "plt.title(\"Component-wise and Cumulative Explained Variance\")"
      ],
      "execution_count": 34,
      "outputs": [
        {
          "output_type": "execute_result",
          "data": {
            "text/plain": [
              "Text(0.5, 1.0, 'Component-wise and Cumulative Explained Variance')"
            ]
          },
          "metadata": {
            "tags": []
          },
          "execution_count": 34
        },
        {
          "output_type": "display_data",
          "data": {
            "image/png": "[encoded data removed]",
            "text/plain": [
              "<Figure size 432x288 with 1 Axes>"
            ]
          },
          "metadata": {
            "tags": []
          }
        }
      ]
    },
    {
      "cell_type": "code",
      "metadata": {
        "id": "rcZe7Qcf5UL9",
        "colab_type": "code",
        "colab": {}
      },
      "source": [
        "X=pd.DataFrame(pca_result)  #We will transform the result from PCA to dataframe"
      ],
      "execution_count": 35,
      "outputs": []
    },
    {
      "cell_type": "code",
      "metadata": {
        "id": "CnpyzTct50bJ",
        "colab_type": "code",
        "colab": {
          "base_uri": "https://localhost:8080/",
          "height": 406
        },
        "outputId": "aa945550-8043-4ed4-a2c5-8a87f57f4587"
      },
      "source": [
        "X #Viewing the dataset"
      ],
      "execution_count": 36,
      "outputs": [
        {
          "output_type": "execute_result",
          "data": {
            "text/html": [
              "<div>\n",
              "<style scoped>\n",
              "    .dataframe tbody tr th:only-of-type {\n",
              "        vertical-align: middle;\n",
              "    }\n",
              "\n",
              "    .dataframe tbody tr th {\n",
              "        vertical-align: top;\n",
              "    }\n",
              "\n",
              "    .dataframe thead th {\n",
              "        text-align: right;\n",
              "    }\n",
              "</style>\n",
              "<table border=\"1\" class=\"dataframe\">\n",
              "  <thead>\n",
              "    <tr style=\"text-align: right;\">\n",
              "      <th></th>\n",
              "      <th>0</th>\n",
              "      <th>1</th>\n",
              "      <th>2</th>\n",
              "      <th>3</th>\n",
              "      <th>4</th>\n",
              "    </tr>\n",
              "  </thead>\n",
              "  <tbody>\n",
              "    <tr>\n",
              "      <th>0</th>\n",
              "      <td>-36.524563</td>\n",
              "      <td>-1.538333</td>\n",
              "      <td>-1.332862</td>\n",
              "      <td>1.092861</td>\n",
              "      <td>0.290603</td>\n",
              "    </tr>\n",
              "    <tr>\n",
              "      <th>1</th>\n",
              "      <td>-36.524955</td>\n",
              "      <td>-1.528701</td>\n",
              "      <td>-1.498846</td>\n",
              "      <td>1.129133</td>\n",
              "      <td>0.598088</td>\n",
              "    </tr>\n",
              "    <tr>\n",
              "      <th>2</th>\n",
              "      <td>-36.524722</td>\n",
              "      <td>-1.546142</td>\n",
              "      <td>-1.078061</td>\n",
              "      <td>-0.011194</td>\n",
              "      <td>-0.079683</td>\n",
              "    </tr>\n",
              "    <tr>\n",
              "      <th>3</th>\n",
              "      <td>-36.524660</td>\n",
              "      <td>-1.539335</td>\n",
              "      <td>-1.203609</td>\n",
              "      <td>0.146894</td>\n",
              "      <td>-0.118252</td>\n",
              "    </tr>\n",
              "    <tr>\n",
              "      <th>4</th>\n",
              "      <td>-36.524617</td>\n",
              "      <td>-1.537743</td>\n",
              "      <td>-1.282445</td>\n",
              "      <td>0.838387</td>\n",
              "      <td>0.253542</td>\n",
              "    </tr>\n",
              "    <tr>\n",
              "      <th>...</th>\n",
              "      <td>...</td>\n",
              "      <td>...</td>\n",
              "      <td>...</td>\n",
              "      <td>...</td>\n",
              "      <td>...</td>\n",
              "    </tr>\n",
              "    <tr>\n",
              "      <th>41183</th>\n",
              "      <td>-36.521264</td>\n",
              "      <td>-1.638921</td>\n",
              "      <td>0.870047</td>\n",
              "      <td>1.335004</td>\n",
              "      <td>1.806597</td>\n",
              "    </tr>\n",
              "    <tr>\n",
              "      <th>41184</th>\n",
              "      <td>-36.521773</td>\n",
              "      <td>-1.637721</td>\n",
              "      <td>0.838259</td>\n",
              "      <td>-0.033313</td>\n",
              "      <td>1.807701</td>\n",
              "    </tr>\n",
              "    <tr>\n",
              "      <th>41185</th>\n",
              "      <td>-36.522105</td>\n",
              "      <td>-0.643805</td>\n",
              "      <td>1.057920</td>\n",
              "      <td>0.495783</td>\n",
              "      <td>1.372093</td>\n",
              "    </tr>\n",
              "    <tr>\n",
              "      <th>41186</th>\n",
              "      <td>-36.521653</td>\n",
              "      <td>-1.637208</td>\n",
              "      <td>0.878545</td>\n",
              "      <td>-0.168060</td>\n",
              "      <td>1.475272</td>\n",
              "    </tr>\n",
              "    <tr>\n",
              "      <th>41187</th>\n",
              "      <td>-36.520367</td>\n",
              "      <td>0.328317</td>\n",
              "      <td>1.407199</td>\n",
              "      <td>1.504709</td>\n",
              "      <td>1.952213</td>\n",
              "    </tr>\n",
              "  </tbody>\n",
              "</table>\n",
              "<p>41188 rows × 5 columns</p>\n",
              "</div>"
            ],
            "text/plain": [
              "               0         1         2         3         4\n",
              "0     -36.524563 -1.538333 -1.332862  1.092861  0.290603\n",
              "1     -36.524955 -1.528701 -1.498846  1.129133  0.598088\n",
              "2     -36.524722 -1.546142 -1.078061 -0.011194 -0.079683\n",
              "3     -36.524660 -1.539335 -1.203609  0.146894 -0.118252\n",
              "4     -36.524617 -1.537743 -1.282445  0.838387  0.253542\n",
              "...          ...       ...       ...       ...       ...\n",
              "41183 -36.521264 -1.638921  0.870047  1.335004  1.806597\n",
              "41184 -36.521773 -1.637721  0.838259 -0.033313  1.807701\n",
              "41185 -36.522105 -0.643805  1.057920  0.495783  1.372093\n",
              "41186 -36.521653 -1.637208  0.878545 -0.168060  1.475272\n",
              "41187 -36.520367  0.328317  1.407199  1.504709  1.952213\n",
              "\n",
              "[41188 rows x 5 columns]"
            ]
          },
          "metadata": {
            "tags": []
          },
          "execution_count": 36
        }
      ]
    },
    {
      "cell_type": "markdown",
      "metadata": {
        "id": "Qp3Gt9vrZvvg",
        "colab_type": "text"
      },
      "source": [
        "##**Data splitting into train and test data**"
      ]
    },
    {
      "cell_type": "code",
      "metadata": {
        "id": "kU1EQnr55AkN",
        "colab_type": "code",
        "colab": {
          "base_uri": "https://localhost:8080/",
          "height": 34
        },
        "outputId": "9a970be9-8847-4363-b3cb-29e8f62c79ba"
      },
      "source": [
        "ran=RandomOverSampler()\n",
        "X_ran,y_ran= ran.fit_resample(X,y)\n",
        "\n",
        "print('The new data contains {} rows '.format(X_ran.shape[0]))\n",
        "\n",
        "#plot_2d_space(X_ran,y_ran,X,y,'over-sampled')"
      ],
      "execution_count": 37,
      "outputs": [
        {
          "output_type": "stream",
          "text": [
            "The new data contains 73096 rows \n"
          ],
          "name": "stdout"
        }
      ]
    },
    {
      "cell_type": "code",
      "metadata": {
        "id": "c6-NrRDz6CNM",
        "colab_type": "code",
        "colab": {
          "base_uri": "https://localhost:8080/",
          "height": 87
        },
        "outputId": "ea0c2c28-de81-4b91-c784-b5e4253cfa3c"
      },
      "source": [
        "#For training and testing of the model we will split the data, 90% of the data, training data and 10% to test data\n",
        "\n",
        "X_train,X_test,y_train,y_test = train_test_split(X_ran,y_ran,test_size = 0.1,random_state=1)\n",
        "\n",
        "print(X_train.shape)\n",
        "print(y_train.shape)\n",
        "\n",
        "print(X_test.shape)\n",
        "print(y_test.shape)"
      ],
      "execution_count": 38,
      "outputs": [
        {
          "output_type": "stream",
          "text": [
            "(65786, 5)\n",
            "(65786,)\n",
            "(7310, 5)\n",
            "(7310,)\n"
          ],
          "name": "stdout"
        }
      ]
    },
    {
      "cell_type": "markdown",
      "metadata": {
        "id": "s19S940a__bT",
        "colab_type": "text"
      },
      "source": [
        ""
      ]
    },
    {
      "cell_type": "markdown",
      "metadata": {
        "id": "0WXhbCKr0n2u",
        "colab_type": "text"
      },
      "source": [
        "## **Algorithm tuning**"
      ]
    },
    {
      "cell_type": "markdown",
      "metadata": {
        "id": "-uHgpWcV0ttH",
        "colab_type": "text"
      },
      "source": [
        "![grid and random.png](data:image/png;base64,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)"
      ]
    },
    {
      "cell_type": "code",
      "metadata": {
        "id": "eSpEAOg_0W-c",
        "colab_type": "code",
        "colab": {}
      },
      "source": [
        "class RandomSearch(object):\n",
        "    \n",
        "    def __init__(self,X_train,y_train,model,hyperparameters):\n",
        "        \n",
        "        self.X_train = X_train\n",
        "        self.y_train = y_train\n",
        "        self.model = model\n",
        "        self.hyperparameters = hyperparameters\n",
        "        \n",
        "    def RandomSearch(self):\n",
        "        # Create randomized search 10-fold cross validation and 100 iterations\n",
        "        cv = 10\n",
        "        clf = RandomizedSearchCV(self.model,\n",
        "                                 self.hyperparameters,\n",
        "                                 random_state=1,\n",
        "                                 n_iter=100,\n",
        "                                 cv=cv,\n",
        "                                 verbose=0,\n",
        "                                 n_jobs=-1,\n",
        "                                 )\n",
        "        # Fit randomized search\n",
        "        best_model = clf.fit(self.X_train, self.y_train)\n",
        "        message = (best_model.best_score_, best_model.best_params_)\n",
        "        print(\"Best: %f using %s\" % (message))\n",
        "\n",
        "        return best_model,best_model.best_params_\n",
        "    def BestModelPridict(self,X_test):\n",
        "        \n",
        "        best_model,_ = self.RandomSearch()\n",
        "        pred = best_model.predict(X_test)\n",
        "        return pred"
      ],
      "execution_count": 39,
      "outputs": []
    },
    {
      "cell_type": "code",
      "metadata": {
        "id": "ywOdBXZl1I_R",
        "colab_type": "code",
        "colab": {}
      },
      "source": [
        "class GridSearch(object):\n",
        "    \n",
        "    def __init__(self,X_train,y_train,model,hyperparameters):\n",
        "        \n",
        "        self.X_train = X_train\n",
        "        self.y_train = y_train\n",
        "        self.model = model\n",
        "        self.hyperparameters = hyperparameters\n",
        "        \n",
        "    def GridSearch(self):\n",
        "        # Create randomized search 10-fold cross validation and 100 iterations\n",
        "        cv = 10\n",
        "        clf = GridSearchCV(self.model,\n",
        "                                 self.hyperparameters,\n",
        "                                 cv=cv,\n",
        "                                 verbose=0,\n",
        "                                 n_jobs=-1,\n",
        "                                 )\n",
        "        # Fit randomized search\n",
        "        best_model = clf.fit(self.X_train, self.y_train)\n",
        "        message = (best_model.best_score_, best_model.best_params_)\n",
        "        print(\"Best: %f using %s\" % (message))\n",
        "\n",
        "        return best_model,best_model.best_params_\n",
        "    \n",
        "    def BestModelPridict(self,X_test):\n",
        "        \n",
        "        best_model,_ = self.GridSearch()\n",
        "        pred = best_model.predict(X_test)\n",
        "        return pred"
      ],
      "execution_count": 40,
      "outputs": []
    },
    {
      "cell_type": "markdown",
      "metadata": {
        "id": "T8pUJZEM1UVW",
        "colab_type": "text"
      },
      "source": [
        "## **1. Logistic Regression**\n",
        "\n",
        "* C : Regularization value, the more, the stronger the regularization(double).\n",
        "* RegularizationType: Can be either \"L2\" or “L1”. Default is “L2”."
      ]
    },
    {
      "cell_type": "code",
      "metadata": {
        "id": "DBpGV5huGnWG",
        "colab_type": "code",
        "colab": {}
      },
      "source": [
        "# model\n",
        "model = LogisticRegression()\n",
        "# Create regularization penalty space\n",
        "penalty = ['l1', 'l2']\n",
        "\n",
        "# Create regularization hyperparameter distribution using uniform distribution\n",
        "C = uniform(loc=0, scale=4)\n",
        "\n",
        "# Create hyperparameter options\n",
        "hyperparameters = dict(C=C, penalty=penalty)"
      ],
      "execution_count": 41,
      "outputs": []
    },
    {
      "cell_type": "code",
      "metadata": {
        "id": "kkfoFWaaGtAH",
        "colab_type": "code",
        "colab": {
          "base_uri": "https://localhost:8080/",
          "height": 34
        },
        "outputId": "eead913c-31f5-470b-b339-7a793afb102f"
      },
      "source": [
        "LR_RandSearch = RandomSearch(X_train,y_train,model,hyperparameters)\n",
        "# LR_best_model,LR_best_params = LR_RandSearch.RandomSearch()\n",
        "Prediction_LR = LR_RandSearch.BestModelPridict(X_test)"
      ],
      "execution_count": 42,
      "outputs": [
        {
          "output_type": "stream",
          "text": [
            "Best: 0.705515 using {'C': 0.3712032345629517, 'penalty': 'l2'}\n"
          ],
          "name": "stdout"
        }
      ]
    },
    {
      "cell_type": "code",
      "metadata": {
        "id": "nyjd3XD6KUmx",
        "colab_type": "code",
        "colab": {
          "base_uri": "https://localhost:8080/",
          "height": 176
        },
        "outputId": "0992729b-e70a-45f4-ee33-7ef9fd5a21c6"
      },
      "source": [
        "report1 = classification_report(y_test, Prediction_LR)\n",
        "print(report1)"
      ],
      "execution_count": 43,
      "outputs": [
        {
          "output_type": "stream",
          "text": [
            "              precision    recall  f1-score   support\n",
            "\n",
            "           0       0.71      0.72      0.71      3705\n",
            "           1       0.71      0.70      0.70      3605\n",
            "\n",
            "    accuracy                           0.71      7310\n",
            "   macro avg       0.71      0.71      0.71      7310\n",
            "weighted avg       0.71      0.71      0.71      7310\n",
            "\n"
          ],
          "name": "stdout"
        }
      ]
    },
    {
      "cell_type": "code",
      "metadata": {
        "id": "Afr4ZsncAtOS",
        "colab_type": "code",
        "colab": {
          "base_uri": "https://localhost:8080/",
          "height": 105
        },
        "outputId": "d2d3cc8a-8510-4f76-c2fa-370e53fa1bc1"
      },
      "source": [
        "# create an object of the LinearRegression Model\n",
        "model_LR = LogisticRegression()\n",
        "\n",
        "# fit the model with the training data\n",
        "model_LR.fit(X_train, y_train)"
      ],
      "execution_count": 44,
      "outputs": [
        {
          "output_type": "execute_result",
          "data": {
            "text/plain": [
              "LogisticRegression(C=1.0, class_weight=None, dual=False, fit_intercept=True,\n",
              "                   intercept_scaling=1, l1_ratio=None, max_iter=100,\n",
              "                   multi_class='auto', n_jobs=None, penalty='l2',\n",
              "                   random_state=None, solver='lbfgs', tol=0.0001, verbose=0,\n",
              "                   warm_start=False)"
            ]
          },
          "metadata": {
            "tags": []
          },
          "execution_count": 44
        }
      ]
    },
    {
      "cell_type": "code",
      "metadata": {
        "id": "2ziaUri7A1Yb",
        "colab_type": "code",
        "colab": {}
      },
      "source": [
        "predict_test  = model_LR.predict(X_test)"
      ],
      "execution_count": 45,
      "outputs": []
    },
    {
      "cell_type": "code",
      "metadata": {
        "id": "ntKlUYlOUERk",
        "colab_type": "code",
        "colab": {}
      },
      "source": [
        "confusion_matrix = confusion_matrix(y_test, predict_test)"
      ],
      "execution_count": 46,
      "outputs": []
    },
    {
      "cell_type": "code",
      "metadata": {
        "id": "vDaNq83AUQtC",
        "colab_type": "code",
        "colab": {
          "base_uri": "https://localhost:8080/",
          "height": 52
        },
        "outputId": "4460e864-8c51-4512-b387-71e2695369cb"
      },
      "source": [
        "confusion_matrix"
      ],
      "execution_count": 47,
      "outputs": [
        {
          "output_type": "execute_result",
          "data": {
            "text/plain": [
              "array([[2665, 1040],\n",
              "       [1086, 2519]])"
            ]
          },
          "metadata": {
            "tags": []
          },
          "execution_count": 47
        }
      ]
    },
    {
      "cell_type": "markdown",
      "metadata": {
        "id": "81ruDt2rfThj",
        "colab_type": "text"
      },
      "source": [
        "**Intepretating Confusion Matrix**\n",
        "\n",
        "\n",
        "|  | Predicted: No | Predicted Yes |\n",
        "| --- | --- | --- |\n",
        "| Actual No |TN: 3567  | FP: 47 |\n",
        "|  |  |  |\n",
        "| Actual Yes |FN: 407  | TP: 98 |\n",
        "\n",
        "1. Correct predictions: 3567 + 98 = 3665\n",
        "\n",
        "2. Wrong Predictions: 407+ 47 = 454"
      ]
    },
    {
      "cell_type": "code",
      "metadata": {
        "id": "qRygncldB45t",
        "colab_type": "code",
        "colab": {
          "base_uri": "https://localhost:8080/",
          "height": 137
        },
        "outputId": "25d3da56-e367-4f08-dceb-52432d5a973b"
      },
      "source": [
        "pd.crosstab(pd.Series(predict_test,name=\"Predicted\"),\n",
        "            pd.Series(y, name=\"Actual\"))"
      ],
      "execution_count": 48,
      "outputs": [
        {
          "output_type": "execute_result",
          "data": {
            "text/html": [
              "<div>\n",
              "<style scoped>\n",
              "    .dataframe tbody tr th:only-of-type {\n",
              "        vertical-align: middle;\n",
              "    }\n",
              "\n",
              "    .dataframe tbody tr th {\n",
              "        vertical-align: top;\n",
              "    }\n",
              "\n",
              "    .dataframe thead th {\n",
              "        text-align: right;\n",
              "    }\n",
              "</style>\n",
              "<table border=\"1\" class=\"dataframe\">\n",
              "  <thead>\n",
              "    <tr style=\"text-align: right;\">\n",
              "      <th>Actual</th>\n",
              "      <th>0</th>\n",
              "      <th>1</th>\n",
              "    </tr>\n",
              "    <tr>\n",
              "      <th>Predicted</th>\n",
              "      <th></th>\n",
              "      <th></th>\n",
              "    </tr>\n",
              "  </thead>\n",
              "  <tbody>\n",
              "    <tr>\n",
              "      <th>0</th>\n",
              "      <td>3642</td>\n",
              "      <td>109</td>\n",
              "    </tr>\n",
              "    <tr>\n",
              "      <th>1</th>\n",
              "      <td>3452</td>\n",
              "      <td>107</td>\n",
              "    </tr>\n",
              "  </tbody>\n",
              "</table>\n",
              "</div>"
            ],
            "text/plain": [
              "Actual        0    1\n",
              "Predicted           \n",
              "0          3642  109\n",
              "1          3452  107"
            ]
          },
          "metadata": {
            "tags": []
          },
          "execution_count": 48
        }
      ]
    },
    {
      "cell_type": "code",
      "metadata": {
        "id": "YGh1BLOeFpwA",
        "colab_type": "code",
        "colab": {}
      },
      "source": [
        "report = classification_report(y_test, predict_test)"
      ],
      "execution_count": 49,
      "outputs": []
    },
    {
      "cell_type": "code",
      "metadata": {
        "id": "T9uAkQeeF_BN",
        "colab_type": "code",
        "colab": {
          "base_uri": "https://localhost:8080/",
          "height": 176
        },
        "outputId": "eb89db6e-1808-40a2-db92-48b09be23cdd"
      },
      "source": [
        "print(report)"
      ],
      "execution_count": 50,
      "outputs": [
        {
          "output_type": "stream",
          "text": [
            "              precision    recall  f1-score   support\n",
            "\n",
            "           0       0.71      0.72      0.71      3705\n",
            "           1       0.71      0.70      0.70      3605\n",
            "\n",
            "    accuracy                           0.71      7310\n",
            "   macro avg       0.71      0.71      0.71      7310\n",
            "weighted avg       0.71      0.71      0.71      7310\n",
            "\n"
          ],
          "name": "stdout"
        }
      ]
    },
    {
      "cell_type": "markdown",
      "metadata": {
        "id": "FRCgvy_EVSpP",
        "colab_type": "text"
      },
      "source": [
        "# **ROC Curve**\n",
        "\n",
        "The ROC curve shows the trade-off between sensitivity (or TPR) and specificity (1 – FPR). Classifiers that give curves closer to the top-left corner indicate a better performance"
      ]
    },
    {
      "cell_type": "code",
      "metadata": {
        "id": "c9X5Jv0cGAno",
        "colab_type": "code",
        "colab": {
          "base_uri": "https://localhost:8080/",
          "height": 320
        },
        "outputId": "c3aaf271-61ef-495c-d2ed-b6beaffc9057"
      },
      "source": [
        "ns_probs = [0 for _ in range(len(y_test))]\n",
        "# predict probabilities\n",
        "lr_probs = model_LR.predict_proba(X_test)\n",
        "# keep probabilities for the positive outcome only\n",
        "lr_probs = lr_probs[:, 1]\n",
        "# calculate scores\n",
        "ns_auc = roc_auc_score(y_test, ns_probs)\n",
        "lr_auc = roc_auc_score(y_test, lr_probs)\n",
        "# summarize scores\n",
        "print('No Skill: ROC AUC=%.3f' % (ns_auc))\n",
        "print('Logistic: ROC AUC=%.3f' % (lr_auc))\n",
        "# calculate roc curves\n",
        "ns_fpr, ns_tpr, _ = roc_curve(y_test, ns_probs)\n",
        "lr_fpr, lr_tpr, _ = roc_curve(y_test, lr_probs)\n",
        "# plot the roc curve for the model\n",
        "pyplot.plot(ns_fpr, ns_tpr, linestyle='--', label='No Skill')\n",
        "pyplot.plot(lr_fpr, lr_tpr, marker='.', label='Logistic')\n",
        "# axis labels\n",
        "pyplot.xlabel('False Positive Rate')\n",
        "pyplot.ylabel('True Positive Rate')\n",
        "# show the legend\n",
        "pyplot.legend()\n",
        "# show the plot\n",
        "pyplot.show()"
      ],
      "execution_count": 51,
      "outputs": [
        {
          "output_type": "stream",
          "text": [
            "No Skill: ROC AUC=0.500\n",
            "Logistic: ROC AUC=0.762\n"
          ],
          "name": "stdout"
        },
        {
          "output_type": "display_data",
          "data": {
            "image/png": "[encoded data removed]",
            "text/plain": [
              "<Figure size 432x288 with 1 Axes>"
            ]
          },
          "metadata": {
            "tags": []
          }
        }
      ]
    },
    {
      "cell_type": "markdown",
      "metadata": {
        "id": "5qSIxPsuOAFZ",
        "colab_type": "text"
      },
      "source": [
        "## **2. XGBoost**"
      ]
    },
    {
      "cell_type": "code",
      "metadata": {
        "id": "mt15m8GWOHKa",
        "colab_type": "code",
        "colab": {
          "base_uri": "https://localhost:8080/",
          "height": 34
        },
        "outputId": "e097b0ff-a643-422f-ab6c-b7767c12beef"
      },
      "source": [
        "# fit model with training data\n",
        "model = XGBClassifier()\n",
        "model.fit(X_train, y_train)\n",
        "# make predictions for test data\n",
        "y_pred = model.predict(X_test)\n",
        "# evaluate predictions\n",
        "accuracy = accuracy_score(y_test, y_pred)\n",
        "print(\"Accuracy: %.2f%%\" % (accuracy * 100.0))"
      ],
      "execution_count": 81,
      "outputs": [
        {
          "output_type": "stream",
          "text": [
            "Accuracy: 73.79%\n"
          ],
          "name": "stdout"
        }
      ]
    },
    {
      "cell_type": "code",
      "metadata": {
        "id": "yUJ4hZKZSfV0",
        "colab_type": "code",
        "colab": {
          "base_uri": "https://localhost:8080/",
          "height": 137
        },
        "outputId": "0a761548-0650-4439-879e-cda3877ab622"
      },
      "source": [
        "pd.crosstab(pd.Series(y_pred,name=\"Predicted\"),\n",
        "            pd.Series(y, name=\"Actual\"))"
      ],
      "execution_count": 53,
      "outputs": [
        {
          "output_type": "execute_result",
          "data": {
            "text/html": [
              "<div>\n",
              "<style scoped>\n",
              "    .dataframe tbody tr th:only-of-type {\n",
              "        vertical-align: middle;\n",
              "    }\n",
              "\n",
              "    .dataframe tbody tr th {\n",
              "        vertical-align: top;\n",
              "    }\n",
              "\n",
              "    .dataframe thead th {\n",
              "        text-align: right;\n",
              "    }\n",
              "</style>\n",
              "<table border=\"1\" class=\"dataframe\">\n",
              "  <thead>\n",
              "    <tr style=\"text-align: right;\">\n",
              "      <th>Actual</th>\n",
              "      <th>0</th>\n",
              "      <th>1</th>\n",
              "    </tr>\n",
              "    <tr>\n",
              "      <th>Predicted</th>\n",
              "      <th></th>\n",
              "      <th></th>\n",
              "    </tr>\n",
              "  </thead>\n",
              "  <tbody>\n",
              "    <tr>\n",
              "      <th>0</th>\n",
              "      <td>4098</td>\n",
              "      <td>115</td>\n",
              "    </tr>\n",
              "    <tr>\n",
              "      <th>1</th>\n",
              "      <td>2996</td>\n",
              "      <td>101</td>\n",
              "    </tr>\n",
              "  </tbody>\n",
              "</table>\n",
              "</div>"
            ],
            "text/plain": [
              "Actual        0    1\n",
              "Predicted           \n",
              "0          4098  115\n",
              "1          2996  101"
            ]
          },
          "metadata": {
            "tags": []
          },
          "execution_count": 53
        }
      ]
    },
    {
      "cell_type": "code",
      "metadata": {
        "id": "XlWsx4JhSpa3",
        "colab_type": "code",
        "colab": {
          "base_uri": "https://localhost:8080/",
          "height": 176
        },
        "outputId": "20904ffc-30e2-4522-bf23-dd83f2a1fa7e"
      },
      "source": [
        "xgb_report = classification_report(y_test, y_pred)\n",
        "print(xgb_report)"
      ],
      "execution_count": 54,
      "outputs": [
        {
          "output_type": "stream",
          "text": [
            "              precision    recall  f1-score   support\n",
            "\n",
            "           0       0.71      0.81      0.76      3705\n",
            "           1       0.77      0.66      0.71      3605\n",
            "\n",
            "    accuracy                           0.74      7310\n",
            "   macro avg       0.74      0.74      0.74      7310\n",
            "weighted avg       0.74      0.74      0.74      7310\n",
            "\n"
          ],
          "name": "stdout"
        }
      ]
    },
    {
      "cell_type": "markdown",
      "metadata": {
        "id": "d2uww8LmWKGK",
        "colab_type": "text"
      },
      "source": [
        "# **ROC Curve for XGBoost**\n",
        "\n",
        "The ROC curve shows the trade-off between sensitivity (or TPR) and specificity (1 – FPR). Classifiers that give curves closer to the top-left corner indicate a better performance"
      ]
    },
    {
      "cell_type": "code",
      "metadata": {
        "id": "Ywbqq-xkS4oU",
        "colab_type": "code",
        "colab": {
          "base_uri": "https://localhost:8080/",
          "height": 320
        },
        "outputId": "eb991346-2998-4222-f66f-b76afe20801b"
      },
      "source": [
        "ns_probs = [0 for _ in range(len(y_test))]\n",
        "# predict probabilities\n",
        "lr_probs = model.predict_proba(X_test)\n",
        "# keep probabilities for the positive outcome only\n",
        "lr_probs = lr_probs[:, 1]\n",
        "# calculate scores\n",
        "ns_auc = roc_auc_score(y_test, ns_probs)\n",
        "lr_auc = roc_auc_score(y_test, lr_probs)\n",
        "# summarize scores\n",
        "print('No Skill: ROC AUC=%.3f' % (ns_auc))\n",
        "print('Logistic: ROC AUC=%.3f' % (lr_auc))\n",
        "# calculate roc curves\n",
        "ns_fpr, ns_tpr, _ = roc_curve(y_test, ns_probs)\n",
        "lr_fpr, lr_tpr, _ = roc_curve(y_test, lr_probs)\n",
        "# plot the roc curve for the model\n",
        "pyplot.plot(ns_fpr, ns_tpr, linestyle='--', label='No Skill')\n",
        "pyplot.plot(lr_fpr, lr_tpr, marker='.', label='XGBoost')\n",
        "# axis labels\n",
        "pyplot.xlabel('False Positive Rate')\n",
        "pyplot.ylabel('True Positive Rate')\n",
        "# show the legend\n",
        "pyplot.legend()\n",
        "# show the plot\n",
        "pyplot.show()"
      ],
      "execution_count": 80,
      "outputs": [
        {
          "output_type": "stream",
          "text": [
            "No Skill: ROC AUC=0.500\n",
            "Logistic: ROC AUC=0.800\n"
          ],
          "name": "stdout"
        },
        {
          "output_type": "display_data",
          "data": {
            "image/png": "[encoded data removed]",
            "text/plain": [
              "<Figure size 432x288 with 1 Axes>"
            ]
          },
          "metadata": {
            "tags": []
          }
        }
      ]
    },
    {
      "cell_type": "markdown",
      "metadata": {
        "id": "GJnVi7T7TKyr",
        "colab_type": "text"
      },
      "source": [
        "## **3. Multilayer perceptron**"
      ]
    },
    {
      "cell_type": "code",
      "metadata": {
        "id": "mlPGVWNtX9H4",
        "colab_type": "code",
        "colab": {}
      },
      "source": [
        "# Define the sigmoid activator; we ask if we want the sigmoid or its derivative\n",
        "def sigmoid_act(x, der=False):\n",
        "    import numpy as np\n",
        "    \n",
        "    if (der==True) : #derivative of the sigmoid\n",
        "        f = 1/(1+ np.exp(- x))*(1-1/(1+ np.exp(- x)))\n",
        "    else : # sigmoid\n",
        "        f = 1/(1+ np.exp(- x))\n",
        "    \n",
        "    return f\n",
        "\n",
        "# We may employ the Rectifier Linear Unit (ReLU)\n",
        "def ReLU_act(x, der=False):\n",
        "    import numpy as np\n",
        "    \n",
        "    if (der == True): # the derivative of the ReLU is the Heaviside Theta\n",
        "        f = np.heaviside(x, 1)\n",
        "    else :\n",
        "        f = np.maximum(x, 0)\n",
        "    \n",
        "    return f"
      ],
      "execution_count": 56,
      "outputs": []
    },
    {
      "cell_type": "code",
      "metadata": {
        "id": "deE9OhyBTSlA",
        "colab_type": "code",
        "colab": {}
      },
      "source": [
        "def ANN_train(X_train, y_train, p=8, q=4, eta=0.0015):\n",
        "    \n",
        "    # 0: Random initialize the relevant data \n",
        "    w1 = 2*np.random.rand(p , X_train.shape[1]) - 0.5 # Layer 1\n",
        "    b1 = np.random.rand(p)\n",
        "\n",
        "    w2 = 2*np.random.rand(q , p) - 0.5  # Layer 2\n",
        "    b2 = np.random.rand(q)\n",
        "\n",
        "    wOut = 2*np.random.rand(q) - 0.5   # Output Layer\n",
        "    bOut = np.random.rand(1)\n",
        "\n",
        "    mu = []\n",
        "    vec_y = []\n",
        "\n",
        "    # Start looping over the passengers, i.e. over I.\n",
        "\n",
        "    for I in range(0, X_train.shape[0]-1): #loop in all the passengers:\n",
        "    \n",
        "        # 1: input the data \n",
        "        x = X_train[I]\n",
        "    \n",
        "        # 2: Start the algorithm\n",
        "     # 2.1: Feed forward\n",
        "        z1 = ReLU_act(np.dot(w1, x) + b1) # output layer 1 \n",
        "        z2 = ReLU_act(np.dot(w2, z1) + b2) # output layer 2\n",
        "        y = sigmoid_act(np.dot(wOut, z2) + bOut) # Output of the Output layer\n",
        "    \n",
        "        #2.2: Compute the output layer's error\n",
        "        delta_Out = 2 * (y-y_train[I]) * sigmoid_act(y, der=True)\n",
        "    \n",
        "        #2.3: Backpropagate\n",
        "        delta_2 = delta_Out * wOut * ReLU_act(z2, der=True) # Second Layer Error\n",
        "        delta_1 = np.dot(delta_2, w2) * ReLU_act(z1, der=True) # First Layer Error\n",
        "    \n",
        "        # 3: Gradient descent \n",
        "        wOut = wOut - eta*delta_Out*z2  # Outer Layer\n",
        "        bOut = bOut - eta*delta_Out\n",
        "    \n",
        "        w2 = w2 - eta*np.kron(delta_2, z1).reshape(q,p) # Hidden Layer 2\n",
        "        b2 = b2 -  eta*delta_2\n",
        "    \n",
        "        w1 = w1 - eta*np.kron(delta_1, x).reshape(p, x.shape[0])\n",
        "        b1 = b1 - eta*delta_1\n",
        "    \n",
        "        # 4. Computation of the loss function\n",
        "        mu.append((y-y_train[I])**2)\n",
        "        vec_y.append(y)\n",
        "        batch_loss = []\n",
        "    for i in range(0, 10):\n",
        "        loss_avg = 0\n",
        "        for m in range(0, 60):\n",
        "            loss_avg+=vec_y[60*i+m]/60\n",
        "        batch_loss.append(loss_avg)\n",
        "    \n",
        "    \n",
        "    plt.figure(figsize=(10,6))\n",
        "    plt.scatter(np.arange(1, len(batch_loss)+1), batch_loss, alpha=1, s=10, label='error')\n",
        "    plt.title('Averege Loss by epoch', fontsize=20)\n",
        "    plt.xlabel('Epoch', fontsize=16)\n",
        "    plt.ylabel('Loss', fontsize=16)\n",
        "    plt.show()\n",
        "    \n",
        "    return w1, b1, w2, b2, wOut, bOut, mu"
      ],
      "execution_count": 57,
      "outputs": []
    },
    {
      "cell_type": "code",
      "metadata": {
        "id": "qPkCTToWXMF9",
        "colab_type": "code",
        "colab": {
          "base_uri": "https://localhost:8080/",
          "height": 416
        },
        "outputId": "f50ef9e8-c535-4594-9a4f-77868a24edb7"
      },
      "source": [
        "w1, b1, w2, b2, wOut, bOut, mu = ANN_train(X_train,y_train, p=8, q=4, eta=0.0015)"
      ],
      "execution_count": 58,
      "outputs": [
        {
          "output_type": "display_data",
          "data": {
            "image/png": "[encoded data removed]",
            "text/plain": [
              "<Figure size 720x432 with 1 Axes>"
            ]
          },
          "metadata": {
            "tags": []
          }
        }
      ]
    },
    {
      "cell_type": "code",
      "metadata": {
        "id": "LgUucyfBZW-2",
        "colab_type": "code",
        "colab": {}
      },
      "source": [
        "def ANN_pred(X_test, w1, b1, w2, b2, wOut, bOut, mu):\n",
        "    import numpy as np\n",
        "    \n",
        "    pred = []\n",
        "    \n",
        "    for I in range(0, X_test.shape[0]): #loop in all the passengers\n",
        "        # 1: input the data \n",
        "        x = X_test[I]\n",
        "        \n",
        "        # 2.1: Feed forward\n",
        "        z1 = ReLU_act(np.dot(w1, x) + b1) # output layer 1 \n",
        "        z2 = ReLU_act(np.dot(w2, z1) + b2) # output layer 2\n",
        "        y = sigmoid_act(np.dot(wOut, z2) + bOut)  # Output of the Output layer\n",
        "        \n",
        "        # Append the prediction;\n",
        "        # We now need a binary classifier; we this apply an Heaviside Theta and we set to 0.5 the threshold\n",
        "        # if y < 0.5 the output is zero, otherwise is 1\n",
        "        pred.append( np.heaviside(y - 0.5, 1)[0] )\n",
        "    \n",
        "    \n",
        "    return np.array(pred);"
      ],
      "execution_count": 59,
      "outputs": []
    },
    {
      "cell_type": "code",
      "metadata": {
        "id": "_e_vuA21ZZiQ",
        "colab_type": "code",
        "colab": {}
      },
      "source": [
        "predictions = ANN_pred(X_test, w1, b1, w2, b2, wOut, bOut, mu)"
      ],
      "execution_count": 61,
      "outputs": []
    },
    {
      "cell_type": "code",
      "metadata": {
        "id": "q7J4nah1ZnuY",
        "colab_type": "code",
        "colab": {}
      },
      "source": [
        "pd.crosstab(pd.Series(predictions,name=\"Predicted\"),\n",
        "            pd.Series(y_train, name=\"Actual\"))"
      ],
      "execution_count": null,
      "outputs": []
    },
    {
      "cell_type": "code",
      "metadata": {
        "id": "hWyHqfiLWJ29",
        "colab_type": "code",
        "colab": {}
      },
      "source": [
        "accuracy_ANN = accuracy_score(y_test, predictions)\n",
        "print(\"Accuracy: %.2f%%\" % (accuracy * 100.0))"
      ],
      "execution_count": null,
      "outputs": []
    },
    {
      "cell_type": "code",
      "metadata": {
        "id": "htmsqt_QaHPP",
        "colab_type": "code",
        "colab": {}
      },
      "source": [
        "mlp_report = classification_report(y_test, predictions)\n",
        "print(mlp_report)"
      ],
      "execution_count": null,
      "outputs": []
    },
    {
      "cell_type": "code",
      "metadata": {
        "id": "nceIWeIKbqYS",
        "colab_type": "code",
        "colab": {}
      },
      "source": [
        "'''\n",
        "Artificial Neural Network Class\n",
        "'''\n",
        "class ANN:\n",
        "    import numpy as np # linear algebra\n",
        "    np.random.seed(10)\n",
        "    \n",
        "    '''\n",
        "    Initialize the ANN;\n",
        "    HiddenLayer vector : will contain the Layers' info\n",
        "    w, b, phi = (empty) arrays that will contain all the w, b and activation functions for all the Layers\n",
        "    mu = cost function\n",
        "    eta = a standard learning rate initialization. It can be modified by the 'set_learning_rate' method\n",
        "    '''\n",
        "    def __init__(self) :\n",
        "        self.HiddenLayer = []\n",
        "        self.w = []\n",
        "        self.b = []\n",
        "        self.phi = []\n",
        "        self.mu = []\n",
        "        self.eta = 1 #set up the proper Learning Rate!!\n",
        "\n",
        "        '''\n",
        "    add method: to add layers to the network\n",
        "    '''\n",
        "    def add(self, lay = (4, 'ReLU') ):\n",
        "        self.HiddenLayer.append(lay)\n",
        "    \n",
        "    '''\n",
        "    FeedForward method: as explained before. \n",
        "    '''\n",
        "    @staticmethod\n",
        "    def FeedForward(w, b, phi, x):\n",
        "        return phi(np.dot(w, x) + b)\n",
        "        \n",
        "    '''\n",
        "    BackPropagation algorithm implementing the Gradient Descent \n",
        "    '''\n",
        "    def BackPropagation(self, x, z, Y, w, b, phi):\n",
        "        self.delta = []\n",
        "        \n",
        "        # We initialize ausiliar w and b that are used only inside the backpropagation algorithm once called        \n",
        "        self.W = []\n",
        "        self.B = []\n",
        "\n",
        "\n",
        "        # We start computing the LAST error, the one for the OutPut Layer \n",
        "        self.delta.append(  (z[len(z)-1] - Y) * phi[len(z)-1](z[len(z)-1], der=True) )\n",
        "        \n",
        "        '''Now we BACKpropagate'''\n",
        "        # We thus compute from next-to-last to first\n",
        "        for i in range(0, len(z)-1):\n",
        "            self.delta.append( np.dot( self.delta[i], w[len(z)- 1 - i] ) * phi[len(z)- 2 - i](z[len(z)- 2 - i], der=True) )\n",
        "        \n",
        "        # We have the error array ordered from last to first; we flip it to order it from first to last\n",
        "        self.delta = np.flip(self.delta, 0)  \n",
        "        \n",
        "        # Now we define the delta as the error divided by the number of training samples\n",
        "        self.delta = self.delta/self.X.shape[0] \n",
        "        \n",
        "        '''GRADIENT DESCENT'''\n",
        "        # We start from the first layer that is special, since it is connected to the Input Layer\n",
        "        self.W.append( w[0] - self.eta * np.kron(self.delta[0], x).reshape( len(z[0]), x.shape[0] ) )\n",
        "        self.B.append( b[0] - self.eta * self.delta[0] )\n",
        "        \n",
        "        # We now descend for all the other Hidden Layers + OutPut Layer\n",
        "        for i in range(1, len(z)):\n",
        "            self.W.append( w[i] - self.eta * np.kron(self.delta[i], z[i-1]).reshape(len(z[i]), len(z[i-1])) )\n",
        "            self.B.append( b[i] - self.eta * self.delta[i] )\n",
        "\n",
        "\n",
        "            # We return the descended parameters w, b\n",
        "        return np.array(self.W), np.array(self.B)\n",
        "    \n",
        "    \n",
        "    '''\n",
        "    Fit method: it calls FeedForward and Backpropagation methods\n",
        "    '''\n",
        "    def Fit(self, X_train, Y_train):            \n",
        "        print('Start fitting...')\n",
        "        '''\n",
        "        Input layer\n",
        "        '''\n",
        "        self.X = X_train\n",
        "        self.Y = Y_train\n",
        "        \n",
        "        '''\n",
        "        We now initialize the Network by retrieving the Hidden Layers and concatenating them \n",
        "        '''\n",
        "        print('Model recap: \\n')\n",
        "        print('You are fitting an ANN with the following amount of layers: ', len(self.HiddenLayer))\n",
        "        \n",
        "        for i in range(0, len(self.HiddenLayer)) :\n",
        "            print('Layer ', i+1)\n",
        "            print('Number of neurons: ', self.HiddenLayer[i][0])\n",
        "            if i==0:\n",
        "                # We now try to use the He et al. Initialization from ArXiv:1502.01852\n",
        "                self.w.append( np.random.randn(self.HiddenLayer[i][0] , self.X.shape[1])/np.sqrt(2/self.X.shape[1]) )\n",
        "                self.b.append( np.random.randn(self.HiddenLayer[i][0])/np.sqrt(2/self.X.shape[1]))\n",
        "                # Old initialization\n",
        "                #self.w.append(2 * np.random.rand(self.HiddenLayer[i][0] , self.X.shape[1]) - 0.5)\n",
        "                #self.b.append(np.random.rand(self.HiddenLayer[i][0]))\n",
        "                \n",
        "                # Initialize the Activation function\n",
        "                for act in Activation_function.list_act():\n",
        "                    if self.HiddenLayer[i][1] == act :\n",
        "                        self.phi.append(Activation_function.get_act(act))\n",
        "                        print('\\tActivation: ', act)\n",
        "\n",
        "            else :\n",
        "                # We now try to use the He et al. Initialization from ArXiv:1502.01852\n",
        "                self.w.append( np.random.randn(self.HiddenLayer[i][0] , self.HiddenLayer[i-1][0] )/np.sqrt(2/self.HiddenLayer[i-1][0]))\n",
        "                self.b.append( np.random.randn(self.HiddenLayer[i][0])/np.sqrt(2/self.HiddenLayer[i-1][0]))\n",
        "                # Old initialization\n",
        "                #self.w.append(2*np.random.rand(self.HiddenLayer[i][0] , self.HiddenLayer[i-1][0] ) - 0.5)\n",
        "                #self.b.append(np.random.rand(self.HiddenLayer[i][0]))\n",
        "                \n",
        "                # Initialize the Activation function\n",
        "                for act in Activation_function.list_act():\n",
        "                    if self.HiddenLayer[i][1] == act :\n",
        "                        self.phi.append(Activation_function.get_act(act))\n",
        "                        print('\\tActivation: ', act)\n",
        "            \n",
        "        '''\n",
        "        Now we start the Loop over the training dataset\n",
        "        '''  \n",
        "        for I in range(0, self.X.shape[0]): # loop over the training set\n",
        "            '''\n",
        "            Now we start the feed forward\n",
        "            '''  \n",
        "            self.z = []\n",
        "            \n",
        "            self.z.append( self.FeedForward(self.w[0], self.b[0], self.phi[0], self.X[I]) ) # First layers\n",
        "            \n",
        "            for i in range(1, len(self.HiddenLayer)): #Looping over layers\n",
        "                self.z.append( self.FeedForward(self.w[i] , self.b[i], self.phi[i], self.z[i-1] ) )\n",
        "            \n",
        "\n",
        "            #self.w.append(2*np.random.rand(self.HiddenLayer[i][0] , self.HiddenLayer[i-1][0] ) - 0.5)\n",
        "                #self.b.append(np.random.rand(self.HiddenLayer[i][0]))\n",
        "                \n",
        "                # Initialize the Activation function\n",
        "                for act in Activation_function.list_act():\n",
        "                    if self.HiddenLayer[i][1] == act :\n",
        "                        self.phi.append(Activation_function.get_act(act))\n",
        "                        print('\\tActivation: ', act)\n",
        "                #self.w.append(2*np.random.rand(self.HiddenLayer[i][0] , self.HiddenLayer[i-1][0] ) - 0.5)\n",
        "                #self.b.append(np.random.rand(self.HiddenLayer[i][0]))\n",
        "                \n",
        "                # Initialize the Activation function\n",
        "                for act in Activation_function.list_act():\n",
        "                    if self.HiddenLayer[i][1] == act :\n",
        "                        self.phi.append(Activation_function.get_act(act))\n",
        "                        print('\\tActivation: ', act)\n",
        "\n",
        "\n",
        "                #self.w.append(2*np.random.rand(self.HiddenLayer[i][0] , self.HiddenLayer[i-1][0] ) - 0.5)\n",
        "                #self.b.append(np.random.rand(self.HiddenLayer[i][0]))\n",
        "                \n",
        "                # Initialize the Activation function\n",
        "                for act in Activation_function.list_act():\n",
        "                    if self.HiddenLayer[i][1] == act :\n",
        "                        self.phi.append(Activation_function.get_act(act))\n",
        "                        print('\\tActivation: ', act)\n",
        "            \n",
        "        '''\n",
        "        Now we start the Loop over the training dataset\n",
        "        '''  \n",
        "        for I in range(0, self.X.shape[0]): # loop over the training set\n",
        "            '''\n",
        "            Now we start the feed forward\n",
        "            '''  \n",
        "            self.z = []\n",
        "            \n",
        "            self.z.append( self.FeedForward(self.w[0], self.b[0], self.phi[0], self.X[I]) ) # First layers\n",
        "            \n",
        "            for i in range(1, len(self.HiddenLayer)): #Looping over layers\n",
        "                self.z.append( self.FeedForward(self.w[i] , self.b[i], self.phi[i], self.z[i-1] ) )\n",
        "\n",
        "\n",
        "            '''\n",
        "            Here we backpropagate\n",
        "            '''      \n",
        "            self.w, self.b  = self.BackPropagation(self.X[I], self.z, self.Y[I], self.w, self.b, self.phi)\n",
        "            \n",
        "            '''\n",
        "            Compute cost function\n",
        "            ''' \n",
        "            self.mu.append(\n",
        "                (1/2) * np.dot(self.z[len(self.z)-1] - self.Y[I], self.z[len(self.z)-1] - self.Y[I]) \n",
        "            )\n",
        "            \n",
        "        print('Fit done. \\n')\n",
        "        \n",
        "\n",
        "    \n",
        "    '''\n",
        "    predict method\n",
        "    '''\n",
        "    def predict(self, X_test):\n",
        "        \n",
        "        print('Starting predictions...')\n",
        "\n",
        "\n",
        "        self.pred = []\n",
        "        self.XX = X_test\n",
        "        \n",
        "        for I in range(0, self.XX.shape[0]): # loop over the training set\n",
        "            \n",
        "            '''\n",
        "            Now we start the feed forward\n",
        "            '''  \n",
        "            self.z = []\n",
        "            \n",
        "            self.z.append(self.FeedForward(self.w[0] , self.b[0], self.phi[0], self.XX[I])) #First layer\n",
        "    \n",
        "            for i in range(1, len(self.HiddenLayer)) : # loop over the layers\n",
        "                self.z.append( self.FeedForward(self.w[i] , self.b[i], self.phi[i], self.z[i-1]))\n",
        "       \n",
        "            # Append the prediction;\n",
        "            # We now need a binary classifier; we this apply an Heaviside Theta and we set to 0.5 the threshold\n",
        "            # if y < 0.5 the output is zero, otherwise is zero\n",
        "            self.pred.append( np.heaviside(  self.z[-1] - 0.5, 1)[0] ) # NB: self.z[-1]  is the last element of the self.z list\n",
        "\n",
        "            print('Predictions done. \\n')\n",
        "\n",
        "        return np.array(self.pred)\n",
        "   \n",
        "    '''\n",
        "    We need a method to retrieve the accuracy for each training data to follow the learning of the ANN\n",
        "    '''\n",
        "    def get_accuracy(self):\n",
        "        return np.array(self.mu)\n",
        "    # This is the averaged version\n",
        "    def get_avg_accuracy(self):\n",
        "        import math\n",
        "        self.batch_loss = []\n",
        "        for i in range(0, 10):\n",
        "            self.loss_avg = 0\n",
        "            # To set the batch in 10 element/batch we use math.ceil method\n",
        "            # int(math.ceil((self.X.shape[0]-10) / 10.0))    - 1\n",
        "            for m in range(0, (int(math.ceil((self.X.shape[0]-10) / 10.0))   )-1):\n",
        "                #self.loss_avg += self.mu[60*i+m]/60\n",
        "                self.loss_avg += self.mu[(int(math.ceil((self.X.shape[0]-10) / 10.0)) )*i + m]/(int(math.ceil((self.X.shape[0]-10) / 10.0)) )\n",
        "            self.batch_loss.append(self.loss_avg)\n",
        "        return np.array(self.batch_loss)\n",
        "    \n",
        "    '''\n",
        "    Method to set the learning rate\n",
        "    '''\n",
        "    def set_learning_rate(self, et=1):\n",
        "        self.eta = et\n",
        "        \n",
        "        \n",
        "'''\n",
        "layers class\n",
        "'''\n",
        "class layers :\n",
        "    '''\n",
        "    Layer method: used to call standar layers to add. \n",
        "    Easily generalizable to more general layers (Pooling and Convolutional layers)\n",
        "    '''        \n",
        "    def layer(p=4, activation = 'ReLU'):\n",
        "        return (p, activation)\n",
        "\n",
        "'''\n",
        "Activation functions class\n",
        "'''\n",
        "class Activation_function(ANN):\n",
        "  def __init__(self) :\n",
        "        super().__init__()\n",
        "        \n",
        "        '''\n",
        "        Define the sigmoid activator; we ask if we want the sigmoid or its derivative\n",
        "        '''\n",
        "        def sigmoid_act(x, der=False):\n",
        "            if (der==True) : #derivative of the sigmoid\n",
        "                f = 1/(1+ np.exp(- x))*(1-1/(1+ np.exp(- x)))\n",
        "            else : # sigmoid\n",
        "                f = 1/(1+ np.exp(- x))\n",
        "            return f\n",
        "\n",
        "        '''\n",
        "        Define the Rectifier Linear Unit (ReLU)\n",
        "        '''\n",
        "        def ReLU_act(x, der=False):\n",
        "            if (der == True): # the derivative of the ReLU is the Heaviside Theta\n",
        "                f = np.heaviside(x, 1)\n",
        "            else :\n",
        "                f = np.maximum(x, 0)\n",
        "            return f\n",
        "    \n",
        "        def list_act():\n",
        "            return ['sigmoid', 'ReLU']\n",
        "        def get_act(string = 'ReLU'):\n",
        "            if string == 'ReLU':\n",
        "                return ReLU_act\n",
        "            elif string == 'sigmoid':\n",
        "                return sigmoid_act\n",
        "            else :\n",
        "                return sigmoid_act    \n",
        "        \n",
        "\n",
        "        "
      ],
      "execution_count": null,
      "outputs": []
    },
    {
      "cell_type": "markdown",
      "metadata": {
        "id": "gE4bCszWe7CC",
        "colab_type": "text"
      },
      "source": [
        "Instantiating the class and Fitting the model\n",
        "\n",
        "Now we instantiate our model, that will be exactly the same as before, i.e. a two-hidden layer with 8 and 4 neurons respectively and with ReLU activation plus an OutPut layer with a single neuron with sigmoid activation.\n",
        "\n",
        "We will set the learning rate and then fit the model; after that we recover the accuracy history (even in the averaged over 10 batches) and finally we compute the predictions."
      ]
    },
    {
      "cell_type": "code",
      "metadata": {
        "id": "hNjquWmJe8JA",
        "colab_type": "code",
        "colab": {}
      },
      "source": [
        "model = ANN()\n",
        "\n",
        "model.add(layers.layer(8, 'ReLU'))\n",
        "model.add(layers.layer(4, 'ReLU'))\n",
        "model.add(layers.layer(1, 'sigmoid'))\n",
        "\n",
        "model.set_learning_rate(0.8)\n",
        "\n",
        "model.Fit(train_x, train_y)\n",
        "acc_val = model.get_accuracy()\n",
        "acc_avg_val = model.get_avg_accuracy()\n",
        "\n",
        "predictions = model.predict(test_x)"
      ],
      "execution_count": null,
      "outputs": []
    },
    {
      "cell_type": "markdown",
      "metadata": {
        "id": "LBYxsvoOWpnm",
        "colab_type": "text"
      },
      "source": [
        "## **4. Random Forest**"
      ]
    },
    {
      "cell_type": "code",
      "metadata": {
        "id": "stxhYelKW0CB",
        "colab_type": "code",
        "colab": {}
      },
      "source": [
        "#Create a Gaussian Classifier\n",
        "clf=RandomForestClassifier(n_estimators=100)\n",
        "\n",
        "#Train the model using the training sets\n",
        "clf.fit(X_train,y_train)\n",
        "\n",
        "RF_pred=clf.predict(X_test)"
      ],
      "execution_count": 66,
      "outputs": []
    },
    {
      "cell_type": "code",
      "metadata": {
        "id": "zel9hG_cXmWw",
        "colab_type": "code",
        "colab": {
          "base_uri": "https://localhost:8080/",
          "height": 34
        },
        "outputId": "4d7246f7-bbfc-4cab-9703-f2f00f4b0fa4"
      },
      "source": [
        "# Model Accuracy, how often is the classifier correct?\n",
        "print(\"Accuracy:\",metrics.accuracy_score(y_test, RF_pred))"
      ],
      "execution_count": 67,
      "outputs": [
        {
          "output_type": "stream",
          "text": [
            "Accuracy: 0.9690834473324214\n"
          ],
          "name": "stdout"
        }
      ]
    },
    {
      "cell_type": "markdown",
      "metadata": {
        "id": "JmCCjg3eYr9x",
        "colab_type": "text"
      },
      "source": [
        "# **ROC Curve for Random Forest**\n",
        "\n",
        "The ROC curve shows the trade-off between sensitivity (or TPR) and specificity (1 – FPR). Classifiers that give curves closer to the top-left corner indicate a better performance"
      ]
    },
    {
      "cell_type": "code",
      "metadata": {
        "id": "OQqoyc1JX9Tb",
        "colab_type": "code",
        "colab": {
          "base_uri": "https://localhost:8080/",
          "height": 320
        },
        "outputId": "dbf00a58-5e7b-4fee-ff72-fed5938e32a9"
      },
      "source": [
        "ns_probs = [0 for _ in range(len(y_test))]\n",
        "# predict probabilities\n",
        "lr_probs = clf.predict_proba(X_test)\n",
        "# keep probabilities for the positive outcome only\n",
        "lr_probs = lr_probs[:, 1]\n",
        "# calculate scores\n",
        "ns_auc = roc_auc_score(y_test, ns_probs)\n",
        "lr_auc = roc_auc_score(y_test, lr_probs)\n",
        "# summarize scores\n",
        "print('No Skill: ROC AUC=%.3f' % (ns_auc))\n",
        "print('Logistic: ROC AUC=%.3f' % (lr_auc))\n",
        "# calculate roc curves\n",
        "ns_fpr, ns_tpr, _ = roc_curve(y_test, ns_probs)\n",
        "lr_fpr, lr_tpr, _ = roc_curve(y_test, lr_probs)\n",
        "# plot the roc curve for the model\n",
        "pyplot.plot(ns_fpr, ns_tpr, linestyle='--', label='No Skill')\n",
        "pyplot.plot(lr_fpr, lr_tpr, marker='.', label='Random Forest')\n",
        "# axis labels\n",
        "pyplot.xlabel('False Positive Rate')\n",
        "pyplot.ylabel('True Positive Rate')\n",
        "# show the legend\n",
        "pyplot.legend()\n",
        "# show the plot\n",
        "pyplot.show()"
      ],
      "execution_count": 77,
      "outputs": [
        {
          "output_type": "stream",
          "text": [
            "No Skill: ROC AUC=0.500\n",
            "Logistic: ROC AUC=0.996\n"
          ],
          "name": "stdout"
        },
        {
          "output_type": "display_data",
          "data": {
            "image/png": "[encoded data removed]",
            "text/plain": [
              "<Figure size 432x288 with 1 Axes>"
            ]
          },
          "metadata": {
            "tags": []
          }
        }
      ]
    },
    {
      "cell_type": "markdown",
      "metadata": {
        "id": "C29c6svuZjHZ",
        "colab_type": "text"
      },
      "source": [
        "## **5. Decision Tree**"
      ]
    },
    {
      "cell_type": "markdown",
      "metadata": {
        "id": "GproH90VZpVx",
        "colab_type": "text"
      },
      "source": [
        "* max_depth: Maximum depth of the tree (double).\n",
        "* row_subsample: Proportion of observations to consider (double).\n",
        "* max_features: Proportion of columns (features) to consider in each level (double)."
      ]
    },
    {
      "cell_type": "code",
      "metadata": {
        "id": "6nXClXrBZoFu",
        "colab_type": "code",
        "colab": {}
      },
      "source": [
        "from scipy.stats import randint\n",
        "max_depth_value = [3, None]\n",
        "max_features_value =  randint(1, 4)\n",
        "min_samples_leaf_value = randint(1, 4)\n",
        "criterion_value = [\"gini\", \"entropy\"]"
      ],
      "execution_count": 70,
      "outputs": []
    },
    {
      "cell_type": "code",
      "metadata": {
        "id": "IcJKv7tvZ8IF",
        "colab_type": "code",
        "colab": {}
      },
      "source": [
        "param_grid = dict(max_depth = max_depth_value,\n",
        "                  max_features = max_features_value,\n",
        "                  min_samples_leaf = min_samples_leaf_value,\n",
        "                  criterion = criterion_value)"
      ],
      "execution_count": 71,
      "outputs": []
    },
    {
      "cell_type": "code",
      "metadata": {
        "id": "oX92aU-KaACe",
        "colab_type": "code",
        "colab": {
          "base_uri": "https://localhost:8080/",
          "height": 52
        },
        "outputId": "de9a604d-90d4-47e7-d69d-f1d34e6d9bf3"
      },
      "source": [
        "model_CART = DecisionTreeClassifier()\n",
        "CART_RandSearch = RandomSearch(X_train,y_train,model_CART,param_grid)\n",
        "Prediction_CART = CART_RandSearch.BestModelPridict(X_test)\n",
        "print(\"Accuracy:\",metrics.accuracy_score(y_test, Prediction_CART))"
      ],
      "execution_count": 72,
      "outputs": [
        {
          "output_type": "stream",
          "text": [
            "Best: 0.948211 using {'criterion': 'entropy', 'max_depth': None, 'max_features': 1, 'min_samples_leaf': 1}\n",
            "Accuracy: 0.9430916552667579\n"
          ],
          "name": "stdout"
        }
      ]
    },
    {
      "cell_type": "code",
      "metadata": {
        "id": "hBj_ahCtcnP2",
        "colab_type": "code",
        "colab": {
          "base_uri": "https://localhost:8080/",
          "height": 137
        },
        "outputId": "8270ab63-8728-4238-a4b9-3a09b8644189"
      },
      "source": [
        "pd.crosstab(pd.Series(Prediction_CART,name=\"Predicted\"),\n",
        "            pd.Series(y, name=\"Actual\"))"
      ],
      "execution_count": 73,
      "outputs": [
        {
          "output_type": "execute_result",
          "data": {
            "text/html": [
              "<div>\n",
              "<style scoped>\n",
              "    .dataframe tbody tr th:only-of-type {\n",
              "        vertical-align: middle;\n",
              "    }\n",
              "\n",
              "    .dataframe tbody tr th {\n",
              "        vertical-align: top;\n",
              "    }\n",
              "\n",
              "    .dataframe thead th {\n",
              "        text-align: right;\n",
              "    }\n",
              "</style>\n",
              "<table border=\"1\" class=\"dataframe\">\n",
              "  <thead>\n",
              "    <tr style=\"text-align: right;\">\n",
              "      <th>Actual</th>\n",
              "      <th>0</th>\n",
              "      <th>1</th>\n",
              "    </tr>\n",
              "    <tr>\n",
              "      <th>Predicted</th>\n",
              "      <th></th>\n",
              "      <th></th>\n",
              "    </tr>\n",
              "  </thead>\n",
              "  <tbody>\n",
              "    <tr>\n",
              "      <th>0</th>\n",
              "      <td>3196</td>\n",
              "      <td>97</td>\n",
              "    </tr>\n",
              "    <tr>\n",
              "      <th>1</th>\n",
              "      <td>3898</td>\n",
              "      <td>119</td>\n",
              "    </tr>\n",
              "  </tbody>\n",
              "</table>\n",
              "</div>"
            ],
            "text/plain": [
              "Actual        0    1\n",
              "Predicted           \n",
              "0          3196   97\n",
              "1          3898  119"
            ]
          },
          "metadata": {
            "tags": []
          },
          "execution_count": 73
        }
      ]
    },
    {
      "cell_type": "code",
      "metadata": {
        "id": "bUeDdKKYc0aS",
        "colab_type": "code",
        "colab": {
          "base_uri": "https://localhost:8080/",
          "height": 176
        },
        "outputId": "ecb7ce98-755e-4a81-a194-3204757b9032"
      },
      "source": [
        "DC_report = classification_report(y_test, Prediction_CART)\n",
        "print(DC_report)"
      ],
      "execution_count": 74,
      "outputs": [
        {
          "output_type": "stream",
          "text": [
            "              precision    recall  f1-score   support\n",
            "\n",
            "           0       1.00      0.89      0.94      3705\n",
            "           1       0.90      1.00      0.95      3605\n",
            "\n",
            "    accuracy                           0.94      7310\n",
            "   macro avg       0.95      0.94      0.94      7310\n",
            "weighted avg       0.95      0.94      0.94      7310\n",
            "\n"
          ],
          "name": "stdout"
        }
      ]
    },
    {
      "cell_type": "code",
      "metadata": {
        "id": "_wP6AEmfdezL",
        "colab_type": "code",
        "colab": {}
      },
      "source": [
        "confusion_matrix"
      ],
      "execution_count": null,
      "outputs": []
    },
    {
      "cell_type": "markdown",
      "metadata": {
        "id": "OQr4JDCGdsDn",
        "colab_type": "text"
      },
      "source": [
        "**Intepretating Confusion Matrix**\n",
        "\n",
        "\n",
        "|  | Predicted: No | Predicted Yes |\n",
        "| --- | --- | --- |\n",
        "| Actual No |TN: 3569  | FP: 45 |\n",
        "|  |  |  |\n",
        "| Actual Yes |FN: 409  | TP: 96 |\n",
        "\n",
        "1. Correct predictions: 3569 + 96 = 3665\n",
        "\n",
        "2. Wrong Predictions: 409+ 45 = 454"
      ]
    }
  ]
}